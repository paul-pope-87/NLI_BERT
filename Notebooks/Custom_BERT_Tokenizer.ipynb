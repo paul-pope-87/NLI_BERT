{
 "cells": [
  {
   "cell_type": "markdown",
   "id": "f46a22e9",
   "metadata": {},
   "source": [
    "<h1> Training a Custom BERT Tokenizer </h1>\n",
    "\n",
    "After seeing how many tokens in the bert-base tokenizer are unused in the dataset, I decided to train a new one over the whole corpus to avoid sparse frequencies.\n",
    "\n",
    "help from: https://huggingface.co/course/chapter6/2"
   ]
  },
  {
   "cell_type": "code",
   "execution_count": 3,
   "id": "d18d4c96",
   "metadata": {},
   "outputs": [],
   "source": [
    "#use pyto_env kernel, pyto env.\n",
    "\n",
    "import os\n",
    "import pandas as pd\n",
    "from transformers import AutoTokenizer"
   ]
  },
  {
   "cell_type": "code",
   "execution_count": 57,
   "id": "756bd249",
   "metadata": {},
   "outputs": [],
   "source": [
    "project_dir = '/Users/paulp/Library/CloudStorage/OneDrive-UniversityofEasternFinland/UEF/Thesis'\n",
    "data_dir = os.path.join(project_dir, 'Data')\n",
    "model_dir = os.path.join(project_dir, 'Models')\n",
    "os.chdir(data_dir)\n",
    "\n",
    "dataset = pd.read_csv('masked_data_set.csv')['Text']\n",
    "\n",
    "# additional special tokens\n",
    "with open('spec_tokens_ne.txt', 'rb') as file:\n",
    "    spec_tokens = pickle.load(file)\n",
    "spec_tokens = [a for a in spec_tokens if '-' not in a]\n"
   ]
  },
  {
   "cell_type": "code",
   "execution_count": 53,
   "id": "97fa8274",
   "metadata": {},
   "outputs": [
    {
     "name": "stderr",
     "output_type": "stream",
     "text": [
      "Special tokens have been added in the vocabulary, make sure the associated word embeddings are fine-tuned or trained.\n"
     ]
    }
   ],
   "source": [
    "old_tokenizer = AutoTokenizer.from_pretrained(\"bert-base-uncased\",\n",
    "                                             additional_special_tokens = spec_tokens)\n",
    "def get_training_corpus(dataset, batch_size):\n",
    "    for start_idx in range(0, len(dataset), batch_size):\n",
    "        samples = dataset[start_idx : start_idx + batch_size]\n",
    "        yield samples"
   ]
  },
  {
   "cell_type": "code",
   "execution_count": 54,
   "id": "48f9cbb6",
   "metadata": {},
   "outputs": [],
   "source": [
    "g = get_training_corpus(dataset, 10)"
   ]
  },
  {
   "cell_type": "code",
   "execution_count": 55,
   "id": "2fb113fa",
   "metadata": {},
   "outputs": [
    {
     "name": "stdout",
     "output_type": "stream",
     "text": [
      "\n",
      "\n",
      "\n"
     ]
    }
   ],
   "source": [
    "new_tokenizer = old_tokenizer.train_new_from_iterator(g, 22500)"
   ]
  },
  {
   "cell_type": "code",
   "execution_count": 58,
   "id": "85af32e3",
   "metadata": {},
   "outputs": [
    {
     "data": {
      "text/plain": [
       "('custom_bert_tokenizer/tokenizer_config.json',\n",
       " 'custom_bert_tokenizer/special_tokens_map.json',\n",
       " 'custom_bert_tokenizer/vocab.txt',\n",
       " 'custom_bert_tokenizer/added_tokens.json',\n",
       " 'custom_bert_tokenizer/tokenizer.json')"
      ]
     },
     "execution_count": 58,
     "metadata": {},
     "output_type": "execute_result"
    }
   ],
   "source": [
    "os.chdir(model_dir)\n",
    "new_tokenizer.save_pretrained(\"custom_bert_tokenizer\")"
   ]
  },
  {
   "cell_type": "code",
   "execution_count": 68,
   "id": "d070f4fc",
   "metadata": {},
   "outputs": [
    {
     "name": "stdout",
     "output_type": "stream",
     "text": [
      "length of old vocab:  30529 \n",
      " length of new vocab:  22500\n"
     ]
    }
   ],
   "source": [
    "print('length of old vocab: ', len(old_tokenizer.vocab), '\\n length of new vocab: ', len(new_tokenizer.vocab))"
   ]
  },
  {
   "cell_type": "markdown",
   "id": "0e0acd1c",
   "metadata": {},
   "source": [
    "<h1>Results </h1>\n",
    "\n",
    "I was able to trim roughly 8000 unnecessary tokens from the vocabulary, which may help speed up later trainings."
   ]
  }
 ],
 "metadata": {
  "kernelspec": {
   "display_name": "pyto_env",
   "language": "python",
   "name": "pyto"
  },
  "language_info": {
   "codemirror_mode": {
    "name": "ipython",
    "version": 3
   },
   "file_extension": ".py",
   "mimetype": "text/x-python",
   "name": "python",
   "nbconvert_exporter": "python",
   "pygments_lexer": "ipython3",
   "version": "3.9.13"
  }
 },
 "nbformat": 4,
 "nbformat_minor": 5
}
