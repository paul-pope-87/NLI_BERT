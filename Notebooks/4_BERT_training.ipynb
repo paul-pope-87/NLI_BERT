{
 "cells": [
  {
   "cell_type": "code",
   "execution_count": null,
   "metadata": {
    "colab": {
     "base_uri": "https://localhost:8080/"
    },
    "id": "JI8iEp2Ve8zs",
    "outputId": "bc0557c8-ead6-463b-fd27-24908560499a"
   },
   "outputs": [
    {
     "name": "stdout",
     "output_type": "stream",
     "text": [
      "Looking in indexes: https://pypi.org/simple, https://us-python.pkg.dev/colab-wheels/public/simple/\n",
      "Requirement already satisfied: torchmetrics in /usr/local/lib/python3.9/dist-packages (0.11.4)\n",
      "Requirement already satisfied: numpy>=1.17.2 in /usr/local/lib/python3.9/dist-packages (from torchmetrics) (1.22.4)\n",
      "Requirement already satisfied: torch>=1.8.1 in /usr/local/lib/python3.9/dist-packages (from torchmetrics) (2.0.0+cu118)\n",
      "Requirement already satisfied: packaging in /usr/local/lib/python3.9/dist-packages (from torchmetrics) (23.0)\n",
      "Requirement already satisfied: triton==2.0.0 in /usr/local/lib/python3.9/dist-packages (from torch>=1.8.1->torchmetrics) (2.0.0)\n",
      "Requirement already satisfied: filelock in /usr/local/lib/python3.9/dist-packages (from torch>=1.8.1->torchmetrics) (3.11.0)\n",
      "Requirement already satisfied: jinja2 in /usr/local/lib/python3.9/dist-packages (from torch>=1.8.1->torchmetrics) (3.1.2)\n",
      "Requirement already satisfied: typing-extensions in /usr/local/lib/python3.9/dist-packages (from torch>=1.8.1->torchmetrics) (4.5.0)\n",
      "Requirement already satisfied: networkx in /usr/local/lib/python3.9/dist-packages (from torch>=1.8.1->torchmetrics) (3.1)\n",
      "Requirement already satisfied: sympy in /usr/local/lib/python3.9/dist-packages (from torch>=1.8.1->torchmetrics) (1.11.1)\n",
      "Requirement already satisfied: cmake in /usr/local/lib/python3.9/dist-packages (from triton==2.0.0->torch>=1.8.1->torchmetrics) (3.25.2)\n",
      "Requirement already satisfied: lit in /usr/local/lib/python3.9/dist-packages (from triton==2.0.0->torch>=1.8.1->torchmetrics) (16.0.1)\n",
      "Requirement already satisfied: MarkupSafe>=2.0 in /usr/local/lib/python3.9/dist-packages (from jinja2->torch>=1.8.1->torchmetrics) (2.1.2)\n",
      "Requirement already satisfied: mpmath>=0.19 in /usr/local/lib/python3.9/dist-packages (from sympy->torch>=1.8.1->torchmetrics) (1.3.0)\n",
      "Looking in indexes: https://pypi.org/simple, https://us-python.pkg.dev/colab-wheels/public/simple/\n",
      "Requirement already satisfied: transformers in /usr/local/lib/python3.9/dist-packages (4.28.1)\n",
      "Requirement already satisfied: packaging>=20.0 in /usr/local/lib/python3.9/dist-packages (from transformers) (23.0)\n",
      "Requirement already satisfied: pyyaml>=5.1 in /usr/local/lib/python3.9/dist-packages (from transformers) (6.0)\n",
      "Requirement already satisfied: requests in /usr/local/lib/python3.9/dist-packages (from transformers) (2.27.1)\n",
      "Requirement already satisfied: filelock in /usr/local/lib/python3.9/dist-packages (from transformers) (3.11.0)\n",
      "Requirement already satisfied: numpy>=1.17 in /usr/local/lib/python3.9/dist-packages (from transformers) (1.22.4)\n",
      "Requirement already satisfied: regex!=2019.12.17 in /usr/local/lib/python3.9/dist-packages (from transformers) (2022.10.31)\n",
      "Requirement already satisfied: tokenizers!=0.11.3,<0.14,>=0.11.1 in /usr/local/lib/python3.9/dist-packages (from transformers) (0.13.3)\n",
      "Requirement already satisfied: tqdm>=4.27 in /usr/local/lib/python3.9/dist-packages (from transformers) (4.65.0)\n",
      "Requirement already satisfied: huggingface-hub<1.0,>=0.11.0 in /usr/local/lib/python3.9/dist-packages (from transformers) (0.13.4)\n",
      "Requirement already satisfied: typing-extensions>=3.7.4.3 in /usr/local/lib/python3.9/dist-packages (from huggingface-hub<1.0,>=0.11.0->transformers) (4.5.0)\n",
      "Requirement already satisfied: urllib3<1.27,>=1.21.1 in /usr/local/lib/python3.9/dist-packages (from requests->transformers) (1.26.15)\n",
      "Requirement already satisfied: certifi>=2017.4.17 in /usr/local/lib/python3.9/dist-packages (from requests->transformers) (2022.12.7)\n",
      "Requirement already satisfied: idna<4,>=2.5 in /usr/local/lib/python3.9/dist-packages (from requests->transformers) (3.4)\n",
      "Requirement already satisfied: charset-normalizer~=2.0.0 in /usr/local/lib/python3.9/dist-packages (from requests->transformers) (2.0.12)\n"
     ]
    }
   ],
   "source": [
    "!pip install torchmetrics\n",
    "!pip install transformers"
   ]
  },
  {
   "cell_type": "code",
   "execution_count": null,
   "metadata": {
    "id": "7rC14C1revAa"
   },
   "outputs": [],
   "source": [
    "#use pyto_env kernel, pyto env.\n",
    "\n",
    "import os\n",
    "import json\n",
    "import pandas as pd\n",
    "import importlib\n",
    "import pickle\n",
    "import numpy as np\n",
    "\n",
    "import torch\n",
    "from torch.optim import AdamW\n",
    "from torch.optim.lr_scheduler import ReduceLROnPlateau\n",
    "from torch.utils.data import (TensorDataset,\n",
    "                              DataLoader,\n",
    "                              RandomSampler,\n",
    "                              SequentialSampler)\n",
    "from torchmetrics import F1Score\n",
    "\n",
    "from transformers import (AutoModel,\n",
    "                          AutoConfig,\n",
    "                          BertModel,\n",
    "                          BertTokenizer,\n",
    "                          BertForSequenceClassification,\n",
    "                          get_linear_schedule_with_warmup)\n",
    "\n"
   ]
  },
  {
   "cell_type": "code",
   "execution_count": null,
   "metadata": {
    "colab": {
     "base_uri": "https://localhost:8080/"
    },
    "id": "bV5mcXW_BMAa",
    "outputId": "0276d1d1-ace4-488c-94dd-6156a6430409"
   },
   "outputs": [
    {
     "name": "stdout",
     "output_type": "stream",
     "text": [
      "Drive already mounted at /content/drive; to attempt to forcibly remount, call drive.mount(\"/content/drive\", force_remount=True).\n"
     ]
    }
   ],
   "source": [
    "from google.colab import drive\n",
    "drive.mount('/content/drive')"
   ]
  },
  {
   "cell_type": "code",
   "execution_count": null,
   "metadata": {
    "id": "fGlPN-NNRotl"
   },
   "outputs": [],
   "source": [
    "project_dir = \"/content/drive/MyDrive/Thesis\"\n",
    "data_dir = os.path.join(project_dir,\"Data\")\n",
    "model_dir = os.path.join(project_dir, \"Models\")\n",
    "scripts_dir = os.path.join(project_dir, \"Notebooks\")\n",
    "\n",
    "os.chdir(scripts_dir)\n",
    "\n",
    "import common\n",
    "from common import (ClassificationDataset,\n",
    "                    BERT_fine_tune_validation,\n",
    "                    BERT_fine_tune_train,\n",
    "                    plot_confusion_matrix,\n",
    "                   train_test_val_split,\n",
    "                   get_weights)\n",
    "\n",
    "#import common_metrics\n",
    "#from common_metrics import plot_one_vs_one_roc\n",
    "\n",
    "os.chdir(data_dir)\n",
    "\n",
    "#L1 to integer map for loading categories into BERT\n",
    "with open('target_idx.json') as f:\n",
    "    data = f.read()\n",
    "target_idx = json.loads(data)\n",
    "idx_target = {target_idx[a]:a for a in target_idx.keys()}\n",
    "\n",
    "\n",
    "# additional special tokens\n",
    "with open('spec_tokens_ne.txt', 'rb') as file:\n",
    "    spec_tokens = pickle.load(file)\n",
    "spec_tokens = [a for a in spec_tokens if '-' not in a]\n",
    "\n",
    "# CHANGE to k-split dataset\n",
    "full_dataset = pd.read_csv('masked_data_set.csv', index_col = 0)\n"
   ]
  },
  {
   "cell_type": "code",
   "execution_count": null,
   "metadata": {
    "colab": {
     "base_uri": "https://localhost:8080/"
    },
    "id": "O_sT_A4rTrFr",
    "outputId": "7edd4390-051f-4ab5-8602-00eaac566ee2"
   },
   "outputs": [
    {
     "name": "stdout",
     "output_type": "stream",
     "text": [
      "GE    0.911224\n",
      "SP    0.941159\n",
      "CN    0.956156\n",
      "RU    1.039283\n",
      "JP    1.065081\n",
      "AR    1.087097\n",
      "Name: Target, dtype: float64\n"
     ]
    }
   ],
   "source": [
    "# hyperparameters and variables universal to this project\n",
    "\n",
    "max_len = 512\n",
    "batch_size = 8\n",
    "lr = 1e-4 #just to start with the pretrained, later will be annealed\n",
    "n_warmup = 0\n",
    "epochs = 20\n",
    "n_classes = len(target_idx.keys())\n",
    "metric = F1Score('multiclass', num_classes=n_classes, average = 'macro')\n",
    "dropout = 0.0\n",
    "\n",
    "device = torch.device('cuda' if torch.cuda.is_available() else 'cpu')\n",
    "\n",
    "weights = get_weights(full_dataset, target_idx, n_classes = n_classes)\n",
    "weighted_cross_entropy_loss = torch.nn.CrossEntropyLoss(weight=weights)\n",
    "\n",
    "# load the custom tokenizer\n",
    "os.chdir(model_dir)\n",
    "bert_tokenizer = BertTokenizer.from_pretrained('custom_bert_tokenizer')\n",
    "                                              #additional_special_tokens = spec_tokens)"
   ]
  },
  {
   "cell_type": "code",
   "execution_count": null,
   "metadata": {
    "colab": {
     "base_uri": "https://localhost:8080/",
     "height": 423
    },
    "id": "2eBa6bfX3vxI",
    "outputId": "5eea0af8-bc9e-4111-fd68-4b902c4f41a6"
   },
   "outputs": [
    {
     "data": {
      "text/html": [
       "\n",
       "  <div id=\"df-e59762fd-a07c-4355-a5aa-cdd515f07280\">\n",
       "    <div class=\"colab-df-container\">\n",
       "      <div>\n",
       "<style scoped>\n",
       "    .dataframe tbody tr th:only-of-type {\n",
       "        vertical-align: middle;\n",
       "    }\n",
       "\n",
       "    .dataframe tbody tr th {\n",
       "        vertical-align: top;\n",
       "    }\n",
       "\n",
       "    .dataframe thead th {\n",
       "        text-align: right;\n",
       "    }\n",
       "</style>\n",
       "<table border=\"1\" class=\"dataframe\">\n",
       "  <thead>\n",
       "    <tr style=\"text-align: right;\">\n",
       "      <th></th>\n",
       "      <th>Corpus</th>\n",
       "      <th>Target</th>\n",
       "      <th>Text</th>\n",
       "      <th>Length</th>\n",
       "      <th>k</th>\n",
       "    </tr>\n",
       "  </thead>\n",
       "  <tbody>\n",
       "    <tr>\n",
       "      <th>12</th>\n",
       "      <td>ICLE</td>\n",
       "      <td>CN</td>\n",
       "      <td>In the Past ten years, the development of info...</td>\n",
       "      <td>514</td>\n",
       "      <td>3</td>\n",
       "    </tr>\n",
       "    <tr>\n",
       "      <th>17</th>\n",
       "      <td>ICLE</td>\n",
       "      <td>GE</td>\n",
       "      <td>Television commercial always interrupts a film...</td>\n",
       "      <td>486</td>\n",
       "      <td>3</td>\n",
       "    </tr>\n",
       "    <tr>\n",
       "      <th>49</th>\n",
       "      <td>ICLE</td>\n",
       "      <td>JP</td>\n",
       "      <td>I don't think all of the &lt;MISC&gt; students must ...</td>\n",
       "      <td>666</td>\n",
       "      <td>3</td>\n",
       "    </tr>\n",
       "    <tr>\n",
       "      <th>58</th>\n",
       "      <td>ICLE</td>\n",
       "      <td>RU</td>\n",
       "      <td>The question of dreaming and imagination alway...</td>\n",
       "      <td>1009</td>\n",
       "      <td>3</td>\n",
       "    </tr>\n",
       "    <tr>\n",
       "      <th>71</th>\n",
       "      <td>ICLE</td>\n",
       "      <td>CN</td>\n",
       "      <td>1. \\n\\n Before specially talking about tourism...</td>\n",
       "      <td>640</td>\n",
       "      <td>3</td>\n",
       "    </tr>\n",
       "    <tr>\n",
       "      <th>...</th>\n",
       "      <td>...</td>\n",
       "      <td>...</td>\n",
       "      <td>...</td>\n",
       "      <td>...</td>\n",
       "      <td>...</td>\n",
       "    </tr>\n",
       "    <tr>\n",
       "      <th>16492</th>\n",
       "      <td>TOEFL11</td>\n",
       "      <td>AR</td>\n",
       "      <td>students now all over the world are receving t...</td>\n",
       "      <td>251</td>\n",
       "      <td>3</td>\n",
       "    </tr>\n",
       "    <tr>\n",
       "      <th>16497</th>\n",
       "      <td>TOEFL11</td>\n",
       "      <td>SP</td>\n",
       "      <td>Throughout history, humans have competed and s...</td>\n",
       "      <td>517</td>\n",
       "      <td>3</td>\n",
       "    </tr>\n",
       "    <tr>\n",
       "      <th>16508</th>\n",
       "      <td>TOEFL11</td>\n",
       "      <td>AR</td>\n",
       "      <td>All peaple in this world injoy their life in t...</td>\n",
       "      <td>375</td>\n",
       "      <td>3</td>\n",
       "    </tr>\n",
       "    <tr>\n",
       "      <th>16512</th>\n",
       "      <td>TOEFL11</td>\n",
       "      <td>AR</td>\n",
       "      <td>Most of young peoples nowadays, for some reaso...</td>\n",
       "      <td>383</td>\n",
       "      <td>3</td>\n",
       "    </tr>\n",
       "    <tr>\n",
       "      <th>16519</th>\n",
       "      <td>TOEFL11</td>\n",
       "      <td>CN</td>\n",
       "      <td>Nowadays, more and more people go abroad, no m...</td>\n",
       "      <td>399</td>\n",
       "      <td>3</td>\n",
       "    </tr>\n",
       "  </tbody>\n",
       "</table>\n",
       "<p>1652 rows × 5 columns</p>\n",
       "</div>\n",
       "      <button class=\"colab-df-convert\" onclick=\"convertToInteractive('df-e59762fd-a07c-4355-a5aa-cdd515f07280')\"\n",
       "              title=\"Convert this dataframe to an interactive table.\"\n",
       "              style=\"display:none;\">\n",
       "        \n",
       "  <svg xmlns=\"http://www.w3.org/2000/svg\" height=\"24px\"viewBox=\"0 0 24 24\"\n",
       "       width=\"24px\">\n",
       "    <path d=\"M0 0h24v24H0V0z\" fill=\"none\"/>\n",
       "    <path d=\"M18.56 5.44l.94 2.06.94-2.06 2.06-.94-2.06-.94-.94-2.06-.94 2.06-2.06.94zm-11 1L8.5 8.5l.94-2.06 2.06-.94-2.06-.94L8.5 2.5l-.94 2.06-2.06.94zm10 10l.94 2.06.94-2.06 2.06-.94-2.06-.94-.94-2.06-.94 2.06-2.06.94z\"/><path d=\"M17.41 7.96l-1.37-1.37c-.4-.4-.92-.59-1.43-.59-.52 0-1.04.2-1.43.59L10.3 9.45l-7.72 7.72c-.78.78-.78 2.05 0 2.83L4 21.41c.39.39.9.59 1.41.59.51 0 1.02-.2 1.41-.59l7.78-7.78 2.81-2.81c.8-.78.8-2.07 0-2.86zM5.41 20L4 18.59l7.72-7.72 1.47 1.35L5.41 20z\"/>\n",
       "  </svg>\n",
       "      </button>\n",
       "      \n",
       "  <style>\n",
       "    .colab-df-container {\n",
       "      display:flex;\n",
       "      flex-wrap:wrap;\n",
       "      gap: 12px;\n",
       "    }\n",
       "\n",
       "    .colab-df-convert {\n",
       "      background-color: #E8F0FE;\n",
       "      border: none;\n",
       "      border-radius: 50%;\n",
       "      cursor: pointer;\n",
       "      display: none;\n",
       "      fill: #1967D2;\n",
       "      height: 32px;\n",
       "      padding: 0 0 0 0;\n",
       "      width: 32px;\n",
       "    }\n",
       "\n",
       "    .colab-df-convert:hover {\n",
       "      background-color: #E2EBFA;\n",
       "      box-shadow: 0px 1px 2px rgba(60, 64, 67, 0.3), 0px 1px 3px 1px rgba(60, 64, 67, 0.15);\n",
       "      fill: #174EA6;\n",
       "    }\n",
       "\n",
       "    [theme=dark] .colab-df-convert {\n",
       "      background-color: #3B4455;\n",
       "      fill: #D2E3FC;\n",
       "    }\n",
       "\n",
       "    [theme=dark] .colab-df-convert:hover {\n",
       "      background-color: #434B5C;\n",
       "      box-shadow: 0px 1px 3px 1px rgba(0, 0, 0, 0.15);\n",
       "      filter: drop-shadow(0px 1px 2px rgba(0, 0, 0, 0.3));\n",
       "      fill: #FFFFFF;\n",
       "    }\n",
       "  </style>\n",
       "\n",
       "      <script>\n",
       "        const buttonEl =\n",
       "          document.querySelector('#df-e59762fd-a07c-4355-a5aa-cdd515f07280 button.colab-df-convert');\n",
       "        buttonEl.style.display =\n",
       "          google.colab.kernel.accessAllowed ? 'block' : 'none';\n",
       "\n",
       "        async function convertToInteractive(key) {\n",
       "          const element = document.querySelector('#df-e59762fd-a07c-4355-a5aa-cdd515f07280');\n",
       "          const dataTable =\n",
       "            await google.colab.kernel.invokeFunction('convertToInteractive',\n",
       "                                                     [key], {});\n",
       "          if (!dataTable) return;\n",
       "\n",
       "          const docLinkHtml = 'Like what you see? Visit the ' +\n",
       "            '<a target=\"_blank\" href=https://colab.research.google.com/notebooks/data_table.ipynb>data table notebook</a>'\n",
       "            + ' to learn more about interactive tables.';\n",
       "          element.innerHTML = '';\n",
       "          dataTable['output_type'] = 'display_data';\n",
       "          await google.colab.output.renderOutput(dataTable, element);\n",
       "          const docLink = document.createElement('div');\n",
       "          docLink.innerHTML = docLinkHtml;\n",
       "          element.appendChild(docLink);\n",
       "        }\n",
       "      </script>\n",
       "    </div>\n",
       "  </div>\n",
       "  "
      ],
      "text/plain": [
       "        Corpus Target                                               Text  \\\n",
       "12        ICLE     CN  In the Past ten years, the development of info...   \n",
       "17        ICLE     GE  Television commercial always interrupts a film...   \n",
       "49        ICLE     JP  I don't think all of the <MISC> students must ...   \n",
       "58        ICLE     RU  The question of dreaming and imagination alway...   \n",
       "71        ICLE     CN  1. \\n\\n Before specially talking about tourism...   \n",
       "...        ...    ...                                                ...   \n",
       "16492  TOEFL11     AR  students now all over the world are receving t...   \n",
       "16497  TOEFL11     SP  Throughout history, humans have competed and s...   \n",
       "16508  TOEFL11     AR  All peaple in this world injoy their life in t...   \n",
       "16512  TOEFL11     AR  Most of young peoples nowadays, for some reaso...   \n",
       "16519  TOEFL11     CN  Nowadays, more and more people go abroad, no m...   \n",
       "\n",
       "       Length  k  \n",
       "12        514  3  \n",
       "17        486  3  \n",
       "49        666  3  \n",
       "58       1009  3  \n",
       "71        640  3  \n",
       "...       ... ..  \n",
       "16492     251  3  \n",
       "16497     517  3  \n",
       "16508     375  3  \n",
       "16512     383  3  \n",
       "16519     399  3  \n",
       "\n",
       "[1652 rows x 5 columns]"
      ]
     },
     "execution_count": 5,
     "metadata": {},
     "output_type": "execute_result"
    }
   ],
   "source": [
    "full_dataset.query(\"k == 3\")"
   ]
  },
  {
   "cell_type": "code",
   "execution_count": null,
   "metadata": {
    "id": "LJ13iM-lTrtu"
   },
   "outputs": [],
   "source": [
    "import torch.nn.functional as F\n",
    "from transformers.modeling_outputs import SequenceClassifierOutput\n",
    "import torch.nn as nn\n",
    "\n",
    "class CustomModel(nn.Module):\n",
    "\n",
    "    def __init__(self, num_labels, loss_fn, tokenizer, dropout = 0.10): #checkpoint, num_labels):\n",
    "        super(CustomModel,self).__init__()\n",
    "        self.num_labels = num_labels\n",
    "        #Load Model\n",
    "        self.config = AutoConfig.from_pretrained(\"bert-base-uncased\")\n",
    "        self.model = AutoModel.from_config(self.config) #\n",
    "        self.model.resize_token_embeddings(len(tokenizer))\n",
    "        self.dropout = nn.Dropout(dropout)\n",
    "        self.linear = nn.Linear(512, 1)\n",
    "        self.layer_norm = nn.LayerNorm([768, 1])\n",
    "        self.classifier = nn.Linear(768, num_labels) # load and initialize weights\n",
    "\n",
    "        self.loss_fn = loss_fn\n",
    "\n",
    "    def forward(self, input_ids=None, token_type_ids = None, attention_mask=None,labels=None):\n",
    "        #Extract outputs from the MLM model\n",
    "        outputs = self.model(input_ids=input_ids, token_type_ids = token_type_ids, attention_mask=attention_mask)\n",
    "        #Get Last hidden state\n",
    "        sequence_output = self.dropout(outputs['last_hidden_state'])#[-1])\n",
    "        # condense the 512 tokens into 1 dimension\n",
    "        lin = self.linear(sequence_output.transpose(-2,-1))\n",
    "        # layer norm\n",
    "        normed = self.layer_norm(lin)\n",
    "        # condense the features into 6 class values\n",
    "        logits = self.classifier(normed.transpose(-2,-1)).squeeze(1)\n",
    "\n",
    "        # calculate losses\n",
    "        loss = None\n",
    "        if labels is not None:\n",
    "            loss = self.loss_fn(logits, labels.long())\n",
    "\n",
    "        return SequenceClassifierOutput(loss=loss,\n",
    "                                        logits=logits,\n",
    "                                        hidden_states=outputs.hidden_states,\n",
    "                                        attentions=outputs.attentions)\n"
   ]
  },
  {
   "cell_type": "code",
   "execution_count": null,
   "metadata": {
    "colab": {
     "base_uri": "https://localhost:8080/"
    },
    "id": "eNwVkr0Tg-u9",
    "outputId": "81f20df3-d143-424f-ae7b-d69b42c544b0"
   },
   "outputs": [
    {
     "data": {
      "text/plain": [
       "[{'test': 0, 'val': 1, 'train': [2, 3, 4, 5, 6, 7, 8, 9]},\n",
       " {'test': 1, 'val': 2, 'train': [0, 3, 4, 5, 6, 7, 8, 9]},\n",
       " {'test': 2, 'val': 3, 'train': [0, 1, 4, 5, 6, 7, 8, 9]},\n",
       " {'test': 3, 'val': 4, 'train': [0, 1, 2, 5, 6, 7, 8, 9]},\n",
       " {'test': 4, 'val': 5, 'train': [0, 1, 2, 3, 6, 7, 8, 9]},\n",
       " {'test': 5, 'val': 6, 'train': [0, 1, 2, 3, 4, 7, 8, 9]},\n",
       " {'test': 6, 'val': 7, 'train': [0, 1, 2, 3, 4, 5, 8, 9]},\n",
       " {'test': 7, 'val': 8, 'train': [0, 1, 2, 3, 4, 5, 6, 9]},\n",
       " {'test': 8, 'val': 9, 'train': [0, 1, 2, 3, 4, 5, 6, 7]},\n",
       " {'test': 9, 'val': 0, 'train': [1, 2, 3, 4, 5, 6, 7, 8]}]"
      ]
     },
     "execution_count": 7,
     "metadata": {},
     "output_type": "execute_result"
    }
   ],
   "source": [
    "  # get train-val-test split indices\n",
    "  k = len(full_dataset['k'].unique())\n",
    "  ints = [a for a in range(k)]\n",
    "  splits = []\n",
    "  all_k_stats = []\n",
    "  for a in ints:\n",
    "    split = {}\n",
    "    test = a\n",
    "    split['test'] = test\n",
    "    val = a + 1 if a + 1 in ints else 0\n",
    "    split['val'] = val\n",
    "    train = ints.copy()\n",
    "    train.remove(test)\n",
    "    train.remove(val)\n",
    "    split['train'] = train\n",
    "    splits.append(split)\n",
    "splits"
   ]
  },
  {
   "cell_type": "markdown",
   "metadata": {
    "id": "ePeA2SLTA0m8"
   },
   "source": [
    "<h1> First Round </h1>"
   ]
  },
  {
   "cell_type": "code",
   "execution_count": null,
   "metadata": {
    "id": "Jl9tMzPGFl-A"
   },
   "outputs": [],
   "source": [
    "i = 9\n",
    "split = splits[i]\n",
    "\n",
    "# make dataloader objs\n",
    "train_ds = ClassificationDataset(full_dataset.query(f\"k == {split['train']}\"),\n",
    "                                bert_tokenizer,\n",
    "                                target_idx,\n",
    "                                max_seq_len = max_len)\n",
    "val_ds = ClassificationDataset(full_dataset.query(f\"k == {split['val']}\"),\n",
    "                                bert_tokenizer,\n",
    "                                target_idx,\n",
    "                                max_seq_len = max_len)\n",
    "\n",
    "\n",
    "train_dataloader = DataLoader(\n",
    "                              train_ds,\n",
    "                              sampler = RandomSampler(train_ds),\n",
    "                              batch_size=batch_size)\n",
    "validation_dataloader = DataLoader(\n",
    "                              val_ds,\n",
    "                              sampler = RandomSampler(val_ds),\n",
    "                              batch_size = batch_size)\n",
    "\n",
    "total_steps = len(train_dataloader)*epochs"
   ]
  },
  {
   "cell_type": "code",
   "execution_count": null,
   "metadata": {
    "colab": {
     "base_uri": "https://localhost:8080/",
     "height": 49,
     "referenced_widgets": [
      "e58c57d65e3d468d9f7cdcd079d7586c",
      "7b2adefa290d42bc8a93dde504840236",
      "3b55afa1b186438c931c1d9dbc63893e",
      "8d3af1b47a134d49a5fecd138320a2c1",
      "a7dcc393a85b4f8c8d56a910fa5a301e",
      "1cd65d5210b74fc4a8fe0c4e677ce8af",
      "a72cc6ec594745258b0e836d88e09bf5",
      "fd5bae9602a04f2b92e552e36f3af7c8",
      "9e82ff970f5e4ab4959c64847b092d5e",
      "a26b26b110d445c69dfb4f706d106429",
      "ac0c1376c2ad4fbcbae5b7a127a65d97"
     ]
    },
    "id": "qsgA-q5oWz0N",
    "outputId": "142faf18-2cfe-469b-d702-fb6b1d11cb07"
   },
   "outputs": [
    {
     "data": {
      "application/vnd.jupyter.widget-view+json": {
       "model_id": "e58c57d65e3d468d9f7cdcd079d7586c",
       "version_major": 2,
       "version_minor": 0
      },
      "text/plain": [
       "Downloading (…)lve/main/config.json:   0%|          | 0.00/570 [00:00<?, ?B/s]"
      ]
     },
     "metadata": {},
     "output_type": "display_data"
    }
   ],
   "source": [
    "# set up model and training objects\n",
    "\n",
    "bert_custom_model = CustomModel(\n",
    "                              num_labels = n_classes,\n",
    "                              loss_fn = weighted_cross_entropy_loss,\n",
    "                              tokenizer = bert_tokenizer)\n",
    "bert_custom_model.to(device)\n",
    "\n",
    "optim_bert = AdamW(bert_custom_model.parameters(), lr=lr)\n"
   ]
  },
  {
   "cell_type": "code",
   "execution_count": null,
   "metadata": {
    "colab": {
     "base_uri": "https://localhost:8080/"
    },
    "id": "h-ajk9S_X1D1",
    "outputId": "2394b953-75f3-45c4-9981-88c5f016908c"
   },
   "outputs": [
    {
     "name": "stdout",
     "output_type": "stream",
     "text": [
      "Adjusting learning rate of group 0 to 1.0000e-07.\n"
     ]
    }
   ],
   "source": [
    "scheduler = torch.optim.lr_scheduler.CyclicLR(optim_bert,\n",
    "                                  base_lr = 1e-7,\n",
    "                                  max_lr = 1e-3,\n",
    "                                  step_size_up=1900,\n",
    "                                  step_size_down=2050,\n",
    "                                  mode='triangular',\n",
    "                                  gamma=0.96,\n",
    "                                  scale_fn=None,\n",
    "                                  scale_mode='cycle',\n",
    "                                  cycle_momentum=False,\n",
    "                                  base_momentum=0.8,\n",
    "                                  max_momentum=0.9,\n",
    "                                  last_epoch= -1,\n",
    "                                  verbose=True)"
   ]
  },
  {
   "cell_type": "code",
   "execution_count": null,
   "metadata": {
    "colab": {
     "background_save": true
    },
    "id": "NpoymcMAWqiP"
   },
   "outputs": [],
   "source": [
    "# # call training loop\n",
    "stats_bert = BERT_fine_tune_train(bert_custom_model,\n",
    "                train_dataloader,\n",
    "                validation_dataloader,\n",
    "                device = device,\n",
    "                metric = metric,\n",
    "                optimizer = optim_bert,\n",
    "                scheduler = scheduler,\n",
    "                epochs = epochs,\n",
    "                lr = lr,\n",
    "                n_warmup = n_warmup,\n",
    "                save_path = os.path.join(model_dir, f\"BERT_cyclic_k{str(i)}.pt\")\n",
    "                )\n",
    "\n",
    "with open(f\"train_stats_k{i}.pkl\", \"wb\") as f:\n",
    "  pickle.dump(stats_bert, f)"
   ]
  },
  {
   "cell_type": "markdown",
   "metadata": {
    "id": "Yh9pxv2J-3QZ"
   },
   "source": [
    "<h1> Second Round </h1>\n",
    "Fine-tune on a second run, loading models from checkpoint and decreasing max learning rate."
   ]
  },
  {
   "cell_type": "code",
   "execution_count": null,
   "metadata": {
    "colab": {
     "base_uri": "https://localhost:8080/",
     "height": 84,
     "referenced_widgets": [
      "5fd6f24e23354108a7ef9f50a6af1f89",
      "b17ed5ba32284bdd908f140bd6f1ce1f",
      "b2de0bf5aad84b16b02ab363dffe4662",
      "3fe5c561c7cd4e249f39865a7e61dccf",
      "e6176552fcf5425888e08f728ce70a00",
      "c8a9ac7f19204c339ab358b2f21bfbaf",
      "7dc0d530e3e846c38e63d4c788f01cc2",
      "e8914be7c746474898655b2fb0edfe91",
      "197a5930a86a4905bbb3517020888c6b",
      "86face7c290b423b95d24a5e2ea213d8",
      "a2cba3d0ba3549c3a099ff7ecc0585fe"
     ]
    },
    "id": "_Ej1PX9i3Tdl",
    "outputId": "99a5600f-bbb7-4b6f-a833-133ce0caf385"
   },
   "outputs": [
    {
     "data": {
      "application/vnd.jupyter.widget-view+json": {
       "model_id": "5fd6f24e23354108a7ef9f50a6af1f89",
       "version_major": 2,
       "version_minor": 0
      },
      "text/plain": [
       "Downloading (…)lve/main/config.json:   0%|          | 0.00/570 [00:00<?, ?B/s]"
      ]
     },
     "metadata": {},
     "output_type": "display_data"
    },
    {
     "name": "stdout",
     "output_type": "stream",
     "text": [
      "Adjusting learning rate of group 0 to 1.0000e-08.\n",
      "Adjusting learning rate of group 0 to 1.0000e-08.\n"
     ]
    }
   ],
   "source": [
    "# call the training loop on each k-model so far,\n",
    "# running cyclical learning rate with a lower ceiling and floor\n",
    "\n",
    "os.chdir(model_dir)\n",
    "\n",
    "i=9\n",
    "epochs = 20\n",
    "lr = 1e-5\n",
    "# make dataloader objs\n",
    "train_ds = ClassificationDataset(full_dataset.query(f\"k == {split['train']}\"),\n",
    "                                bert_tokenizer,\n",
    "                                target_idx,\n",
    "                                max_seq_len = max_len)\n",
    "val_ds = ClassificationDataset(full_dataset.query(f\"k == {split['val']}\"),\n",
    "                                bert_tokenizer,\n",
    "                                target_idx,\n",
    "                                max_seq_len = max_len)\n",
    "train_dataloader = DataLoader(\n",
    "                              train_ds,\n",
    "                              sampler = RandomSampler(train_ds),\n",
    "                              batch_size=batch_size)\n",
    "validation_dataloader = DataLoader(\n",
    "                              val_ds,\n",
    "                              sampler = RandomSampler(val_ds),\n",
    "                              batch_size = batch_size)\n",
    "total_steps = len(train_dataloader)*epochs\n",
    "\n",
    "bert_custom_model = CustomModel(num_labels = n_classes,\n",
    "                    loss_fn = weighted_cross_entropy_loss,\n",
    "                    tokenizer = bert_tokenizer,\n",
    "                    dropout = dropout)\n",
    "bert_custom_model.to(device)\n",
    "optim_bert = AdamW(bert_custom_model.parameters(), lr=lr)\n",
    "scheduler = torch.optim.lr_scheduler.CyclicLR(optim_bert,\n",
    "                                  base_lr = 1e-8,\n",
    "                                  max_lr = lr,\n",
    "                                  step_size_up=1900,\n",
    "                                  step_size_down=2050,\n",
    "                                  mode='triangular',\n",
    "                                  gamma=0.96,\n",
    "                                  scale_fn=None,\n",
    "                                  scale_mode='cycle',\n",
    "                                  cycle_momentum=False,\n",
    "                                  base_momentum=0.8,\n",
    "                                  max_momentum=0.9,\n",
    "                                  last_epoch= -1,\n",
    "                                  verbose=True)\n",
    "\n",
    "checkpoint = torch.load(f'BERT_cyclic_k{str(i)}.pt')\n",
    "bert_custom_model.load_state_dict(checkpoint['model_state_dict'])\n",
    "optim_bert.load_state_dict(checkpoint['optimizer_state_dict'])\n",
    "epoch = checkpoint['epoch']\n",
    "loss = checkpoint['loss']\n",
    "bert_custom_model.to(device)\n",
    "optim_bert = AdamW(bert_custom_model.parameters(), lr=lr)\n",
    "scheduler = torch.optim.lr_scheduler.CyclicLR(optim_bert,\n",
    "                                  base_lr = 1e-8,\n",
    "                                  max_lr = lr,\n",
    "                                  step_size_up=1900,\n",
    "                                  step_size_down=2050,\n",
    "                                  mode='triangular',\n",
    "                                  gamma=0.96,\n",
    "                                  scale_fn=None,\n",
    "                                  scale_mode='cycle',\n",
    "                                  cycle_momentum=False,\n",
    "                                  base_momentum=0.8,\n",
    "                                  max_momentum=0.9,\n",
    "                                  last_epoch= -1,\n",
    "                                  verbose=True)\n",
    "\n"
   ]
  },
  {
   "cell_type": "code",
   "execution_count": null,
   "metadata": {
    "id": "KxyJ-XFISuhm"
   },
   "outputs": [],
   "source": []
  },
  {
   "cell_type": "code",
   "execution_count": null,
   "metadata": {
    "id": "mkECy5qmLBrB"
   },
   "outputs": [],
   "source": [
    "lr=1e-4\n",
    "stats_bert = BERT_fine_tune_train(bert_custom_model,\n",
    "                train_dataloader,\n",
    "                validation_dataloader,\n",
    "                device = device,\n",
    "                metric = metric,\n",
    "                optimizer = optim_bert,\n",
    "                scheduler = scheduler,\n",
    "                epochs = epochs,\n",
    "                lr = lr,\n",
    "                n_warmup = n_warmup,\n",
    "                save_path = os.path.join(model_dir, f\"BERT_cyclic_R2_k{str(i)}.pt\")\n",
    "                )\n",
    "\n",
    "with open(f\"train_stats_R2_k{str(i)}.pkl\", \"wb\") as f:\n",
    "  pickle.dump(stats_bert, f)"
   ]
  },
  {
   "cell_type": "markdown",
   "metadata": {
    "id": "UJZ3Ban-SVjd"
   },
   "source": [
    "<h1> Return to BertForSequenceClassification Architecture </h1>\n",
    "\n",
    "The custom model is not compatible with Captum and Shap interpretations.\n",
    "\n",
    "Load the state dict from the Custom Model and retrain k3 for 20 epochs."
   ]
  },
  {
   "cell_type": "code",
   "execution_count": null,
   "metadata": {
    "id": "UXD8v8RKUYGl"
   },
   "outputs": [],
   "source": [
    "# call the training loop on each k-model so far,\n",
    "# running cyclical learning rate with a lower ceiling and floor\n",
    "\n",
    "os.chdir(model_dir)\n",
    "\n",
    "i=3\n",
    "epochs = 20\n",
    "lr = 1e-4\n",
    "# make dataloader objs\n",
    "train_ds = ClassificationDataset(full_dataset.query(f\"k == {split['train']}\"),\n",
    "                                bert_tokenizer,\n",
    "                                target_idx,\n",
    "                                max_seq_len = max_len)\n",
    "val_ds = ClassificationDataset(full_dataset.query(f\"k == {split['val']}\"),\n",
    "                                bert_tokenizer,\n",
    "                                target_idx,\n",
    "                                max_seq_len = max_len)\n",
    "train_dataloader = DataLoader(\n",
    "                              train_ds,\n",
    "                              sampler = RandomSampler(train_ds),\n",
    "                              batch_size=batch_size)\n",
    "validation_dataloader = DataLoader(\n",
    "                              val_ds,\n",
    "                              sampler = RandomSampler(val_ds),\n",
    "                              batch_size = batch_size)\n",
    "total_steps = len(train_dataloader)*epochs"
   ]
  },
  {
   "cell_type": "code",
   "execution_count": null,
   "metadata": {
    "colab": {
     "base_uri": "https://localhost:8080/"
    },
    "id": "i7eL_0uAYRJ7",
    "outputId": "59f6bc58-7a87-4039-aab6-8347161d9349"
   },
   "outputs": [
    {
     "data": {
      "text/plain": [
       "device(type='cuda')"
      ]
     },
     "execution_count": 10,
     "metadata": {},
     "output_type": "execute_result"
    }
   ],
   "source": [
    "device"
   ]
  },
  {
   "cell_type": "code",
   "execution_count": null,
   "metadata": {
    "colab": {
     "base_uri": "https://localhost:8080/"
    },
    "id": "xsFqvMOIJYOB",
    "outputId": "d8a14af1-ecb2-43cc-a569-da987210e532"
   },
   "outputs": [
    {
     "name": "stdout",
     "output_type": "stream",
     "text": [
      "Adjusting learning rate of group 0 to 1.0000e-08.\n"
     ]
    }
   ],
   "source": [
    "bert_custom_model = CustomModel(num_labels = n_classes,\n",
    "                    loss_fn = weighted_cross_entropy_loss,\n",
    "                    tokenizer = bert_tokenizer,\n",
    "                    dropout = dropout)\n",
    "#bert_custom_model.to(device)\n",
    "\n",
    "checkpoint = torch.load(f'BERT_cyclic_R2_k{str(i)}.pt')\n",
    "bert_custom_model.load_state_dict(checkpoint['model_state_dict'])\n",
    "#optim_bert.load_state_dict(checkpoint['optimizer_state_dict'])\n",
    "#epoch = checkpoint['epoch']\n",
    "#loss = checkpoint['loss']\n",
    "#bert_custom_model.to(device)\n",
    "bert_R3 = BertForSequenceClassification(config = bert_custom_model.config)#.to(device)\n",
    "bert_R3.bert.load_state_dict(bert_custom_model.model.state_dict())\n",
    "del(bert_custom_model)\n",
    "bert_R3.to(device)\n",
    "\n",
    "optim_bert = AdamW(bert_R3.parameters(), lr=lr)\n",
    "scheduler = torch.optim.lr_scheduler.CyclicLR(optim_bert,\n",
    "                                  base_lr = 1e-8,\n",
    "                                  max_lr = lr,\n",
    "                                  step_size_up=1900,\n",
    "                                  step_size_down=2050,\n",
    "                                  mode='triangular',\n",
    "                                  gamma=0.96,\n",
    "                                  scale_fn=None,\n",
    "                                  scale_mode='cycle',\n",
    "                                  cycle_momentum=False,\n",
    "                                  base_momentum=0.8,\n",
    "                                  max_momentum=0.9,\n",
    "                                  last_epoch= -1,\n",
    "                                  verbose=True)\n",
    "\n"
   ]
  },
  {
   "cell_type": "code",
   "execution_count": null,
   "metadata": {
    "colab": {
     "base_uri": "https://localhost:8080/"
    },
    "id": "6-9Q6ZnOY5tN",
    "outputId": "a0bd1033-a719-4694-c317-9dd945457dc8"
   },
   "outputs": [
    {
     "data": {
      "text/plain": [
       "BertForSequenceClassification(\n",
       "  (bert): BertModel(\n",
       "    (embeddings): BertEmbeddings(\n",
       "      (word_embeddings): Embedding(22500, 768, padding_idx=0)\n",
       "      (position_embeddings): Embedding(512, 768)\n",
       "      (token_type_embeddings): Embedding(2, 768)\n",
       "      (LayerNorm): LayerNorm((768,), eps=1e-12, elementwise_affine=True)\n",
       "      (dropout): Dropout(p=0.1, inplace=False)\n",
       "    )\n",
       "    (encoder): BertEncoder(\n",
       "      (layer): ModuleList(\n",
       "        (0-11): 12 x BertLayer(\n",
       "          (attention): BertAttention(\n",
       "            (self): BertSelfAttention(\n",
       "              (query): Linear(in_features=768, out_features=768, bias=True)\n",
       "              (key): Linear(in_features=768, out_features=768, bias=True)\n",
       "              (value): Linear(in_features=768, out_features=768, bias=True)\n",
       "              (dropout): Dropout(p=0.1, inplace=False)\n",
       "            )\n",
       "            (output): BertSelfOutput(\n",
       "              (dense): Linear(in_features=768, out_features=768, bias=True)\n",
       "              (LayerNorm): LayerNorm((768,), eps=1e-12, elementwise_affine=True)\n",
       "              (dropout): Dropout(p=0.1, inplace=False)\n",
       "            )\n",
       "          )\n",
       "          (intermediate): BertIntermediate(\n",
       "            (dense): Linear(in_features=768, out_features=3072, bias=True)\n",
       "            (intermediate_act_fn): GELUActivation()\n",
       "          )\n",
       "          (output): BertOutput(\n",
       "            (dense): Linear(in_features=3072, out_features=768, bias=True)\n",
       "            (LayerNorm): LayerNorm((768,), eps=1e-12, elementwise_affine=True)\n",
       "            (dropout): Dropout(p=0.1, inplace=False)\n",
       "          )\n",
       "        )\n",
       "      )\n",
       "    )\n",
       "    (pooler): BertPooler(\n",
       "      (dense): Linear(in_features=768, out_features=768, bias=True)\n",
       "      (activation): Tanh()\n",
       "    )\n",
       "  )\n",
       "  (dropout): Dropout(p=0.1, inplace=False)\n",
       "  (classifier): Linear(in_features=768, out_features=2, bias=True)\n",
       ")"
      ]
     },
     "execution_count": 12,
     "metadata": {},
     "output_type": "execute_result"
    }
   ],
   "source": [
    "bert_R3"
   ]
  },
  {
   "cell_type": "code",
   "execution_count": null,
   "metadata": {
    "colab": {
     "base_uri": "https://localhost:8080/",
     "height": 514
    },
    "id": "0GkQ2RwKUPMz",
    "outputId": "6d949c74-ffb6-43b0-a9f9-95e2d85577be"
   },
   "outputs": [
    {
     "name": "stdout",
     "output_type": "stream",
     "text": [
      "\n",
      "======== Epoch 1 / 20 ========\n",
      "Training...\n"
     ]
    },
    {
     "ename": "RuntimeError",
     "evalue": "ignored",
     "output_type": "error",
     "traceback": [
      "\u001b[0;31m---------------------------------------------------------------------------\u001b[0m",
      "\u001b[0;31mRuntimeError\u001b[0m                              Traceback (most recent call last)",
      "\u001b[0;32m<ipython-input-12-8f922fa1d55b>\u001b[0m in \u001b[0;36m<cell line: 2>\u001b[0;34m()\u001b[0m\n\u001b[1;32m      1\u001b[0m \u001b[0;31m#lr=1e-4\u001b[0m\u001b[0;34m\u001b[0m\u001b[0;34m\u001b[0m\u001b[0m\n\u001b[0;32m----> 2\u001b[0;31m stats_bert = BERT_fine_tune_train(bert_R3,\n\u001b[0m\u001b[1;32m      3\u001b[0m                 \u001b[0mtrain_dataloader\u001b[0m\u001b[0;34m,\u001b[0m\u001b[0;34m\u001b[0m\u001b[0;34m\u001b[0m\u001b[0m\n\u001b[1;32m      4\u001b[0m                 \u001b[0mvalidation_dataloader\u001b[0m\u001b[0;34m,\u001b[0m\u001b[0;34m\u001b[0m\u001b[0;34m\u001b[0m\u001b[0m\n\u001b[1;32m      5\u001b[0m                 \u001b[0mdevice\u001b[0m \u001b[0;34m=\u001b[0m \u001b[0mdevice\u001b[0m\u001b[0;34m,\u001b[0m\u001b[0;34m\u001b[0m\u001b[0;34m\u001b[0m\u001b[0m\n",
      "\u001b[0;32m/content/drive/MyDrive/Thesis/Notebooks/common.py\u001b[0m in \u001b[0;36mBERT_fine_tune_train\u001b[0;34m(classification_model, train_dataloader, validation_dataloader, device, metric, optimizer, scheduler, epochs, lr, n_warmup, save_path)\u001b[0m\n\u001b[1;32m    335\u001b[0m                 \u001b[0mstep_loss\u001b[0m \u001b[0;34m=\u001b[0m \u001b[0;36m0\u001b[0m\u001b[0;34m\u001b[0m\u001b[0;34m\u001b[0m\u001b[0m\n\u001b[1;32m    336\u001b[0m \u001b[0;34m\u001b[0m\u001b[0m\n\u001b[0;32m--> 337\u001b[0;31m             \u001b[0mb_input_ids\u001b[0m \u001b[0;34m=\u001b[0m \u001b[0mbatch\u001b[0m\u001b[0;34m[\u001b[0m\u001b[0;36m0\u001b[0m\u001b[0;34m]\u001b[0m\u001b[0;34m[\u001b[0m\u001b[0;34m'input_ids'\u001b[0m\u001b[0;34m]\u001b[0m\u001b[0;34m.\u001b[0m\u001b[0msqueeze\u001b[0m\u001b[0;34m(\u001b[0m\u001b[0;36m1\u001b[0m\u001b[0;34m)\u001b[0m\u001b[0;34m.\u001b[0m\u001b[0mto\u001b[0m\u001b[0;34m(\u001b[0m\u001b[0mdevice\u001b[0m\u001b[0;34m)\u001b[0m\u001b[0;34m\u001b[0m\u001b[0;34m\u001b[0m\u001b[0m\n\u001b[0m\u001b[1;32m    338\u001b[0m             \u001b[0mb_input_mask\u001b[0m \u001b[0;34m=\u001b[0m \u001b[0mbatch\u001b[0m\u001b[0;34m[\u001b[0m\u001b[0;36m0\u001b[0m\u001b[0;34m]\u001b[0m\u001b[0;34m[\u001b[0m\u001b[0;34m'attention_mask'\u001b[0m\u001b[0;34m]\u001b[0m\u001b[0;34m.\u001b[0m\u001b[0msqueeze\u001b[0m\u001b[0;34m(\u001b[0m\u001b[0;36m1\u001b[0m\u001b[0;34m)\u001b[0m\u001b[0;34m.\u001b[0m\u001b[0mto\u001b[0m\u001b[0;34m(\u001b[0m\u001b[0mdevice\u001b[0m\u001b[0;34m)\u001b[0m\u001b[0;34m\u001b[0m\u001b[0;34m\u001b[0m\u001b[0m\n\u001b[1;32m    339\u001b[0m             \u001b[0mb_token_type_ids\u001b[0m \u001b[0;34m=\u001b[0m \u001b[0mbatch\u001b[0m\u001b[0;34m[\u001b[0m\u001b[0;36m0\u001b[0m\u001b[0;34m]\u001b[0m\u001b[0;34m[\u001b[0m\u001b[0;34m'token_type_ids'\u001b[0m\u001b[0;34m]\u001b[0m\u001b[0;34m.\u001b[0m\u001b[0msqueeze\u001b[0m\u001b[0;34m(\u001b[0m\u001b[0;36m1\u001b[0m\u001b[0;34m)\u001b[0m\u001b[0;34m.\u001b[0m\u001b[0mto\u001b[0m\u001b[0;34m(\u001b[0m\u001b[0mdevice\u001b[0m\u001b[0;34m)\u001b[0m\u001b[0;34m\u001b[0m\u001b[0;34m\u001b[0m\u001b[0m\n",
      "\u001b[0;31mRuntimeError\u001b[0m: CUDA error: device-side assert triggered\nCUDA kernel errors might be asynchronously reported at some other API call, so the stacktrace below might be incorrect.\nFor debugging consider passing CUDA_LAUNCH_BLOCKING=1.\nCompile with `TORCH_USE_CUDA_DSA` to enable device-side assertions.\n"
     ]
    }
   ],
   "source": [
    "#lr=1e-4\n",
    "stats_bert = BERT_fine_tune_train(bert_R3,\n",
    "                train_dataloader,\n",
    "                validation_dataloader,\n",
    "                device = device,\n",
    "                metric = metric,\n",
    "                optimizer = optim_bert,\n",
    "                scheduler = scheduler,\n",
    "                epochs = epochs,\n",
    "                lr = lr,\n",
    "                n_warmup = n_warmup,\n",
    "                save_path = os.path.join(model_dir, f\"BERT_cyclic_R3_k{str(i)}.pt\")\n",
    "                )\n",
    "\n",
    "with open(f\"train_stats_R3_k{str(i)}.pkl\", \"wb\") as f:\n",
    "  pickle.dump(stats_bert, f)"
   ]
  },
  {
   "cell_type": "markdown",
   "metadata": {
    "id": "tV6waFNQW8yM"
   },
   "source": [
    "<h1> On Runtime Disconnect </h1>\n",
    "If the runtime disconnects, load the model from checkpoint below, and resume training for the remaining number of epochs."
   ]
  },
  {
   "cell_type": "code",
   "execution_count": null,
   "metadata": {
    "colab": {
     "base_uri": "https://localhost:8080/",
     "height": 49,
     "referenced_widgets": [
      "63669d01441b45a085aae92667c947fe",
      "9eae7d38123d4d75a423460762cfe69c",
      "5ea31ccae9674d489776b5171002c519",
      "9f50f34d04724c89bd6241c8584777a5",
      "0124099d449544a292c9dff22b9b275b",
      "d809f7ab96b74d299ac68fd2c3d2b30a",
      "9c4db9a51bff4528a0ea08480acde7f1",
      "85925a6d148640b78213d0cd0a575d46",
      "000c3dee516a4cc598c94a4e757e7b1c",
      "14426732a6664248bd04c24a5f02ff9c",
      "a183d0a9ac48427aa4b8adaa6dda7952"
     ]
    },
    "id": "gUcrdhrMJcA6",
    "outputId": "a038f030-c783-4a07-f40b-05cf64ecf4ca"
   },
   "outputs": [
    {
     "data": {
      "application/vnd.jupyter.widget-view+json": {
       "model_id": "63669d01441b45a085aae92667c947fe",
       "version_major": 2,
       "version_minor": 0
      },
      "text/plain": [
       "Downloading (…)lve/main/config.json:   0%|          | 0.00/570 [00:00<?, ?B/s]"
      ]
     },
     "metadata": {},
     "output_type": "display_data"
    }
   ],
   "source": [
    "os.chdir(model_dir)\n",
    "\n",
    "bert_custom_model = CustomModel(num_labels = n_classes,\n",
    "                    loss_fn = weighted_cross_entropy_loss,\n",
    "                    tokenizer = bert_tokenizer,\n",
    "                    dropout = dropout)\n",
    "bert_custom_model.to(device)\n",
    "optim_bert = AdamW(bert_custom_model.parameters(), lr=lr)\n",
    "\n",
    "checkpoint = torch.load('BERT_cyclic_R2_k9.pt')\n",
    "bert_custom_model.load_state_dict(checkpoint['model_state_dict'])\n",
    "optim_bert.load_state_dict(checkpoint['optimizer_state_dict'])\n",
    "epoch = checkpoint['epoch']\n",
    "loss = checkpoint['loss']\n"
   ]
  },
  {
   "cell_type": "code",
   "execution_count": null,
   "metadata": {
    "colab": {
     "base_uri": "https://localhost:8080/",
     "height": 236
    },
    "id": "LD79K8Y2WViu",
    "outputId": "657388ca-91c0-458c-b6ca-8da485858dfd"
   },
   "outputs": [
    {
     "ename": "NameError",
     "evalue": "ignored",
     "output_type": "error",
     "traceback": [
      "\u001b[0;31m---------------------------------------------------------------------------\u001b[0m",
      "\u001b[0;31mNameError\u001b[0m                                 Traceback (most recent call last)",
      "\u001b[0;32m<ipython-input-9-7055fe2d797a>\u001b[0m in \u001b[0;36m<module>\u001b[0;34m\u001b[0m\n\u001b[1;32m     28\u001b[0m                 \u001b[0mmetric\u001b[0m \u001b[0;34m=\u001b[0m \u001b[0mmetric\u001b[0m\u001b[0;34m,\u001b[0m\u001b[0;34m\u001b[0m\u001b[0;34m\u001b[0m\u001b[0m\n\u001b[1;32m     29\u001b[0m                 \u001b[0moptimizer\u001b[0m \u001b[0;34m=\u001b[0m \u001b[0moptim_bert\u001b[0m\u001b[0;34m,\u001b[0m\u001b[0;34m\u001b[0m\u001b[0;34m\u001b[0m\u001b[0m\n\u001b[0;32m---> 30\u001b[0;31m                 \u001b[0mscheduler\u001b[0m \u001b[0;34m=\u001b[0m \u001b[0mscheduler\u001b[0m\u001b[0;34m,\u001b[0m\u001b[0;34m\u001b[0m\u001b[0;34m\u001b[0m\u001b[0m\n\u001b[0m\u001b[1;32m     31\u001b[0m                 \u001b[0mepochs\u001b[0m \u001b[0;34m=\u001b[0m \u001b[0;36m5\u001b[0m\u001b[0;34m,\u001b[0m\u001b[0;34m\u001b[0m\u001b[0;34m\u001b[0m\u001b[0m\n\u001b[1;32m     32\u001b[0m                 \u001b[0mlr\u001b[0m \u001b[0;34m=\u001b[0m \u001b[0mlr\u001b[0m\u001b[0;34m,\u001b[0m\u001b[0;34m\u001b[0m\u001b[0;34m\u001b[0m\u001b[0m\n",
      "\u001b[0;31mNameError\u001b[0m: name 'scheduler' is not defined"
     ]
    }
   ],
   "source": [
    "# call training loop\n",
    "i=9\n",
    "epochs = 10\n",
    "lr = 1e-5\n",
    "# make dataloader objs\n",
    "train_ds = ClassificationDataset(full_dataset.query(f\"k == {split['train']}\"),\n",
    "                                bert_tokenizer,\n",
    "                                target_idx,\n",
    "                                max_seq_len = max_len)\n",
    "val_ds = ClassificationDataset(full_dataset.query(f\"k == {split['val']}\"),\n",
    "                                bert_tokenizer,\n",
    "                                target_idx,\n",
    "                                max_seq_len = max_len)\n",
    "train_dataloader = DataLoader(\n",
    "                              train_ds,\n",
    "                              sampler = RandomSampler(train_ds),\n",
    "                              batch_size=batch_size)\n",
    "validation_dataloader = DataLoader(\n",
    "                              val_ds,\n",
    "                              sampler = RandomSampler(val_ds),\n",
    "                              batch_size = batch_size)\n",
    "total_steps = len(train_dataloader)*epochs\n",
    "\n",
    "stats_bert = BERT_fine_tune_train(bert_custom_model,\n",
    "                train_dataloader,\n",
    "                validation_dataloader,\n",
    "                device = device,\n",
    "                metric = metric,\n",
    "                optimizer = optim_bert,\n",
    "                scheduler = scheduler,\n",
    "                epochs = 5,\n",
    "                lr = lr,\n",
    "                n_warmup = n_warmup,\n",
    "                save_path = os.path.join(model_dir, f\"BERT_cyclic_R2_k{str(i)}.pt\")\n",
    "                )\n",
    "\n",
    "with open(f\"train_stats_R2_k{i}.pkl\", \"wb\") as f:\n",
    "  pickle.dump(stats_bert, f)"
   ]
  },
  {
   "cell_type": "code",
   "execution_count": null,
   "metadata": {
    "colab": {
     "base_uri": "https://localhost:8080/",
     "height": 1000
    },
    "id": "W3wjsOSwWAyC",
    "outputId": "a1278b63-0afd-497e-80f4-24476ac7b7d4"
   },
   "outputs": [
    {
     "name": "stdout",
     "output_type": "stream",
     "text": [
      "\n",
      "Running Validation...\n",
      "  Accuracy: 0.63\n",
      "  Validation Loss: 1.04\n",
      "  Validation F1 Score: 0.599\n",
      "  Validation took: 0:00:53\n",
      "\n",
      "Running Validation...\n",
      "  Accuracy: 0.61\n",
      "  Validation Loss: 1.09\n",
      "  Validation F1 Score: 0.580\n",
      "  Validation took: 0:00:53\n",
      "\n",
      "Running Validation...\n",
      "  Accuracy: 0.62\n",
      "  Validation Loss: 1.07\n",
      "  Validation F1 Score: 0.602\n",
      "  Validation took: 0:00:53\n",
      "\n",
      "Running Validation...\n",
      "  Accuracy: 0.61\n",
      "  Validation Loss: 1.08\n",
      "  Validation F1 Score: 0.580\n",
      "  Validation took: 0:00:52\n",
      "\n",
      "Running Validation...\n",
      "  Accuracy: 0.59\n",
      "  Validation Loss: 1.12\n",
      "  Validation F1 Score: 0.543\n",
      "  Validation took: 0:00:53\n",
      "\n",
      "Running Validation...\n",
      "  Accuracy: 0.62\n",
      "  Validation Loss: 1.08\n",
      "  Validation F1 Score: 0.594\n",
      "  Validation took: 0:00:52\n",
      "\n",
      "Running Validation...\n",
      "  Accuracy: 0.62\n",
      "  Validation Loss: 1.05\n",
      "  Validation F1 Score: 0.597\n",
      "  Validation took: 0:00:53\n",
      "\n",
      "Running Validation...\n",
      "  Accuracy: 0.61\n",
      "  Validation Loss: 1.10\n",
      "  Validation F1 Score: 0.583\n",
      "  Validation took: 0:00:52\n",
      "\n",
      "Running Validation...\n",
      "  Accuracy: 0.62\n",
      "  Validation Loss: 1.02\n",
      "  Validation F1 Score: 0.596\n",
      "  Validation took: 0:00:53\n",
      "\n",
      "Running Validation...\n",
      "  Accuracy: 0.55\n",
      "  Validation Loss: 1.21\n",
      "  Validation F1 Score: 0.525\n",
      "  Validation took: 0:00:53\n"
     ]
    },
    {
     "data": {
      "image/png": "[encoded data removed]",
      "text/plain": [
       "<Figure size 640x480 with 1 Axes>"
      ]
     },
     "metadata": {},
     "output_type": "display_data"
    }
   ],
   "source": [
    "# run test\n",
    "os.chdir(model_dir)\n",
    "# for each k\n",
    "all_test_stats = {}\n",
    "for i in range(10):\n",
    "# load model from checkpoint\n",
    "\n",
    "  bert_custom_model = CustomModel(num_labels = n_classes,\n",
    "                      loss_fn = weighted_cross_entropy_loss,\n",
    "                      tokenizer = bert_tokenizer,\n",
    "                      dropout = dropout)\n",
    "  bert_custom_model.to(device)\n",
    "  optim_bert = AdamW(bert_custom_model.parameters(), lr=lr)\n",
    "\n",
    "  checkpoint = torch.load(f'BERT_cyclic_R2_k{i}.pt')\n",
    "  bert_custom_model.load_state_dict(checkpoint['model_state_dict'])\n",
    "\n",
    "  # get test set\n",
    "  test_ds = ClassificationDataset(full_dataset.query(f\"k == {i}\"),\n",
    "                                    bert_tokenizer,\n",
    "                                    target_idx,\n",
    "                                    max_seq_len = max_len)\n",
    "\n",
    "  test_dataloader = DataLoader(\n",
    "                            test_ds,\n",
    "                            shuffle = False,\n",
    "                            #sampler = RandomSampler(test_ds),\n",
    "                            batch_size = batch_size)\n",
    "# run testing\n",
    "  test_stats = BERT_fine_tune_validation(bert_custom_model,\n",
    "                                         test_dataloader,\n",
    "                                         device,\n",
    "                                         metric = metric)\n",
    "  all_test_stats[i] = test_stats\n",
    "  # confusion matrix\n",
    "  mat = confusion_matrix(test_stats[1]['y_true'], test_stats[1]['y_pred'])\n",
    "  sns.heatmap(mat.T, square=True, annot=True, fmt='d', cbar=False,\n",
    "            xticklabels=target_idx.keys(), yticklabels=target_idx.keys())\n",
    "  plt.xlabel('true label')\n",
    "  plt.ylabel('predicted label');\n",
    "  plt.savefig(os.path.join(model_dir, f\"k{i}_confusion_matrix\"),\n",
    "              dpi='figure',\n",
    "              format='png',\n",
    "              metadata=None,\n",
    "        bbox_inches=None, pad_inches=0.1,\n",
    "        facecolor='auto', edgecolor='auto',\n",
    "        backend=None,\n",
    "       )\n",
    "\n"
   ]
  },
  {
   "cell_type": "code",
   "execution_count": null,
   "metadata": {
    "id": "M1QQiuKPjRiF"
   },
   "outputs": [],
   "source": [
    "with open(f\"all_bert_test_stats.pkl\", \"wb\") as f:\n",
    "  pickle.dump(all_test_stats, f)"
   ]
  },
  {
   "cell_type": "code",
   "execution_count": null,
   "metadata": {
    "id": "hrDSt0U1hQyB"
   },
   "outputs": [],
   "source": [
    "with open('all_bert_test_stats.pkl', 'rb') as f:\n",
    "  bert_test = pickle.load(f)"
   ]
  },
  {
   "cell_type": "code",
   "execution_count": null,
   "metadata": {
    "colab": {
     "base_uri": "https://localhost:8080/"
    },
    "id": "yQ-PiYw_pxrn",
    "outputId": "162d32aa-0113-4610-a171-3118eed66c5b"
   },
   "outputs": [
    {
     "data": {
      "text/plain": [
       "[0.5991758108139038,\n",
       " 0.579677164554596,\n",
       " 0.6019929647445679,\n",
       " 0.57963627576828,\n",
       " 0.5427031517028809,\n",
       " 0.5939373970031738,\n",
       " 0.5974612832069397,\n",
       " 0.5826840400695801,\n",
       " 0.5962331891059875,\n",
       " 0.5251408219337463]"
      ]
     },
     "execution_count": 27,
     "metadata": {},
     "output_type": "execute_result"
    }
   ],
   "source": [
    "[all_test_stats[a][1]['val_f1'].item() for a in all_test_stats.keys()]"
   ]
  },
  {
   "cell_type": "markdown",
   "metadata": {
    "id": "hnlytGVUPH7d"
   },
   "source": [
    "<h1> k =3 Only </h1>"
   ]
  },
  {
   "cell_type": "code",
   "execution_count": null,
   "metadata": {
    "colab": {
     "base_uri": "https://localhost:8080/",
     "height": 585,
     "referenced_widgets": [
      "ffdaf719f26946af9b1d46dfe3ec70d1",
      "e596056ff50c4a66af086cb3fb7643c6",
      "84834421d45943468a8bbe69aff7d333",
      "eb653154f3794b1ba4ecb658cbf23705",
      "5bcfd7bdad524ae4a84dcb1c2a0026a0",
      "96d8b4448b4a42ed8e9bc9b9c77a6218",
      "54ba2629bd234d86ac3ce4e92e5d6e75",
      "57b1c0c462a8401e89b0a315b249e1fe",
      "b0938032a9a14320813c0ce2a445e615",
      "9c9666d95732409ab4dd5463b29dcab1",
      "9b91e6fe3e11449aa0c9119154ff3714"
     ]
    },
    "id": "ALhoXrmthWf5",
    "outputId": "b01e81d7-b9ab-466d-8461-a09a4639f5ac"
   },
   "outputs": [
    {
     "data": {
      "application/vnd.jupyter.widget-view+json": {
       "model_id": "ffdaf719f26946af9b1d46dfe3ec70d1",
       "version_major": 2,
       "version_minor": 0
      },
      "text/plain": [
       "Downloading (…)lve/main/config.json:   0%|          | 0.00/570 [00:00<?, ?B/s]"
      ]
     },
     "metadata": {},
     "output_type": "display_data"
    },
    {
     "name": "stdout",
     "output_type": "stream",
     "text": [
      "\n",
      "Running Validation...\n",
      "  Accuracy: 0.61\n",
      "  Validation Loss: 1.08\n",
      "  Validation F1 Score: 0.605\n",
      "  Validation took: 0:00:50\n"
     ]
    },
    {
     "data": {
      "image/png": "[encoded data removed]",
      "text/plain": [
       "<Figure size 640x480 with 1 Axes>"
      ]
     },
     "metadata": {},
     "output_type": "display_data"
    }
   ],
   "source": [
    "from sklearn.metrics import confusion_matrix\n",
    "import matplotlib.pyplot as plt\n",
    "import seaborn as sns\n",
    "\n",
    "i = 3\n",
    "bert_custom_model = CustomModel(num_labels = n_classes,\n",
    "                    loss_fn = weighted_cross_entropy_loss,\n",
    "                    tokenizer = bert_tokenizer,\n",
    "                    dropout = dropout)\n",
    "bert_custom_model.to(device)\n",
    "optim_bert = AdamW(bert_custom_model.parameters(), lr=lr)\n",
    "\n",
    "checkpoint = torch.load(f'BERT_cyclic_R2_k{i}.pt')\n",
    "bert_custom_model.load_state_dict(checkpoint['model_state_dict'])\n",
    "\n",
    "# get test set\n",
    "test_ds = ClassificationDataset(full_dataset.query(f\"k == {i}\"),\n",
    "                                  bert_tokenizer,\n",
    "                                  target_idx,\n",
    "                                  max_seq_len = max_len)\n",
    "\n",
    "test_dataloader = DataLoader(\n",
    "                          test_ds,\n",
    "                          shuffle = False,\n",
    "                          #sampler = RandomSampler(test_ds),\n",
    "                          batch_size = batch_size)\n",
    "# run testing\n",
    "test_stats = BERT_fine_tune_validation(bert_custom_model,\n",
    "                                        test_dataloader,\n",
    "                                        device,\n",
    "                                        metric = metric)\n",
    "#all_test_stats[i] = test_stats\n",
    "# confusion matrix\n",
    "mat = confusion_matrix(test_stats[1]['y_true'], test_stats[1]['y_pred'])\n",
    "sns.heatmap(mat.T, square=True, annot=True, fmt='d', cbar=False,\n",
    "          xticklabels=target_idx.keys(), yticklabels=target_idx.keys())\n",
    "plt.xlabel('true label')\n",
    "plt.ylabel('predicted label');\n",
    "plt.savefig(os.path.join(model_dir, f\"k{i}_confusion_matrix\"),\n",
    "            dpi='figure',\n",
    "            format='png',\n",
    "            metadata=None,\n",
    "      bbox_inches=None, pad_inches=0.1,\n",
    "      facecolor='auto', edgecolor='auto',\n",
    "      backend=None,\n",
    "      )\n",
    "\n",
    "#with open(f\"all_bert_test_stats.pkl\", \"wb\") as f:\n",
    "#  pickle.dump(all_test_stats, f)"
   ]
  },
  {
   "cell_type": "code",
   "execution_count": null,
   "metadata": {
    "colab": {
     "base_uri": "https://localhost:8080/"
    },
    "id": "o754wuEFjukL",
    "outputId": "d09128c0-2ee5-43f8-994b-36b83496789c"
   },
   "outputs": [
    {
     "data": {
      "text/plain": [
       "(tensor(1.0794, device='cuda:0'),\n",
       " {'avg_val_loss': 1.0793956518173218,\n",
       "  'val_time': '0:00:50',\n",
       "  'val_f1': tensor(0.6053),\n",
       "  'avg_flat_acc': 0.6056763285024155,\n",
       "  'logits': tensor([[-2.9875,  7.4378,  3.4776, -2.9363, -3.6863, -1.3312],\n",
       "          [ 4.8527, -2.8044, -3.7755,  0.8328,  1.7613,  0.0478],\n",
       "          [ 0.2455, -0.1269,  5.3038,  0.3116, -1.1228, -3.3325],\n",
       "          ...,\n",
       "          [-1.6292,  1.4270, -0.8575, -3.1931, -2.0782,  6.0564],\n",
       "          [-1.4113,  0.3886, -2.4366, -3.7093,  2.1271,  5.2246],\n",
       "          [-2.4929,  4.4981,  1.9294, -6.0035, -0.7687,  0.3425]]),\n",
       "  'y_pred': tensor([1, 0, 2,  ..., 5, 5, 1], dtype=torch.int32),\n",
       "  'y_true': tensor([1, 0, 2,  ..., 5, 5, 1], dtype=torch.int32)})"
      ]
     },
     "execution_count": 15,
     "metadata": {},
     "output_type": "execute_result"
    }
   ],
   "source": [
    "test_stats"
   ]
  },
  {
   "cell_type": "code",
   "execution_count": null,
   "metadata": {
    "id": "tiyXWbCYkff8"
   },
   "outputs": [],
   "source": [
    "y_pred = np.expand_dims(test_stats[1]['y_pred'].numpy(), axis =1)\n",
    "y_true  = np.expand_dims(test_stats[1]['y_true'].numpy(), axis =1)"
   ]
  },
  {
   "cell_type": "code",
   "execution_count": null,
   "metadata": {
    "colab": {
     "base_uri": "https://localhost:8080/"
    },
    "id": "uc1RhDpmP7rs",
    "outputId": "b46281a4-240e-40ff-821b-758ed5726204"
   },
   "outputs": [
    {
     "data": {
      "text/plain": [
       "array([[1],\n",
       "       [0],\n",
       "       [2],\n",
       "       ...,\n",
       "       [5],\n",
       "       [5],\n",
       "       [1]], dtype=int32)"
      ]
     },
     "execution_count": 16,
     "metadata": {},
     "output_type": "execute_result"
    }
   ],
   "source": [
    "y_true"
   ]
  },
  {
   "cell_type": "code",
   "execution_count": null,
   "metadata": {
    "id": "DoGz3CwvlTk0"
   },
   "outputs": [],
   "source": [
    "np_array = np.concatenate([y_pred, y_true], axis = 1)"
   ]
  },
  {
   "cell_type": "code",
   "execution_count": null,
   "metadata": {
    "colab": {
     "base_uri": "https://localhost:8080/"
    },
    "id": "ivSgAUQsQAja",
    "outputId": "a0f7ac86-4249-45e3-8521-c4247a0b79cd"
   },
   "outputs": [
    {
     "data": {
      "text/plain": [
       "array([[1, 1],\n",
       "       [0, 0],\n",
       "       [2, 2],\n",
       "       ...,\n",
       "       [5, 5],\n",
       "       [5, 5],\n",
       "       [1, 1]], dtype=int32)"
      ]
     },
     "execution_count": 20,
     "metadata": {},
     "output_type": "execute_result"
    }
   ],
   "source": [
    "np_array"
   ]
  },
  {
   "cell_type": "code",
   "execution_count": null,
   "metadata": {
    "id": "Lc7IR3hrhg6g"
   },
   "outputs": [],
   "source": [
    "model_comparison = pd.DataFrame(np_array, columns = ['BERT_pred', 'Label'])\n",
    "model_comparison['Target'] = model_comparison['Label'].apply(lambda x: idx_target[x])"
   ]
  },
  {
   "cell_type": "code",
   "execution_count": null,
   "metadata": {
    "colab": {
     "base_uri": "https://localhost:8080/",
     "height": 423
    },
    "id": "bAhanM7Aj53O",
    "outputId": "942d480c-268f-4cd2-8593-da388a45efdc"
   },
   "outputs": [
    {
     "data": {
      "text/html": [
       "\n",
       "  <div id=\"df-4773a28c-a15a-4756-a5f7-6912207d7b18\">\n",
       "    <div class=\"colab-df-container\">\n",
       "      <div>\n",
       "<style scoped>\n",
       "    .dataframe tbody tr th:only-of-type {\n",
       "        vertical-align: middle;\n",
       "    }\n",
       "\n",
       "    .dataframe tbody tr th {\n",
       "        vertical-align: top;\n",
       "    }\n",
       "\n",
       "    .dataframe thead th {\n",
       "        text-align: right;\n",
       "    }\n",
       "</style>\n",
       "<table border=\"1\" class=\"dataframe\">\n",
       "  <thead>\n",
       "    <tr style=\"text-align: right;\">\n",
       "      <th></th>\n",
       "      <th>BERT_pred</th>\n",
       "      <th>Label</th>\n",
       "      <th>Target</th>\n",
       "      <th>BERT_correct</th>\n",
       "    </tr>\n",
       "  </thead>\n",
       "  <tbody>\n",
       "    <tr>\n",
       "      <th>0</th>\n",
       "      <td>1</td>\n",
       "      <td>1</td>\n",
       "      <td>CN</td>\n",
       "      <td>True</td>\n",
       "    </tr>\n",
       "    <tr>\n",
       "      <th>1</th>\n",
       "      <td>0</td>\n",
       "      <td>0</td>\n",
       "      <td>GE</td>\n",
       "      <td>True</td>\n",
       "    </tr>\n",
       "    <tr>\n",
       "      <th>2</th>\n",
       "      <td>2</td>\n",
       "      <td>2</td>\n",
       "      <td>JP</td>\n",
       "      <td>True</td>\n",
       "    </tr>\n",
       "    <tr>\n",
       "      <th>3</th>\n",
       "      <td>3</td>\n",
       "      <td>3</td>\n",
       "      <td>RU</td>\n",
       "      <td>True</td>\n",
       "    </tr>\n",
       "    <tr>\n",
       "      <th>4</th>\n",
       "      <td>1</td>\n",
       "      <td>1</td>\n",
       "      <td>CN</td>\n",
       "      <td>True</td>\n",
       "    </tr>\n",
       "    <tr>\n",
       "      <th>...</th>\n",
       "      <td>...</td>\n",
       "      <td>...</td>\n",
       "      <td>...</td>\n",
       "      <td>...</td>\n",
       "    </tr>\n",
       "    <tr>\n",
       "      <th>1647</th>\n",
       "      <td>5</td>\n",
       "      <td>5</td>\n",
       "      <td>AR</td>\n",
       "      <td>True</td>\n",
       "    </tr>\n",
       "    <tr>\n",
       "      <th>1648</th>\n",
       "      <td>0</td>\n",
       "      <td>4</td>\n",
       "      <td>SP</td>\n",
       "      <td>False</td>\n",
       "    </tr>\n",
       "    <tr>\n",
       "      <th>1649</th>\n",
       "      <td>5</td>\n",
       "      <td>5</td>\n",
       "      <td>AR</td>\n",
       "      <td>True</td>\n",
       "    </tr>\n",
       "    <tr>\n",
       "      <th>1650</th>\n",
       "      <td>5</td>\n",
       "      <td>5</td>\n",
       "      <td>AR</td>\n",
       "      <td>True</td>\n",
       "    </tr>\n",
       "    <tr>\n",
       "      <th>1651</th>\n",
       "      <td>1</td>\n",
       "      <td>1</td>\n",
       "      <td>CN</td>\n",
       "      <td>True</td>\n",
       "    </tr>\n",
       "  </tbody>\n",
       "</table>\n",
       "<p>1652 rows × 4 columns</p>\n",
       "</div>\n",
       "      <button class=\"colab-df-convert\" onclick=\"convertToInteractive('df-4773a28c-a15a-4756-a5f7-6912207d7b18')\"\n",
       "              title=\"Convert this dataframe to an interactive table.\"\n",
       "              style=\"display:none;\">\n",
       "        \n",
       "  <svg xmlns=\"http://www.w3.org/2000/svg\" height=\"24px\"viewBox=\"0 0 24 24\"\n",
       "       width=\"24px\">\n",
       "    <path d=\"M0 0h24v24H0V0z\" fill=\"none\"/>\n",
       "    <path d=\"M18.56 5.44l.94 2.06.94-2.06 2.06-.94-2.06-.94-.94-2.06-.94 2.06-2.06.94zm-11 1L8.5 8.5l.94-2.06 2.06-.94-2.06-.94L8.5 2.5l-.94 2.06-2.06.94zm10 10l.94 2.06.94-2.06 2.06-.94-2.06-.94-.94-2.06-.94 2.06-2.06.94z\"/><path d=\"M17.41 7.96l-1.37-1.37c-.4-.4-.92-.59-1.43-.59-.52 0-1.04.2-1.43.59L10.3 9.45l-7.72 7.72c-.78.78-.78 2.05 0 2.83L4 21.41c.39.39.9.59 1.41.59.51 0 1.02-.2 1.41-.59l7.78-7.78 2.81-2.81c.8-.78.8-2.07 0-2.86zM5.41 20L4 18.59l7.72-7.72 1.47 1.35L5.41 20z\"/>\n",
       "  </svg>\n",
       "      </button>\n",
       "      \n",
       "  <style>\n",
       "    .colab-df-container {\n",
       "      display:flex;\n",
       "      flex-wrap:wrap;\n",
       "      gap: 12px;\n",
       "    }\n",
       "\n",
       "    .colab-df-convert {\n",
       "      background-color: #E8F0FE;\n",
       "      border: none;\n",
       "      border-radius: 50%;\n",
       "      cursor: pointer;\n",
       "      display: none;\n",
       "      fill: #1967D2;\n",
       "      height: 32px;\n",
       "      padding: 0 0 0 0;\n",
       "      width: 32px;\n",
       "    }\n",
       "\n",
       "    .colab-df-convert:hover {\n",
       "      background-color: #E2EBFA;\n",
       "      box-shadow: 0px 1px 2px rgba(60, 64, 67, 0.3), 0px 1px 3px 1px rgba(60, 64, 67, 0.15);\n",
       "      fill: #174EA6;\n",
       "    }\n",
       "\n",
       "    [theme=dark] .colab-df-convert {\n",
       "      background-color: #3B4455;\n",
       "      fill: #D2E3FC;\n",
       "    }\n",
       "\n",
       "    [theme=dark] .colab-df-convert:hover {\n",
       "      background-color: #434B5C;\n",
       "      box-shadow: 0px 1px 3px 1px rgba(0, 0, 0, 0.15);\n",
       "      filter: drop-shadow(0px 1px 2px rgba(0, 0, 0, 0.3));\n",
       "      fill: #FFFFFF;\n",
       "    }\n",
       "  </style>\n",
       "\n",
       "      <script>\n",
       "        const buttonEl =\n",
       "          document.querySelector('#df-4773a28c-a15a-4756-a5f7-6912207d7b18 button.colab-df-convert');\n",
       "        buttonEl.style.display =\n",
       "          google.colab.kernel.accessAllowed ? 'block' : 'none';\n",
       "\n",
       "        async function convertToInteractive(key) {\n",
       "          const element = document.querySelector('#df-4773a28c-a15a-4756-a5f7-6912207d7b18');\n",
       "          const dataTable =\n",
       "            await google.colab.kernel.invokeFunction('convertToInteractive',\n",
       "                                                     [key], {});\n",
       "          if (!dataTable) return;\n",
       "\n",
       "          const docLinkHtml = 'Like what you see? Visit the ' +\n",
       "            '<a target=\"_blank\" href=https://colab.research.google.com/notebooks/data_table.ipynb>data table notebook</a>'\n",
       "            + ' to learn more about interactive tables.';\n",
       "          element.innerHTML = '';\n",
       "          dataTable['output_type'] = 'display_data';\n",
       "          await google.colab.output.renderOutput(dataTable, element);\n",
       "          const docLink = document.createElement('div');\n",
       "          docLink.innerHTML = docLinkHtml;\n",
       "          element.appendChild(docLink);\n",
       "        }\n",
       "      </script>\n",
       "    </div>\n",
       "  </div>\n",
       "  "
      ],
      "text/plain": [
       "      BERT_pred  Label Target  BERT_correct\n",
       "0             1      1     CN          True\n",
       "1             0      0     GE          True\n",
       "2             2      2     JP          True\n",
       "3             3      3     RU          True\n",
       "4             1      1     CN          True\n",
       "...         ...    ...    ...           ...\n",
       "1647          5      5     AR          True\n",
       "1648          0      4     SP         False\n",
       "1649          5      5     AR          True\n",
       "1650          5      5     AR          True\n",
       "1651          1      1     CN          True\n",
       "\n",
       "[1652 rows x 4 columns]"
      ]
     },
     "execution_count": 22,
     "metadata": {},
     "output_type": "execute_result"
    }
   ],
   "source": [
    "c = model_comparison.BERT_pred == model_comparison.Label\n",
    "model_comparison['BERT_correct'] = c\n",
    "model_comparison"
   ]
  },
  {
   "cell_type": "code",
   "execution_count": null,
   "metadata": {
    "id": "5OA-gsbKkAOF"
   },
   "outputs": [],
   "source": [
    "model_comparison.to_csv('model_comparison.csv')"
   ]
  },
  {
   "cell_type": "code",
   "execution_count": null,
   "metadata": {
    "colab": {
     "base_uri": "https://localhost:8080/",
     "height": 166
    },
    "id": "McakaPHKYJKZ",
    "outputId": "aa934b4e-9398-4fa6-8cad-243bff54bd57"
   },
   "outputs": [
    {
     "ename": "NameError",
     "evalue": "ignored",
     "output_type": "error",
     "traceback": [
      "\u001b[0;31m---------------------------------------------------------------------------\u001b[0m",
      "\u001b[0;31mNameError\u001b[0m                                 Traceback (most recent call last)",
      "\u001b[0;32m<ipython-input-13-3aaf935e6aec>\u001b[0m in \u001b[0;36m<cell line: 1>\u001b[0;34m()\u001b[0m\n\u001b[0;32m----> 1\u001b[0;31m \u001b[0my_pred\u001b[0m\u001b[0;34m\u001b[0m\u001b[0;34m\u001b[0m\u001b[0m\n\u001b[0m",
      "\u001b[0;31mNameError\u001b[0m: name 'y_pred' is not defined"
     ]
    }
   ],
   "source": [
    "y_pred"
   ]
  },
  {
   "cell_type": "code",
   "execution_count": null,
   "metadata": {
    "id": "h5vcZ_tShAlF"
   },
   "outputs": [],
   "source": []
  }
 ],
 "metadata": {
  "accelerator": "GPU",
  "colab": {
   "provenance": []
  },
  "gpuClass": "standard",
  "kernelspec": {
   "display_name": "Python 3 (ipykernel)",
   "language": "python",
   "name": "python3"
  },
  "language_info": {
   "codemirror_mode": {
    "name": "ipython",
    "version": 3
   },
   "file_extension": ".py",
   "mimetype": "text/x-python",
   "name": "python",
   "nbconvert_exporter": "python",
   "pygments_lexer": "ipython3",
   "version": "3.7.12"
  },
  "widgets": {
   "application/vnd.jupyter.widget-state+json": {
    "000c3dee516a4cc598c94a4e757e7b1c": {
     "model_module": "@jupyter-widgets/controls",
     "model_module_version": "1.5.0",
     "model_name": "ProgressStyleModel",
     "state": {
      "_model_module": "@jupyter-widgets/controls",
      "_model_module_version": "1.5.0",
      "_model_name": "ProgressStyleModel",
      "_view_count": null,
      "_view_module": "@jupyter-widgets/base",
      "_view_module_version": "1.2.0",
      "_view_name": "StyleView",
      "bar_color": null,
      "description_width": ""
     }
    },
    "0124099d449544a292c9dff22b9b275b": {
     "model_module": "@jupyter-widgets/base",
     "model_module_version": "1.2.0",
     "model_name": "LayoutModel",
     "state": {
      "_model_module": "@jupyter-widgets/base",
      "_model_module_version": "1.2.0",
      "_model_name": "LayoutModel",
      "_view_count": null,
      "_view_module": "@jupyter-widgets/base",
      "_view_module_version": "1.2.0",
      "_view_name": "LayoutView",
      "align_content": null,
      "align_items": null,
      "align_self": null,
      "border": null,
      "bottom": null,
      "display": null,
      "flex": null,
      "flex_flow": null,
      "grid_area": null,
      "grid_auto_columns": null,
      "grid_auto_flow": null,
      "grid_auto_rows": null,
      "grid_column": null,
      "grid_gap": null,
      "grid_row": null,
      "grid_template_areas": null,
      "grid_template_columns": null,
      "grid_template_rows": null,
      "height": null,
      "justify_content": null,
      "justify_items": null,
      "left": null,
      "margin": null,
      "max_height": null,
      "max_width": null,
      "min_height": null,
      "min_width": null,
      "object_fit": null,
      "object_position": null,
      "order": null,
      "overflow": null,
      "overflow_x": null,
      "overflow_y": null,
      "padding": null,
      "right": null,
      "top": null,
      "visibility": null,
      "width": null
     }
    },
    "14426732a6664248bd04c24a5f02ff9c": {
     "model_module": "@jupyter-widgets/base",
     "model_module_version": "1.2.0",
     "model_name": "LayoutModel",
     "state": {
      "_model_module": "@jupyter-widgets/base",
      "_model_module_version": "1.2.0",
      "_model_name": "LayoutModel",
      "_view_count": null,
      "_view_module": "@jupyter-widgets/base",
      "_view_module_version": "1.2.0",
      "_view_name": "LayoutView",
      "align_content": null,
      "align_items": null,
      "align_self": null,
      "border": null,
      "bottom": null,
      "display": null,
      "flex": null,
      "flex_flow": null,
      "grid_area": null,
      "grid_auto_columns": null,
      "grid_auto_flow": null,
      "grid_auto_rows": null,
      "grid_column": null,
      "grid_gap": null,
      "grid_row": null,
      "grid_template_areas": null,
      "grid_template_columns": null,
      "grid_template_rows": null,
      "height": null,
      "justify_content": null,
      "justify_items": null,
      "left": null,
      "margin": null,
      "max_height": null,
      "max_width": null,
      "min_height": null,
      "min_width": null,
      "object_fit": null,
      "object_position": null,
      "order": null,
      "overflow": null,
      "overflow_x": null,
      "overflow_y": null,
      "padding": null,
      "right": null,
      "top": null,
      "visibility": null,
      "width": null
     }
    },
    "197a5930a86a4905bbb3517020888c6b": {
     "model_module": "@jupyter-widgets/controls",
     "model_module_version": "1.5.0",
     "model_name": "ProgressStyleModel",
     "state": {
      "_model_module": "@jupyter-widgets/controls",
      "_model_module_version": "1.5.0",
      "_model_name": "ProgressStyleModel",
      "_view_count": null,
      "_view_module": "@jupyter-widgets/base",
      "_view_module_version": "1.2.0",
      "_view_name": "StyleView",
      "bar_color": null,
      "description_width": ""
     }
    },
    "1cd65d5210b74fc4a8fe0c4e677ce8af": {
     "model_module": "@jupyter-widgets/base",
     "model_module_version": "1.2.0",
     "model_name": "LayoutModel",
     "state": {
      "_model_module": "@jupyter-widgets/base",
      "_model_module_version": "1.2.0",
      "_model_name": "LayoutModel",
      "_view_count": null,
      "_view_module": "@jupyter-widgets/base",
      "_view_module_version": "1.2.0",
      "_view_name": "LayoutView",
      "align_content": null,
      "align_items": null,
      "align_self": null,
      "border": null,
      "bottom": null,
      "display": null,
      "flex": null,
      "flex_flow": null,
      "grid_area": null,
      "grid_auto_columns": null,
      "grid_auto_flow": null,
      "grid_auto_rows": null,
      "grid_column": null,
      "grid_gap": null,
      "grid_row": null,
      "grid_template_areas": null,
      "grid_template_columns": null,
      "grid_template_rows": null,
      "height": null,
      "justify_content": null,
      "justify_items": null,
      "left": null,
      "margin": null,
      "max_height": null,
      "max_width": null,
      "min_height": null,
      "min_width": null,
      "object_fit": null,
      "object_position": null,
      "order": null,
      "overflow": null,
      "overflow_x": null,
      "overflow_y": null,
      "padding": null,
      "right": null,
      "top": null,
      "visibility": null,
      "width": null
     }
    },
    "3b55afa1b186438c931c1d9dbc63893e": {
     "model_module": "@jupyter-widgets/controls",
     "model_module_version": "1.5.0",
     "model_name": "FloatProgressModel",
     "state": {
      "_dom_classes": [],
      "_model_module": "@jupyter-widgets/controls",
      "_model_module_version": "1.5.0",
      "_model_name": "FloatProgressModel",
      "_view_count": null,
      "_view_module": "@jupyter-widgets/controls",
      "_view_module_version": "1.5.0",
      "_view_name": "ProgressView",
      "bar_style": "success",
      "description": "",
      "description_tooltip": null,
      "layout": "IPY_MODEL_fd5bae9602a04f2b92e552e36f3af7c8",
      "max": 570,
      "min": 0,
      "orientation": "horizontal",
      "style": "IPY_MODEL_9e82ff970f5e4ab4959c64847b092d5e",
      "value": 570
     }
    },
    "3fe5c561c7cd4e249f39865a7e61dccf": {
     "model_module": "@jupyter-widgets/controls",
     "model_module_version": "1.5.0",
     "model_name": "HTMLModel",
     "state": {
      "_dom_classes": [],
      "_model_module": "@jupyter-widgets/controls",
      "_model_module_version": "1.5.0",
      "_model_name": "HTMLModel",
      "_view_count": null,
      "_view_module": "@jupyter-widgets/controls",
      "_view_module_version": "1.5.0",
      "_view_name": "HTMLView",
      "description": "",
      "description_tooltip": null,
      "layout": "IPY_MODEL_86face7c290b423b95d24a5e2ea213d8",
      "placeholder": "​",
      "style": "IPY_MODEL_a2cba3d0ba3549c3a099ff7ecc0585fe",
      "value": " 570/570 [00:00&lt;00:00, 22.6kB/s]"
     }
    },
    "54ba2629bd234d86ac3ce4e92e5d6e75": {
     "model_module": "@jupyter-widgets/controls",
     "model_module_version": "1.5.0",
     "model_name": "DescriptionStyleModel",
     "state": {
      "_model_module": "@jupyter-widgets/controls",
      "_model_module_version": "1.5.0",
      "_model_name": "DescriptionStyleModel",
      "_view_count": null,
      "_view_module": "@jupyter-widgets/base",
      "_view_module_version": "1.2.0",
      "_view_name": "StyleView",
      "description_width": ""
     }
    },
    "57b1c0c462a8401e89b0a315b249e1fe": {
     "model_module": "@jupyter-widgets/base",
     "model_module_version": "1.2.0",
     "model_name": "LayoutModel",
     "state": {
      "_model_module": "@jupyter-widgets/base",
      "_model_module_version": "1.2.0",
      "_model_name": "LayoutModel",
      "_view_count": null,
      "_view_module": "@jupyter-widgets/base",
      "_view_module_version": "1.2.0",
      "_view_name": "LayoutView",
      "align_content": null,
      "align_items": null,
      "align_self": null,
      "border": null,
      "bottom": null,
      "display": null,
      "flex": null,
      "flex_flow": null,
      "grid_area": null,
      "grid_auto_columns": null,
      "grid_auto_flow": null,
      "grid_auto_rows": null,
      "grid_column": null,
      "grid_gap": null,
      "grid_row": null,
      "grid_template_areas": null,
      "grid_template_columns": null,
      "grid_template_rows": null,
      "height": null,
      "justify_content": null,
      "justify_items": null,
      "left": null,
      "margin": null,
      "max_height": null,
      "max_width": null,
      "min_height": null,
      "min_width": null,
      "object_fit": null,
      "object_position": null,
      "order": null,
      "overflow": null,
      "overflow_x": null,
      "overflow_y": null,
      "padding": null,
      "right": null,
      "top": null,
      "visibility": null,
      "width": null
     }
    },
    "5bcfd7bdad524ae4a84dcb1c2a0026a0": {
     "model_module": "@jupyter-widgets/base",
     "model_module_version": "1.2.0",
     "model_name": "LayoutModel",
     "state": {
      "_model_module": "@jupyter-widgets/base",
      "_model_module_version": "1.2.0",
      "_model_name": "LayoutModel",
      "_view_count": null,
      "_view_module": "@jupyter-widgets/base",
      "_view_module_version": "1.2.0",
      "_view_name": "LayoutView",
      "align_content": null,
      "align_items": null,
      "align_self": null,
      "border": null,
      "bottom": null,
      "display": null,
      "flex": null,
      "flex_flow": null,
      "grid_area": null,
      "grid_auto_columns": null,
      "grid_auto_flow": null,
      "grid_auto_rows": null,
      "grid_column": null,
      "grid_gap": null,
      "grid_row": null,
      "grid_template_areas": null,
      "grid_template_columns": null,
      "grid_template_rows": null,
      "height": null,
      "justify_content": null,
      "justify_items": null,
      "left": null,
      "margin": null,
      "max_height": null,
      "max_width": null,
      "min_height": null,
      "min_width": null,
      "object_fit": null,
      "object_position": null,
      "order": null,
      "overflow": null,
      "overflow_x": null,
      "overflow_y": null,
      "padding": null,
      "right": null,
      "top": null,
      "visibility": null,
      "width": null
     }
    },
    "5ea31ccae9674d489776b5171002c519": {
     "model_module": "@jupyter-widgets/controls",
     "model_module_version": "1.5.0",
     "model_name": "FloatProgressModel",
     "state": {
      "_dom_classes": [],
      "_model_module": "@jupyter-widgets/controls",
      "_model_module_version": "1.5.0",
      "_model_name": "FloatProgressModel",
      "_view_count": null,
      "_view_module": "@jupyter-widgets/controls",
      "_view_module_version": "1.5.0",
      "_view_name": "ProgressView",
      "bar_style": "success",
      "description": "",
      "description_tooltip": null,
      "layout": "IPY_MODEL_85925a6d148640b78213d0cd0a575d46",
      "max": 570,
      "min": 0,
      "orientation": "horizontal",
      "style": "IPY_MODEL_000c3dee516a4cc598c94a4e757e7b1c",
      "value": 570
     }
    },
    "5fd6f24e23354108a7ef9f50a6af1f89": {
     "model_module": "@jupyter-widgets/controls",
     "model_module_version": "1.5.0",
     "model_name": "HBoxModel",
     "state": {
      "_dom_classes": [],
      "_model_module": "@jupyter-widgets/controls",
      "_model_module_version": "1.5.0",
      "_model_name": "HBoxModel",
      "_view_count": null,
      "_view_module": "@jupyter-widgets/controls",
      "_view_module_version": "1.5.0",
      "_view_name": "HBoxView",
      "box_style": "",
      "children": [
       "IPY_MODEL_b17ed5ba32284bdd908f140bd6f1ce1f",
       "IPY_MODEL_b2de0bf5aad84b16b02ab363dffe4662",
       "IPY_MODEL_3fe5c561c7cd4e249f39865a7e61dccf"
      ],
      "layout": "IPY_MODEL_e6176552fcf5425888e08f728ce70a00"
     }
    },
    "63669d01441b45a085aae92667c947fe": {
     "model_module": "@jupyter-widgets/controls",
     "model_module_version": "1.5.0",
     "model_name": "HBoxModel",
     "state": {
      "_dom_classes": [],
      "_model_module": "@jupyter-widgets/controls",
      "_model_module_version": "1.5.0",
      "_model_name": "HBoxModel",
      "_view_count": null,
      "_view_module": "@jupyter-widgets/controls",
      "_view_module_version": "1.5.0",
      "_view_name": "HBoxView",
      "box_style": "",
      "children": [
       "IPY_MODEL_9eae7d38123d4d75a423460762cfe69c",
       "IPY_MODEL_5ea31ccae9674d489776b5171002c519",
       "IPY_MODEL_9f50f34d04724c89bd6241c8584777a5"
      ],
      "layout": "IPY_MODEL_0124099d449544a292c9dff22b9b275b"
     }
    },
    "7b2adefa290d42bc8a93dde504840236": {
     "model_module": "@jupyter-widgets/controls",
     "model_module_version": "1.5.0",
     "model_name": "HTMLModel",
     "state": {
      "_dom_classes": [],
      "_model_module": "@jupyter-widgets/controls",
      "_model_module_version": "1.5.0",
      "_model_name": "HTMLModel",
      "_view_count": null,
      "_view_module": "@jupyter-widgets/controls",
      "_view_module_version": "1.5.0",
      "_view_name": "HTMLView",
      "description": "",
      "description_tooltip": null,
      "layout": "IPY_MODEL_1cd65d5210b74fc4a8fe0c4e677ce8af",
      "placeholder": "​",
      "style": "IPY_MODEL_a72cc6ec594745258b0e836d88e09bf5",
      "value": "Downloading (…)lve/main/config.json: 100%"
     }
    },
    "7dc0d530e3e846c38e63d4c788f01cc2": {
     "model_module": "@jupyter-widgets/controls",
     "model_module_version": "1.5.0",
     "model_name": "DescriptionStyleModel",
     "state": {
      "_model_module": "@jupyter-widgets/controls",
      "_model_module_version": "1.5.0",
      "_model_name": "DescriptionStyleModel",
      "_view_count": null,
      "_view_module": "@jupyter-widgets/base",
      "_view_module_version": "1.2.0",
      "_view_name": "StyleView",
      "description_width": ""
     }
    },
    "84834421d45943468a8bbe69aff7d333": {
     "model_module": "@jupyter-widgets/controls",
     "model_module_version": "1.5.0",
     "model_name": "FloatProgressModel",
     "state": {
      "_dom_classes": [],
      "_model_module": "@jupyter-widgets/controls",
      "_model_module_version": "1.5.0",
      "_model_name": "FloatProgressModel",
      "_view_count": null,
      "_view_module": "@jupyter-widgets/controls",
      "_view_module_version": "1.5.0",
      "_view_name": "ProgressView",
      "bar_style": "success",
      "description": "",
      "description_tooltip": null,
      "layout": "IPY_MODEL_57b1c0c462a8401e89b0a315b249e1fe",
      "max": 570,
      "min": 0,
      "orientation": "horizontal",
      "style": "IPY_MODEL_b0938032a9a14320813c0ce2a445e615",
      "value": 570
     }
    },
    "85925a6d148640b78213d0cd0a575d46": {
     "model_module": "@jupyter-widgets/base",
     "model_module_version": "1.2.0",
     "model_name": "LayoutModel",
     "state": {
      "_model_module": "@jupyter-widgets/base",
      "_model_module_version": "1.2.0",
      "_model_name": "LayoutModel",
      "_view_count": null,
      "_view_module": "@jupyter-widgets/base",
      "_view_module_version": "1.2.0",
      "_view_name": "LayoutView",
      "align_content": null,
      "align_items": null,
      "align_self": null,
      "border": null,
      "bottom": null,
      "display": null,
      "flex": null,
      "flex_flow": null,
      "grid_area": null,
      "grid_auto_columns": null,
      "grid_auto_flow": null,
      "grid_auto_rows": null,
      "grid_column": null,
      "grid_gap": null,
      "grid_row": null,
      "grid_template_areas": null,
      "grid_template_columns": null,
      "grid_template_rows": null,
      "height": null,
      "justify_content": null,
      "justify_items": null,
      "left": null,
      "margin": null,
      "max_height": null,
      "max_width": null,
      "min_height": null,
      "min_width": null,
      "object_fit": null,
      "object_position": null,
      "order": null,
      "overflow": null,
      "overflow_x": null,
      "overflow_y": null,
      "padding": null,
      "right": null,
      "top": null,
      "visibility": null,
      "width": null
     }
    },
    "86face7c290b423b95d24a5e2ea213d8": {
     "model_module": "@jupyter-widgets/base",
     "model_module_version": "1.2.0",
     "model_name": "LayoutModel",
     "state": {
      "_model_module": "@jupyter-widgets/base",
      "_model_module_version": "1.2.0",
      "_model_name": "LayoutModel",
      "_view_count": null,
      "_view_module": "@jupyter-widgets/base",
      "_view_module_version": "1.2.0",
      "_view_name": "LayoutView",
      "align_content": null,
      "align_items": null,
      "align_self": null,
      "border": null,
      "bottom": null,
      "display": null,
      "flex": null,
      "flex_flow": null,
      "grid_area": null,
      "grid_auto_columns": null,
      "grid_auto_flow": null,
      "grid_auto_rows": null,
      "grid_column": null,
      "grid_gap": null,
      "grid_row": null,
      "grid_template_areas": null,
      "grid_template_columns": null,
      "grid_template_rows": null,
      "height": null,
      "justify_content": null,
      "justify_items": null,
      "left": null,
      "margin": null,
      "max_height": null,
      "max_width": null,
      "min_height": null,
      "min_width": null,
      "object_fit": null,
      "object_position": null,
      "order": null,
      "overflow": null,
      "overflow_x": null,
      "overflow_y": null,
      "padding": null,
      "right": null,
      "top": null,
      "visibility": null,
      "width": null
     }
    },
    "8d3af1b47a134d49a5fecd138320a2c1": {
     "model_module": "@jupyter-widgets/controls",
     "model_module_version": "1.5.0",
     "model_name": "HTMLModel",
     "state": {
      "_dom_classes": [],
      "_model_module": "@jupyter-widgets/controls",
      "_model_module_version": "1.5.0",
      "_model_name": "HTMLModel",
      "_view_count": null,
      "_view_module": "@jupyter-widgets/controls",
      "_view_module_version": "1.5.0",
      "_view_name": "HTMLView",
      "description": "",
      "description_tooltip": null,
      "layout": "IPY_MODEL_a26b26b110d445c69dfb4f706d106429",
      "placeholder": "​",
      "style": "IPY_MODEL_ac0c1376c2ad4fbcbae5b7a127a65d97",
      "value": " 570/570 [00:00&lt;00:00, 13.6kB/s]"
     }
    },
    "96d8b4448b4a42ed8e9bc9b9c77a6218": {
     "model_module": "@jupyter-widgets/base",
     "model_module_version": "1.2.0",
     "model_name": "LayoutModel",
     "state": {
      "_model_module": "@jupyter-widgets/base",
      "_model_module_version": "1.2.0",
      "_model_name": "LayoutModel",
      "_view_count": null,
      "_view_module": "@jupyter-widgets/base",
      "_view_module_version": "1.2.0",
      "_view_name": "LayoutView",
      "align_content": null,
      "align_items": null,
      "align_self": null,
      "border": null,
      "bottom": null,
      "display": null,
      "flex": null,
      "flex_flow": null,
      "grid_area": null,
      "grid_auto_columns": null,
      "grid_auto_flow": null,
      "grid_auto_rows": null,
      "grid_column": null,
      "grid_gap": null,
      "grid_row": null,
      "grid_template_areas": null,
      "grid_template_columns": null,
      "grid_template_rows": null,
      "height": null,
      "justify_content": null,
      "justify_items": null,
      "left": null,
      "margin": null,
      "max_height": null,
      "max_width": null,
      "min_height": null,
      "min_width": null,
      "object_fit": null,
      "object_position": null,
      "order": null,
      "overflow": null,
      "overflow_x": null,
      "overflow_y": null,
      "padding": null,
      "right": null,
      "top": null,
      "visibility": null,
      "width": null
     }
    },
    "9b91e6fe3e11449aa0c9119154ff3714": {
     "model_module": "@jupyter-widgets/controls",
     "model_module_version": "1.5.0",
     "model_name": "DescriptionStyleModel",
     "state": {
      "_model_module": "@jupyter-widgets/controls",
      "_model_module_version": "1.5.0",
      "_model_name": "DescriptionStyleModel",
      "_view_count": null,
      "_view_module": "@jupyter-widgets/base",
      "_view_module_version": "1.2.0",
      "_view_name": "StyleView",
      "description_width": ""
     }
    },
    "9c4db9a51bff4528a0ea08480acde7f1": {
     "model_module": "@jupyter-widgets/controls",
     "model_module_version": "1.5.0",
     "model_name": "DescriptionStyleModel",
     "state": {
      "_model_module": "@jupyter-widgets/controls",
      "_model_module_version": "1.5.0",
      "_model_name": "DescriptionStyleModel",
      "_view_count": null,
      "_view_module": "@jupyter-widgets/base",
      "_view_module_version": "1.2.0",
      "_view_name": "StyleView",
      "description_width": ""
     }
    },
    "9c9666d95732409ab4dd5463b29dcab1": {
     "model_module": "@jupyter-widgets/base",
     "model_module_version": "1.2.0",
     "model_name": "LayoutModel",
     "state": {
      "_model_module": "@jupyter-widgets/base",
      "_model_module_version": "1.2.0",
      "_model_name": "LayoutModel",
      "_view_count": null,
      "_view_module": "@jupyter-widgets/base",
      "_view_module_version": "1.2.0",
      "_view_name": "LayoutView",
      "align_content": null,
      "align_items": null,
      "align_self": null,
      "border": null,
      "bottom": null,
      "display": null,
      "flex": null,
      "flex_flow": null,
      "grid_area": null,
      "grid_auto_columns": null,
      "grid_auto_flow": null,
      "grid_auto_rows": null,
      "grid_column": null,
      "grid_gap": null,
      "grid_row": null,
      "grid_template_areas": null,
      "grid_template_columns": null,
      "grid_template_rows": null,
      "height": null,
      "justify_content": null,
      "justify_items": null,
      "left": null,
      "margin": null,
      "max_height": null,
      "max_width": null,
      "min_height": null,
      "min_width": null,
      "object_fit": null,
      "object_position": null,
      "order": null,
      "overflow": null,
      "overflow_x": null,
      "overflow_y": null,
      "padding": null,
      "right": null,
      "top": null,
      "visibility": null,
      "width": null
     }
    },
    "9e82ff970f5e4ab4959c64847b092d5e": {
     "model_module": "@jupyter-widgets/controls",
     "model_module_version": "1.5.0",
     "model_name": "ProgressStyleModel",
     "state": {
      "_model_module": "@jupyter-widgets/controls",
      "_model_module_version": "1.5.0",
      "_model_name": "ProgressStyleModel",
      "_view_count": null,
      "_view_module": "@jupyter-widgets/base",
      "_view_module_version": "1.2.0",
      "_view_name": "StyleView",
      "bar_color": null,
      "description_width": ""
     }
    },
    "9eae7d38123d4d75a423460762cfe69c": {
     "model_module": "@jupyter-widgets/controls",
     "model_module_version": "1.5.0",
     "model_name": "HTMLModel",
     "state": {
      "_dom_classes": [],
      "_model_module": "@jupyter-widgets/controls",
      "_model_module_version": "1.5.0",
      "_model_name": "HTMLModel",
      "_view_count": null,
      "_view_module": "@jupyter-widgets/controls",
      "_view_module_version": "1.5.0",
      "_view_name": "HTMLView",
      "description": "",
      "description_tooltip": null,
      "layout": "IPY_MODEL_d809f7ab96b74d299ac68fd2c3d2b30a",
      "placeholder": "​",
      "style": "IPY_MODEL_9c4db9a51bff4528a0ea08480acde7f1",
      "value": "Downloading (…)lve/main/config.json: 100%"
     }
    },
    "9f50f34d04724c89bd6241c8584777a5": {
     "model_module": "@jupyter-widgets/controls",
     "model_module_version": "1.5.0",
     "model_name": "HTMLModel",
     "state": {
      "_dom_classes": [],
      "_model_module": "@jupyter-widgets/controls",
      "_model_module_version": "1.5.0",
      "_model_name": "HTMLModel",
      "_view_count": null,
      "_view_module": "@jupyter-widgets/controls",
      "_view_module_version": "1.5.0",
      "_view_name": "HTMLView",
      "description": "",
      "description_tooltip": null,
      "layout": "IPY_MODEL_14426732a6664248bd04c24a5f02ff9c",
      "placeholder": "​",
      "style": "IPY_MODEL_a183d0a9ac48427aa4b8adaa6dda7952",
      "value": " 570/570 [00:00&lt;00:00, 9.50kB/s]"
     }
    },
    "a183d0a9ac48427aa4b8adaa6dda7952": {
     "model_module": "@jupyter-widgets/controls",
     "model_module_version": "1.5.0",
     "model_name": "DescriptionStyleModel",
     "state": {
      "_model_module": "@jupyter-widgets/controls",
      "_model_module_version": "1.5.0",
      "_model_name": "DescriptionStyleModel",
      "_view_count": null,
      "_view_module": "@jupyter-widgets/base",
      "_view_module_version": "1.2.0",
      "_view_name": "StyleView",
      "description_width": ""
     }
    },
    "a26b26b110d445c69dfb4f706d106429": {
     "model_module": "@jupyter-widgets/base",
     "model_module_version": "1.2.0",
     "model_name": "LayoutModel",
     "state": {
      "_model_module": "@jupyter-widgets/base",
      "_model_module_version": "1.2.0",
      "_model_name": "LayoutModel",
      "_view_count": null,
      "_view_module": "@jupyter-widgets/base",
      "_view_module_version": "1.2.0",
      "_view_name": "LayoutView",
      "align_content": null,
      "align_items": null,
      "align_self": null,
      "border": null,
      "bottom": null,
      "display": null,
      "flex": null,
      "flex_flow": null,
      "grid_area": null,
      "grid_auto_columns": null,
      "grid_auto_flow": null,
      "grid_auto_rows": null,
      "grid_column": null,
      "grid_gap": null,
      "grid_row": null,
      "grid_template_areas": null,
      "grid_template_columns": null,
      "grid_template_rows": null,
      "height": null,
      "justify_content": null,
      "justify_items": null,
      "left": null,
      "margin": null,
      "max_height": null,
      "max_width": null,
      "min_height": null,
      "min_width": null,
      "object_fit": null,
      "object_position": null,
      "order": null,
      "overflow": null,
      "overflow_x": null,
      "overflow_y": null,
      "padding": null,
      "right": null,
      "top": null,
      "visibility": null,
      "width": null
     }
    },
    "a2cba3d0ba3549c3a099ff7ecc0585fe": {
     "model_module": "@jupyter-widgets/controls",
     "model_module_version": "1.5.0",
     "model_name": "DescriptionStyleModel",
     "state": {
      "_model_module": "@jupyter-widgets/controls",
      "_model_module_version": "1.5.0",
      "_model_name": "DescriptionStyleModel",
      "_view_count": null,
      "_view_module": "@jupyter-widgets/base",
      "_view_module_version": "1.2.0",
      "_view_name": "StyleView",
      "description_width": ""
     }
    },
    "a72cc6ec594745258b0e836d88e09bf5": {
     "model_module": "@jupyter-widgets/controls",
     "model_module_version": "1.5.0",
     "model_name": "DescriptionStyleModel",
     "state": {
      "_model_module": "@jupyter-widgets/controls",
      "_model_module_version": "1.5.0",
      "_model_name": "DescriptionStyleModel",
      "_view_count": null,
      "_view_module": "@jupyter-widgets/base",
      "_view_module_version": "1.2.0",
      "_view_name": "StyleView",
      "description_width": ""
     }
    },
    "a7dcc393a85b4f8c8d56a910fa5a301e": {
     "model_module": "@jupyter-widgets/base",
     "model_module_version": "1.2.0",
     "model_name": "LayoutModel",
     "state": {
      "_model_module": "@jupyter-widgets/base",
      "_model_module_version": "1.2.0",
      "_model_name": "LayoutModel",
      "_view_count": null,
      "_view_module": "@jupyter-widgets/base",
      "_view_module_version": "1.2.0",
      "_view_name": "LayoutView",
      "align_content": null,
      "align_items": null,
      "align_self": null,
      "border": null,
      "bottom": null,
      "display": null,
      "flex": null,
      "flex_flow": null,
      "grid_area": null,
      "grid_auto_columns": null,
      "grid_auto_flow": null,
      "grid_auto_rows": null,
      "grid_column": null,
      "grid_gap": null,
      "grid_row": null,
      "grid_template_areas": null,
      "grid_template_columns": null,
      "grid_template_rows": null,
      "height": null,
      "justify_content": null,
      "justify_items": null,
      "left": null,
      "margin": null,
      "max_height": null,
      "max_width": null,
      "min_height": null,
      "min_width": null,
      "object_fit": null,
      "object_position": null,
      "order": null,
      "overflow": null,
      "overflow_x": null,
      "overflow_y": null,
      "padding": null,
      "right": null,
      "top": null,
      "visibility": null,
      "width": null
     }
    },
    "ac0c1376c2ad4fbcbae5b7a127a65d97": {
     "model_module": "@jupyter-widgets/controls",
     "model_module_version": "1.5.0",
     "model_name": "DescriptionStyleModel",
     "state": {
      "_model_module": "@jupyter-widgets/controls",
      "_model_module_version": "1.5.0",
      "_model_name": "DescriptionStyleModel",
      "_view_count": null,
      "_view_module": "@jupyter-widgets/base",
      "_view_module_version": "1.2.0",
      "_view_name": "StyleView",
      "description_width": ""
     }
    },
    "b0938032a9a14320813c0ce2a445e615": {
     "model_module": "@jupyter-widgets/controls",
     "model_module_version": "1.5.0",
     "model_name": "ProgressStyleModel",
     "state": {
      "_model_module": "@jupyter-widgets/controls",
      "_model_module_version": "1.5.0",
      "_model_name": "ProgressStyleModel",
      "_view_count": null,
      "_view_module": "@jupyter-widgets/base",
      "_view_module_version": "1.2.0",
      "_view_name": "StyleView",
      "bar_color": null,
      "description_width": ""
     }
    },
    "b17ed5ba32284bdd908f140bd6f1ce1f": {
     "model_module": "@jupyter-widgets/controls",
     "model_module_version": "1.5.0",
     "model_name": "HTMLModel",
     "state": {
      "_dom_classes": [],
      "_model_module": "@jupyter-widgets/controls",
      "_model_module_version": "1.5.0",
      "_model_name": "HTMLModel",
      "_view_count": null,
      "_view_module": "@jupyter-widgets/controls",
      "_view_module_version": "1.5.0",
      "_view_name": "HTMLView",
      "description": "",
      "description_tooltip": null,
      "layout": "IPY_MODEL_c8a9ac7f19204c339ab358b2f21bfbaf",
      "placeholder": "​",
      "style": "IPY_MODEL_7dc0d530e3e846c38e63d4c788f01cc2",
      "value": "Downloading (…)lve/main/config.json: 100%"
     }
    },
    "b2de0bf5aad84b16b02ab363dffe4662": {
     "model_module": "@jupyter-widgets/controls",
     "model_module_version": "1.5.0",
     "model_name": "FloatProgressModel",
     "state": {
      "_dom_classes": [],
      "_model_module": "@jupyter-widgets/controls",
      "_model_module_version": "1.5.0",
      "_model_name": "FloatProgressModel",
      "_view_count": null,
      "_view_module": "@jupyter-widgets/controls",
      "_view_module_version": "1.5.0",
      "_view_name": "ProgressView",
      "bar_style": "success",
      "description": "",
      "description_tooltip": null,
      "layout": "IPY_MODEL_e8914be7c746474898655b2fb0edfe91",
      "max": 570,
      "min": 0,
      "orientation": "horizontal",
      "style": "IPY_MODEL_197a5930a86a4905bbb3517020888c6b",
      "value": 570
     }
    },
    "c8a9ac7f19204c339ab358b2f21bfbaf": {
     "model_module": "@jupyter-widgets/base",
     "model_module_version": "1.2.0",
     "model_name": "LayoutModel",
     "state": {
      "_model_module": "@jupyter-widgets/base",
      "_model_module_version": "1.2.0",
      "_model_name": "LayoutModel",
      "_view_count": null,
      "_view_module": "@jupyter-widgets/base",
      "_view_module_version": "1.2.0",
      "_view_name": "LayoutView",
      "align_content": null,
      "align_items": null,
      "align_self": null,
      "border": null,
      "bottom": null,
      "display": null,
      "flex": null,
      "flex_flow": null,
      "grid_area": null,
      "grid_auto_columns": null,
      "grid_auto_flow": null,
      "grid_auto_rows": null,
      "grid_column": null,
      "grid_gap": null,
      "grid_row": null,
      "grid_template_areas": null,
      "grid_template_columns": null,
      "grid_template_rows": null,
      "height": null,
      "justify_content": null,
      "justify_items": null,
      "left": null,
      "margin": null,
      "max_height": null,
      "max_width": null,
      "min_height": null,
      "min_width": null,
      "object_fit": null,
      "object_position": null,
      "order": null,
      "overflow": null,
      "overflow_x": null,
      "overflow_y": null,
      "padding": null,
      "right": null,
      "top": null,
      "visibility": null,
      "width": null
     }
    },
    "d809f7ab96b74d299ac68fd2c3d2b30a": {
     "model_module": "@jupyter-widgets/base",
     "model_module_version": "1.2.0",
     "model_name": "LayoutModel",
     "state": {
      "_model_module": "@jupyter-widgets/base",
      "_model_module_version": "1.2.0",
      "_model_name": "LayoutModel",
      "_view_count": null,
      "_view_module": "@jupyter-widgets/base",
      "_view_module_version": "1.2.0",
      "_view_name": "LayoutView",
      "align_content": null,
      "align_items": null,
      "align_self": null,
      "border": null,
      "bottom": null,
      "display": null,
      "flex": null,
      "flex_flow": null,
      "grid_area": null,
      "grid_auto_columns": null,
      "grid_auto_flow": null,
      "grid_auto_rows": null,
      "grid_column": null,
      "grid_gap": null,
      "grid_row": null,
      "grid_template_areas": null,
      "grid_template_columns": null,
      "grid_template_rows": null,
      "height": null,
      "justify_content": null,
      "justify_items": null,
      "left": null,
      "margin": null,
      "max_height": null,
      "max_width": null,
      "min_height": null,
      "min_width": null,
      "object_fit": null,
      "object_position": null,
      "order": null,
      "overflow": null,
      "overflow_x": null,
      "overflow_y": null,
      "padding": null,
      "right": null,
      "top": null,
      "visibility": null,
      "width": null
     }
    },
    "e58c57d65e3d468d9f7cdcd079d7586c": {
     "model_module": "@jupyter-widgets/controls",
     "model_module_version": "1.5.0",
     "model_name": "HBoxModel",
     "state": {
      "_dom_classes": [],
      "_model_module": "@jupyter-widgets/controls",
      "_model_module_version": "1.5.0",
      "_model_name": "HBoxModel",
      "_view_count": null,
      "_view_module": "@jupyter-widgets/controls",
      "_view_module_version": "1.5.0",
      "_view_name": "HBoxView",
      "box_style": "",
      "children": [
       "IPY_MODEL_7b2adefa290d42bc8a93dde504840236",
       "IPY_MODEL_3b55afa1b186438c931c1d9dbc63893e",
       "IPY_MODEL_8d3af1b47a134d49a5fecd138320a2c1"
      ],
      "layout": "IPY_MODEL_a7dcc393a85b4f8c8d56a910fa5a301e"
     }
    },
    "e596056ff50c4a66af086cb3fb7643c6": {
     "model_module": "@jupyter-widgets/controls",
     "model_module_version": "1.5.0",
     "model_name": "HTMLModel",
     "state": {
      "_dom_classes": [],
      "_model_module": "@jupyter-widgets/controls",
      "_model_module_version": "1.5.0",
      "_model_name": "HTMLModel",
      "_view_count": null,
      "_view_module": "@jupyter-widgets/controls",
      "_view_module_version": "1.5.0",
      "_view_name": "HTMLView",
      "description": "",
      "description_tooltip": null,
      "layout": "IPY_MODEL_96d8b4448b4a42ed8e9bc9b9c77a6218",
      "placeholder": "​",
      "style": "IPY_MODEL_54ba2629bd234d86ac3ce4e92e5d6e75",
      "value": "Downloading (…)lve/main/config.json: 100%"
     }
    },
    "e6176552fcf5425888e08f728ce70a00": {
     "model_module": "@jupyter-widgets/base",
     "model_module_version": "1.2.0",
     "model_name": "LayoutModel",
     "state": {
      "_model_module": "@jupyter-widgets/base",
      "_model_module_version": "1.2.0",
      "_model_name": "LayoutModel",
      "_view_count": null,
      "_view_module": "@jupyter-widgets/base",
      "_view_module_version": "1.2.0",
      "_view_name": "LayoutView",
      "align_content": null,
      "align_items": null,
      "align_self": null,
      "border": null,
      "bottom": null,
      "display": null,
      "flex": null,
      "flex_flow": null,
      "grid_area": null,
      "grid_auto_columns": null,
      "grid_auto_flow": null,
      "grid_auto_rows": null,
      "grid_column": null,
      "grid_gap": null,
      "grid_row": null,
      "grid_template_areas": null,
      "grid_template_columns": null,
      "grid_template_rows": null,
      "height": null,
      "justify_content": null,
      "justify_items": null,
      "left": null,
      "margin": null,
      "max_height": null,
      "max_width": null,
      "min_height": null,
      "min_width": null,
      "object_fit": null,
      "object_position": null,
      "order": null,
      "overflow": null,
      "overflow_x": null,
      "overflow_y": null,
      "padding": null,
      "right": null,
      "top": null,
      "visibility": null,
      "width": null
     }
    },
    "e8914be7c746474898655b2fb0edfe91": {
     "model_module": "@jupyter-widgets/base",
     "model_module_version": "1.2.0",
     "model_name": "LayoutModel",
     "state": {
      "_model_module": "@jupyter-widgets/base",
      "_model_module_version": "1.2.0",
      "_model_name": "LayoutModel",
      "_view_count": null,
      "_view_module": "@jupyter-widgets/base",
      "_view_module_version": "1.2.0",
      "_view_name": "LayoutView",
      "align_content": null,
      "align_items": null,
      "align_self": null,
      "border": null,
      "bottom": null,
      "display": null,
      "flex": null,
      "flex_flow": null,
      "grid_area": null,
      "grid_auto_columns": null,
      "grid_auto_flow": null,
      "grid_auto_rows": null,
      "grid_column": null,
      "grid_gap": null,
      "grid_row": null,
      "grid_template_areas": null,
      "grid_template_columns": null,
      "grid_template_rows": null,
      "height": null,
      "justify_content": null,
      "justify_items": null,
      "left": null,
      "margin": null,
      "max_height": null,
      "max_width": null,
      "min_height": null,
      "min_width": null,
      "object_fit": null,
      "object_position": null,
      "order": null,
      "overflow": null,
      "overflow_x": null,
      "overflow_y": null,
      "padding": null,
      "right": null,
      "top": null,
      "visibility": null,
      "width": null
     }
    },
    "eb653154f3794b1ba4ecb658cbf23705": {
     "model_module": "@jupyter-widgets/controls",
     "model_module_version": "1.5.0",
     "model_name": "HTMLModel",
     "state": {
      "_dom_classes": [],
      "_model_module": "@jupyter-widgets/controls",
      "_model_module_version": "1.5.0",
      "_model_name": "HTMLModel",
      "_view_count": null,
      "_view_module": "@jupyter-widgets/controls",
      "_view_module_version": "1.5.0",
      "_view_name": "HTMLView",
      "description": "",
      "description_tooltip": null,
      "layout": "IPY_MODEL_9c9666d95732409ab4dd5463b29dcab1",
      "placeholder": "​",
      "style": "IPY_MODEL_9b91e6fe3e11449aa0c9119154ff3714",
      "value": " 570/570 [00:00&lt;00:00, 15.0kB/s]"
     }
    },
    "fd5bae9602a04f2b92e552e36f3af7c8": {
     "model_module": "@jupyter-widgets/base",
     "model_module_version": "1.2.0",
     "model_name": "LayoutModel",
     "state": {
      "_model_module": "@jupyter-widgets/base",
      "_model_module_version": "1.2.0",
      "_model_name": "LayoutModel",
      "_view_count": null,
      "_view_module": "@jupyter-widgets/base",
      "_view_module_version": "1.2.0",
      "_view_name": "LayoutView",
      "align_content": null,
      "align_items": null,
      "align_self": null,
      "border": null,
      "bottom": null,
      "display": null,
      "flex": null,
      "flex_flow": null,
      "grid_area": null,
      "grid_auto_columns": null,
      "grid_auto_flow": null,
      "grid_auto_rows": null,
      "grid_column": null,
      "grid_gap": null,
      "grid_row": null,
      "grid_template_areas": null,
      "grid_template_columns": null,
      "grid_template_rows": null,
      "height": null,
      "justify_content": null,
      "justify_items": null,
      "left": null,
      "margin": null,
      "max_height": null,
      "max_width": null,
      "min_height": null,
      "min_width": null,
      "object_fit": null,
      "object_position": null,
      "order": null,
      "overflow": null,
      "overflow_x": null,
      "overflow_y": null,
      "padding": null,
      "right": null,
      "top": null,
      "visibility": null,
      "width": null
     }
    },
    "ffdaf719f26946af9b1d46dfe3ec70d1": {
     "model_module": "@jupyter-widgets/controls",
     "model_module_version": "1.5.0",
     "model_name": "HBoxModel",
     "state": {
      "_dom_classes": [],
      "_model_module": "@jupyter-widgets/controls",
      "_model_module_version": "1.5.0",
      "_model_name": "HBoxModel",
      "_view_count": null,
      "_view_module": "@jupyter-widgets/controls",
      "_view_module_version": "1.5.0",
      "_view_name": "HBoxView",
      "box_style": "",
      "children": [
       "IPY_MODEL_e596056ff50c4a66af086cb3fb7643c6",
       "IPY_MODEL_84834421d45943468a8bbe69aff7d333",
       "IPY_MODEL_eb653154f3794b1ba4ecb658cbf23705"
      ],
      "layout": "IPY_MODEL_5bcfd7bdad524ae4a84dcb1c2a0026a0"
     }
    }
   }
  }
 },
 "nbformat": 4,
 "nbformat_minor": 1
}
