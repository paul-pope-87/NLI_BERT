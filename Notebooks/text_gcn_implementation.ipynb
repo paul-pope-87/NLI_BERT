{
 "cells": [
  {
   "cell_type": "markdown",
   "id": "c33cb922",
   "metadata": {},
   "source": [
    "<h1> Text GCN Implementation </h1>\n",
    "\n",
    "So far, Tensorflow on M1 is hard to find support for IPython kernels: Tensorflow shell commands work with venv-metal in base environment.\n",
    "\n",
    "A conda build will be attempted and an Ipython kernel registered later: if that works, the code below should run."
   ]
  },
  {
   "cell_type": "code",
   "execution_count": 24,
   "id": "0e8bb0b1",
   "metadata": {},
   "outputs": [],
   "source": [
    "#use pyto_env kernel, pyto env.\n",
    "\n",
    "import os\n",
    "import re\n",
    "import json\n",
    "import csv\n",
    "import pandas as pd\n",
    "import importlib\n",
    "import pickle\n",
    "import numpy as np\n",
    "\n",
    "import torch\n",
    "from torch.optim import AdamW\n",
    "from torchmetrics import F1Score\n",
    "\n",
    "import common\n",
    "from common import plot_confusion_matrix, get_weights\n",
    "\n",
    "import common_metrics\n",
    "from common_metrics import plot_one_vs_one_roc\n"
   ]
  },
  {
   "cell_type": "code",
   "execution_count": 132,
   "id": "deec546a",
   "metadata": {},
   "outputs": [],
   "source": [
    "project_dir = \"/Users/paulp/Library/CloudStorage/OneDrive-UniversityofEasternFinland/UEF/Thesis\"\n",
    "data_dir = os.path.join(project_dir,\"Data\")\n",
    "model_dir = os.path.join(project_dir, \"Models\")\n",
    "notebook_dir = os.path.join(project_dir, \"Notebooks\")\n",
    "# Word embeddings\n",
    "hidden_size = 300\n",
    "glove_file = os.path.join(project_dir, f'Notebooks/glove.6B/glove.6B.{hidden_size}d.txt')\n",
    "\n",
    "\n",
    "os.chdir(data_dir)\n",
    "#os.mkdir('data')\n",
    "#L1 to integer map for label encoding\n",
    "with open('target_idx.json') as f:\n",
    "    data = f.read()\n",
    "target_idx = json.loads(data)\n",
    "idx_target = {target_idx[a]:a for a in target_idx.keys()}\n",
    "\n",
    "\n",
    "# additional special tokens\n",
    "with open('spec_tokens_ne.txt', 'rb') as file:\n",
    "    spec_tokens = pickle.load(file)\n",
    "spec_tokens = [a for a in spec_tokens if '-' not in a]\n",
    "\n",
    "# Load from data directory\n",
    "dataset = pd.read_csv('masked_data_set.csv', index_col = 0).reset_index(drop=True)\n",
    "ds_tr = pd.read_csv('train.csv')\n",
    "ds_vl = pd.read_csv('validation.csv')\n",
    "ds_ts = pd.read_csv('test.csv')\n",
    "#ds_tr = pd.concat([ds_tr, ds_vl], axis=0) # just use val set in training and test for validation. fewer operations\n"
   ]
  },
  {
   "cell_type": "code",
   "execution_count": null,
   "id": "72d82892",
   "metadata": {},
   "outputs": [],
   "source": [
    "# tokenizer \n",
    "\n",
    "import spacy\n",
    "from spacy.symbols import ORTH\n",
    "\n",
    "nlp = spacy.load(\"en_core_web_sm\")\n",
    "\n",
    "# Add special case rule\n",
    "for tok in spec_tokens:\n",
    "    special_case = [{ORTH: tok}]\n",
    "    nlp.tokenizer.add_special_case(tok, special_case)\n",
    "    \n",
    "# Check new tokenization\n",
    "print([w.text.lower() for w in nlp(\"An expert in NLP, <R> states that in <MISC> this is not true.\")])  \n",
    "\n",
    "def tokenize_fn(text):\n",
    "    # need lowercase for GloVe vectors\n",
    "    return [w.text.lower() for w in nlp(text)]"
   ]
  },
  {
   "cell_type": "code",
   "execution_count": null,
   "id": "4799c3a4",
   "metadata": {},
   "outputs": [],
   "source": [
    "# Hyperparameters and other arguments\n",
    "\n",
    "lr = 5e-5\n",
    "epochs = 100\n",
    "batch_size = 2\n",
    "input_dim = 300 # is this the number of GloVE features?\n",
    "hidden = 96 #Number of units in hidden layer \n",
    "steps = 2 #Number of graph layers.\n",
    "dropout = 0.5\n",
    "weight_decay =0.01 # Weight for L2 loss on embedding matrix\n",
    "max_degree =3 # Maximum Chebyshev polynomial degree\n",
    "early_stopping =-1 # Tolerance for early stopping (# of epochs).\n",
    "logging_steps = 100 # perform evaluate and logging every logging steps \n",
    "num_classes = len(target_idx.keys()) # perform evaluate and logging every logging steps.\n",
    "require_improvement = 100 # What is this?\n",
    "model_name = 'BEGNN_1'\n",
    "model_save_path = os.path.join(model_dir, model_name + '.ckpt')\n",
    "device = 'cpu'"
   ]
  },
  {
   "cell_type": "markdown",
   "id": "3e15adc1",
   "metadata": {},
   "source": [
    "<h2> Data Loader </h2>"
   ]
  },
  {
   "cell_type": "code",
   "execution_count": 25,
   "id": "eafb304e",
   "metadata": {},
   "outputs": [
    {
     "data": {
      "text/plain": [
       "'I\\'ve been making music now for 20 years. You can say: my whole life through. You know, good music, magnificant music with distorted guitars and blasting drums. Not this stupid and boring heavy-Metal stuff that all these 13 year old kids like to create. No, rather \" spit out \" than \" create \"! I\\'m not one of these brave giants of Rock with their even faces and curly, blond coloured hair. I\\'m the opposition, but the real artist. Greasy hair, ferocious looking eyes, rattling and screaming voice, dirty trousers, bearlike muscles, a dangerous gun in my pocket, drugs in my left brownskinned hand and a microphone in the other to moan this terrificly infernal Hard-core sound through. Last year I tried to get a contract with CBS! I thought that my absolutly authentic <MISC> music should hit the charts in seconds. So I slugged in the office of Mr. Moneyman. I have to admit, that I forgot to knock at the teak-wood door. Whereas the obnoxios smell of my last over throwing which I placed right in front of the CBS-administration building on the side-walk and which was heaved out by my mould aspiration should not have disturbed the manager. But he wanted to throw me out, so I sliced him up with my sharp pocket knife. Nothing special! The floor was only a little bit spilled with blood. Therefore I don\\'t understand why the record company didn\\'t want to employ me and my band \" The cockroaches \". Now, I \\' m absolutely sure that they didn\\'t take us because they feared that our productions might not be profitable. What else could be the reason for their denying?  (adapted from: \" The strange argumentation of <MISC>. \")'"
      ]
     },
     "execution_count": 25,
     "metadata": {},
     "output_type": "execute_result"
    }
   ],
   "source": [
    "re.sub('\\n', '', dataset.Text[0])"
   ]
  },
  {
   "cell_type": "code",
   "execution_count": 38,
   "id": "ac26b7a4",
   "metadata": {},
   "outputs": [
    {
     "data": {
      "text/plain": [
       "'GE'"
      ]
     },
     "execution_count": 38,
     "metadata": {},
     "output_type": "execute_result"
    }
   ],
   "source": [
    "next(dataset.iterrows())[1].Target"
   ]
  },
  {
   "cell_type": "code",
   "execution_count": 86,
   "id": "8b3c43ed",
   "metadata": {},
   "outputs": [],
   "source": [
    "from random import Random, shuffle"
   ]
  },
  {
   "cell_type": "code",
   "execution_count": 42,
   "id": "d617158b",
   "metadata": {},
   "outputs": [
    {
     "name": "stdout",
     "output_type": "stream",
     "text": [
      "Help on class Random in module random:\n",
      "\n",
      "class Random(_random.Random)\n",
      " |  Random(x=None)\n",
      " |  \n",
      " |  Random number generator base class used by bound module functions.\n",
      " |  \n",
      " |  Used to instantiate instances of Random to get generators that don't\n",
      " |  share state.\n",
      " |  \n",
      " |  Class Random can also be subclassed if you want to use a different basic\n",
      " |  generator of your own devising: in that case, override the following\n",
      " |  methods:  random(), seed(), getstate(), and setstate().\n",
      " |  Optionally, implement a getrandbits() method so that randrange()\n",
      " |  can cover arbitrarily large ranges.\n",
      " |  \n",
      " |  Method resolution order:\n",
      " |      Random\n",
      " |      _random.Random\n",
      " |      builtins.object\n",
      " |  \n",
      " |  Methods defined here:\n",
      " |  \n",
      " |  __getstate__(self)\n",
      " |      # Issue 17489: Since __reduce__ was defined to fix #759889 this is no\n",
      " |      # longer called; we leave it here because it has been here since random was\n",
      " |      # rewritten back in 2001 and why risk breaking something.\n",
      " |  \n",
      " |  __init__(self, x=None)\n",
      " |      Initialize an instance.\n",
      " |      \n",
      " |      Optional argument x controls seeding, as for Random.seed().\n",
      " |  \n",
      " |  __reduce__(self)\n",
      " |      Helper for pickle.\n",
      " |  \n",
      " |  __setstate__(self, state)\n",
      " |  \n",
      " |  betavariate(self, alpha, beta)\n",
      " |      Beta distribution.\n",
      " |      \n",
      " |      Conditions on the parameters are alpha > 0 and beta > 0.\n",
      " |      Returned values range between 0 and 1.\n",
      " |  \n",
      " |  choice(self, seq)\n",
      " |      Choose a random element from a non-empty sequence.\n",
      " |  \n",
      " |  choices(self, population, weights=None, *, cum_weights=None, k=1)\n",
      " |      Return a k sized list of population elements chosen with replacement.\n",
      " |      \n",
      " |      If the relative weights or cumulative weights are not specified,\n",
      " |      the selections are made with equal probability.\n",
      " |  \n",
      " |  expovariate(self, lambd)\n",
      " |      Exponential distribution.\n",
      " |      \n",
      " |      lambd is 1.0 divided by the desired mean.  It should be\n",
      " |      nonzero.  (The parameter would be called \"lambda\", but that is\n",
      " |      a reserved word in Python.)  Returned values range from 0 to\n",
      " |      positive infinity if lambd is positive, and from negative\n",
      " |      infinity to 0 if lambd is negative.\n",
      " |  \n",
      " |  gammavariate(self, alpha, beta)\n",
      " |      Gamma distribution.  Not the gamma function!\n",
      " |      \n",
      " |      Conditions on the parameters are alpha > 0 and beta > 0.\n",
      " |      \n",
      " |      The probability distribution function is:\n",
      " |      \n",
      " |                  x ** (alpha - 1) * math.exp(-x / beta)\n",
      " |        pdf(x) =  --------------------------------------\n",
      " |                    math.gamma(alpha) * beta ** alpha\n",
      " |  \n",
      " |  gauss(self, mu, sigma)\n",
      " |      Gaussian distribution.\n",
      " |      \n",
      " |      mu is the mean, and sigma is the standard deviation.  This is\n",
      " |      slightly faster than the normalvariate() function.\n",
      " |      \n",
      " |      Not thread-safe without a lock around calls.\n",
      " |  \n",
      " |  getstate(self)\n",
      " |      Return internal state; can be passed to setstate() later.\n",
      " |  \n",
      " |  lognormvariate(self, mu, sigma)\n",
      " |      Log normal distribution.\n",
      " |      \n",
      " |      If you take the natural logarithm of this distribution, you'll get a\n",
      " |      normal distribution with mean mu and standard deviation sigma.\n",
      " |      mu can have any value, and sigma must be greater than zero.\n",
      " |  \n",
      " |  normalvariate(self, mu, sigma)\n",
      " |      Normal distribution.\n",
      " |      \n",
      " |      mu is the mean, and sigma is the standard deviation.\n",
      " |  \n",
      " |  paretovariate(self, alpha)\n",
      " |      Pareto distribution.  alpha is the shape parameter.\n",
      " |  \n",
      " |  randbytes(self, n)\n",
      " |      Generate n random bytes.\n",
      " |  \n",
      " |  randint(self, a, b)\n",
      " |      Return random integer in range [a, b], including both end points.\n",
      " |  \n",
      " |  randrange(self, start, stop=None, step=1)\n",
      " |      Choose a random item from range(start, stop[, step]).\n",
      " |      \n",
      " |      This fixes the problem with randint() which includes the\n",
      " |      endpoint; in Python this is usually not what you want.\n",
      " |  \n",
      " |  sample(self, population, k, *, counts=None)\n",
      " |      Chooses k unique random elements from a population sequence or set.\n",
      " |      \n",
      " |      Returns a new list containing elements from the population while\n",
      " |      leaving the original population unchanged.  The resulting list is\n",
      " |      in selection order so that all sub-slices will also be valid random\n",
      " |      samples.  This allows raffle winners (the sample) to be partitioned\n",
      " |      into grand prize and second place winners (the subslices).\n",
      " |      \n",
      " |      Members of the population need not be hashable or unique.  If the\n",
      " |      population contains repeats, then each occurrence is a possible\n",
      " |      selection in the sample.\n",
      " |      \n",
      " |      Repeated elements can be specified one at a time or with the optional\n",
      " |      counts parameter.  For example:\n",
      " |      \n",
      " |          sample(['red', 'blue'], counts=[4, 2], k=5)\n",
      " |      \n",
      " |      is equivalent to:\n",
      " |      \n",
      " |          sample(['red', 'red', 'red', 'red', 'blue', 'blue'], k=5)\n",
      " |      \n",
      " |      To choose a sample from a range of integers, use range() for the\n",
      " |      population argument.  This is especially fast and space efficient\n",
      " |      for sampling from a large population:\n",
      " |      \n",
      " |          sample(range(10000000), 60)\n",
      " |  \n",
      " |  seed(self, a=None, version=2)\n",
      " |      Initialize internal state from a seed.\n",
      " |      \n",
      " |      The only supported seed types are None, int, float,\n",
      " |      str, bytes, and bytearray.\n",
      " |      \n",
      " |      None or no argument seeds from current time or from an operating\n",
      " |      system specific randomness source if available.\n",
      " |      \n",
      " |      If *a* is an int, all bits are used.\n",
      " |      \n",
      " |      For version 2 (the default), all of the bits are used if *a* is a str,\n",
      " |      bytes, or bytearray.  For version 1 (provided for reproducing random\n",
      " |      sequences from older versions of Python), the algorithm for str and\n",
      " |      bytes generates a narrower range of seeds.\n",
      " |  \n",
      " |  setstate(self, state)\n",
      " |      Restore internal state from object returned by getstate().\n",
      " |  \n",
      " |  shuffle(self, x, random=None)\n",
      " |      Shuffle list x in place, and return None.\n",
      " |      \n",
      " |      Optional argument random is a 0-argument function returning a\n",
      " |      random float in [0.0, 1.0); if it is the default None, the\n",
      " |      standard random.random will be used.\n",
      " |  \n",
      " |  triangular(self, low=0.0, high=1.0, mode=None)\n",
      " |      Triangular distribution.\n",
      " |      \n",
      " |      Continuous distribution bounded by given lower and upper limits,\n",
      " |      and having a given mode value in-between.\n",
      " |      \n",
      " |      http://en.wikipedia.org/wiki/Triangular_distribution\n",
      " |  \n",
      " |  uniform(self, a, b)\n",
      " |      Get a random number in the range [a, b) or [a, b] depending on rounding.\n",
      " |  \n",
      " |  vonmisesvariate(self, mu, kappa)\n",
      " |      Circular data distribution.\n",
      " |      \n",
      " |      mu is the mean angle, expressed in radians between 0 and 2*pi, and\n",
      " |      kappa is the concentration parameter, which must be greater than or\n",
      " |      equal to zero.  If kappa is equal to zero, this distribution reduces\n",
      " |      to a uniform random angle over the range 0 to 2*pi.\n",
      " |  \n",
      " |  weibullvariate(self, alpha, beta)\n",
      " |      Weibull distribution.\n",
      " |      \n",
      " |      alpha is the scale parameter and beta is the shape parameter.\n",
      " |  \n",
      " |  ----------------------------------------------------------------------\n",
      " |  Class methods defined here:\n",
      " |  \n",
      " |  __init_subclass__(**kwargs) from builtins.type\n",
      " |      Control how subclasses generate random integers.\n",
      " |      \n",
      " |      The algorithm a subclass can use depends on the random() and/or\n",
      " |      getrandbits() implementation available to it and determines\n",
      " |      whether it can generate random integers from arbitrarily large\n",
      " |      ranges.\n",
      " |  \n",
      " |  ----------------------------------------------------------------------\n",
      " |  Data descriptors defined here:\n",
      " |  \n",
      " |  __dict__\n",
      " |      dictionary for instance variables (if defined)\n",
      " |  \n",
      " |  __weakref__\n",
      " |      list of weak references to the object (if defined)\n",
      " |  \n",
      " |  ----------------------------------------------------------------------\n",
      " |  Data and other attributes defined here:\n",
      " |  \n",
      " |  VERSION = 3\n",
      " |  \n",
      " |  ----------------------------------------------------------------------\n",
      " |  Methods inherited from _random.Random:\n",
      " |  \n",
      " |  getrandbits(self, k, /)\n",
      " |      getrandbits(k) -> x.  Generates an int with k random bits.\n",
      " |  \n",
      " |  random(self, /)\n",
      " |      random() -> x in the interval [0, 1).\n",
      " |  \n",
      " |  ----------------------------------------------------------------------\n",
      " |  Static methods inherited from _random.Random:\n",
      " |  \n",
      " |  __new__(*args, **kwargs) from builtins.type\n",
      " |      Create and return a new object.  See help(type) for accurate signature.\n",
      "\n"
     ]
    }
   ],
   "source": [
    "help(Random)"
   ]
  },
  {
   "cell_type": "code",
   "execution_count": 121,
   "id": "3ef50ae0",
   "metadata": {},
   "outputs": [],
   "source": [
    "# add k-folds to main dataset\n",
    "k_fold = 10\n",
    "num_samples = int(np.floor(len(dataset)/k_fold))\n",
    "k_list = np.empty(0)\n",
    "for k in range(k_fold):\n",
    "    l = np.full(num_samples, k, dtype=np.int32)\n",
    "    k_list = np.concatenate([k_list, l])\n",
    "if len(k_list) != len(dataset):\n",
    "    m = len(dataset) - len(k_list)\n",
    "    n = np.array(Random().choices(range(k_fold), k = m), dtype=np.int32)\n",
    "    k_list = np.concatenate([k_list, n])\n",
    "np.random.shuffle(k_list) # in-place\n",
    "k_list = k_list.astype(int)\n",
    "dataset['K'] = k_list"
   ]
  },
  {
   "cell_type": "code",
   "execution_count": 124,
   "id": "96b37a18",
   "metadata": {},
   "outputs": [],
   "source": [
    "dataset.to_csv(os.path.join(data_dir, 'masked_data_set.csv'))"
   ]
  },
  {
   "cell_type": "code",
   "execution_count": 136,
   "id": "453c0d5e",
   "metadata": {},
   "outputs": [
    {
     "ename": "FileExistsError",
     "evalue": "[Errno 17] File exists: '/Users/paulp/Library/CloudStorage/OneDrive-UniversityofEasternFinland/UEF/Thesis/Notebooks/text_gcn/data'",
     "output_type": "error",
     "traceback": [
      "\u001b[0;31m---------------------------------------------------------------------------\u001b[0m",
      "\u001b[0;31mFileExistsError\u001b[0m                           Traceback (most recent call last)",
      "Cell \u001b[0;32mIn [136], line 5\u001b[0m\n\u001b[1;32m      2\u001b[0m k_fold \u001b[38;5;241m=\u001b[39m \u001b[38;5;241m1\u001b[39m\n\u001b[1;32m      4\u001b[0m gcn_dir \u001b[38;5;241m=\u001b[39m os\u001b[38;5;241m.\u001b[39mpath\u001b[38;5;241m.\u001b[39mjoin(notebook_dir, \u001b[38;5;124m'\u001b[39m\u001b[38;5;124mtext_gcn\u001b[39m\u001b[38;5;124m'\u001b[39m)\n\u001b[0;32m----> 5\u001b[0m \u001b[43mos\u001b[49m\u001b[38;5;241;43m.\u001b[39;49m\u001b[43mmkdir\u001b[49m\u001b[43m(\u001b[49m\u001b[43mos\u001b[49m\u001b[38;5;241;43m.\u001b[39;49m\u001b[43mpath\u001b[49m\u001b[38;5;241;43m.\u001b[39;49m\u001b[43mjoin\u001b[49m\u001b[43m(\u001b[49m\u001b[43mgcn_dir\u001b[49m\u001b[43m,\u001b[49m\u001b[43m \u001b[49m\u001b[38;5;124;43m'\u001b[39;49m\u001b[38;5;124;43mdata\u001b[39;49m\u001b[38;5;124;43m'\u001b[39;49m\u001b[43m)\u001b[49m\u001b[43m)\u001b[49m\n",
      "\u001b[0;31mFileExistsError\u001b[0m: [Errno 17] File exists: '/Users/paulp/Library/CloudStorage/OneDrive-UniversityofEasternFinland/UEF/Thesis/Notebooks/text_gcn/data'"
     ]
    }
   ],
   "source": [
    "dataset_name = 'text_gcn'\n",
    "k_fold = 1\n",
    "\n",
    "gcn_dir = os.path.join(notebook_dir, 'text_gcn')\n",
    "os.mkdir(os.path.join(gcn_dir, 'data'))\n"
   ]
  },
  {
   "cell_type": "code",
   "execution_count": 139,
   "id": "7e859e35",
   "metadata": {},
   "outputs": [
    {
     "ename": "FileExistsError",
     "evalue": "[Errno 17] File exists: 'data/corpus'",
     "output_type": "error",
     "traceback": [
      "\u001b[0;31m---------------------------------------------------------------------------\u001b[0m",
      "\u001b[0;31mFileExistsError\u001b[0m                           Traceback (most recent call last)",
      "Cell \u001b[0;32mIn [139], line 2\u001b[0m\n\u001b[1;32m      1\u001b[0m os\u001b[38;5;241m.\u001b[39mchdir(gcn_dir)\n\u001b[0;32m----> 2\u001b[0m \u001b[43mos\u001b[49m\u001b[38;5;241;43m.\u001b[39;49m\u001b[43mmkdir\u001b[49m\u001b[43m(\u001b[49m\u001b[38;5;124;43m'\u001b[39;49m\u001b[38;5;124;43mdata/corpus\u001b[39;49m\u001b[38;5;124;43m'\u001b[39;49m\u001b[43m)\u001b[49m\n",
      "\u001b[0;31mFileExistsError\u001b[0m: [Errno 17] File exists: 'data/corpus'"
     ]
    }
   ],
   "source": [
    "os.chdir(gcn_dir)\n",
    "os.mkdir('data/corpus')"
   ]
  },
  {
   "cell_type": "code",
   "execution_count": 141,
   "id": "e01f879e",
   "metadata": {},
   "outputs": [],
   "source": [
    "texts = []\n",
    "metas = []\n",
    "train_or_test_list = []\n",
    "\n",
    "for i, data in dataset.iterrows():\n",
    "    text = data.Text\n",
    "    no_linebreaks = re.sub('\\n', '', text)\n",
    "    no_tabs = re.sub('\\t', '', no_linebreaks)\n",
    "    texts.append(no_tabs)\n",
    "    if data.K == k_fold:\n",
    "        t = 'test'\n",
    "    else:\n",
    "        t = 'train'\n",
    "    meta = str(i) + '\\t'+ t + '\\t' + data.Target\n",
    "    metas.append(meta)\n",
    "\n",
    "\n",
    "corpus_str = '\\n'.join(texts)\n",
    "with open(os.path.join('data/corpus/' + dataset_name + '.txt'), 'w') as f:\n",
    "    f.write(corpus_str)\n",
    "    \n",
    "metas_str = '\\n'.join(metas)\n",
    "with open(os.path.join('data', dataset_name + '.txt'), 'w') as f:\n",
    "    f.write(metas_str)"
   ]
  },
  {
   "cell_type": "code",
   "execution_count": null,
   "id": "e41af0f3",
   "metadata": {},
   "outputs": [],
   "source": []
  },
  {
   "cell_type": "markdown",
   "id": "01c73c7f",
   "metadata": {},
   "source": [
    "<h2> Model </h2>"
   ]
  },
  {
   "cell_type": "code",
   "execution_count": null,
   "id": "2a3f7388",
   "metadata": {},
   "outputs": [],
   "source": []
  },
  {
   "cell_type": "code",
   "execution_count": null,
   "id": "78ad632f",
   "metadata": {},
   "outputs": [],
   "source": []
  },
  {
   "cell_type": "code",
   "execution_count": null,
   "id": "02812369",
   "metadata": {},
   "outputs": [],
   "source": []
  },
  {
   "cell_type": "code",
   "execution_count": null,
   "id": "13d4bd3a",
   "metadata": {},
   "outputs": [],
   "source": []
  },
  {
   "cell_type": "code",
   "execution_count": null,
   "id": "604f77de",
   "metadata": {},
   "outputs": [],
   "source": []
  },
  {
   "cell_type": "markdown",
   "id": "462bc962",
   "metadata": {},
   "source": [
    "<h2> Training Loop </h2>"
   ]
  },
  {
   "cell_type": "code",
   "execution_count": null,
   "id": "31abbad4",
   "metadata": {},
   "outputs": [],
   "source": []
  },
  {
   "cell_type": "code",
   "execution_count": null,
   "id": "7306773f",
   "metadata": {},
   "outputs": [],
   "source": []
  },
  {
   "cell_type": "code",
   "execution_count": null,
   "id": "015a44b2",
   "metadata": {},
   "outputs": [],
   "source": []
  },
  {
   "cell_type": "code",
   "execution_count": null,
   "id": "46b7bd29",
   "metadata": {},
   "outputs": [],
   "source": []
  },
  {
   "cell_type": "markdown",
   "id": "6d1c72ae",
   "metadata": {},
   "source": [
    "<h2> Train </h2>"
   ]
  },
  {
   "cell_type": "code",
   "execution_count": null,
   "id": "b88c6a81",
   "metadata": {},
   "outputs": [],
   "source": []
  },
  {
   "cell_type": "code",
   "execution_count": null,
   "id": "c1001b2c",
   "metadata": {},
   "outputs": [],
   "source": []
  },
  {
   "cell_type": "code",
   "execution_count": null,
   "id": "9ab5ddcf",
   "metadata": {},
   "outputs": [],
   "source": []
  },
  {
   "cell_type": "code",
   "execution_count": null,
   "id": "7971fd52",
   "metadata": {},
   "outputs": [],
   "source": []
  },
  {
   "cell_type": "markdown",
   "id": "a8b95a51",
   "metadata": {},
   "source": [
    "<h2> Test </h2>"
   ]
  },
  {
   "cell_type": "code",
   "execution_count": null,
   "id": "ad3f474f",
   "metadata": {},
   "outputs": [],
   "source": []
  },
  {
   "cell_type": "code",
   "execution_count": null,
   "id": "2a87313c",
   "metadata": {},
   "outputs": [],
   "source": []
  },
  {
   "cell_type": "code",
   "execution_count": null,
   "id": "5f7ed854",
   "metadata": {},
   "outputs": [],
   "source": []
  },
  {
   "cell_type": "code",
   "execution_count": null,
   "id": "500afc02",
   "metadata": {},
   "outputs": [],
   "source": []
  },
  {
   "cell_type": "code",
   "execution_count": null,
   "id": "c8a2f82a",
   "metadata": {},
   "outputs": [],
   "source": []
  }
 ],
 "metadata": {
  "kernelspec": {
   "display_name": "pyto_env",
   "language": "python",
   "name": "pyto"
  },
  "language_info": {
   "codemirror_mode": {
    "name": "ipython",
    "version": 3
   },
   "file_extension": ".py",
   "mimetype": "text/x-python",
   "name": "python",
   "nbconvert_exporter": "python",
   "pygments_lexer": "ipython3",
   "version": "3.9.13"
  }
 },
 "nbformat": 4,
 "nbformat_minor": 5
}
