{
 "cells": [
  {
   "cell_type": "markdown",
   "id": "fb4b3fe0",
   "metadata": {},
   "source": [
    "<h1> BERT: Initial Training </h1>\n",
    "\n",
    "Here I:\n",
    "\n",
    "1. Set hyperparameters: maximum sample length, epochs, learning rate, etc...\n",
    "2. Pretrain BERT-base cased on the whole dataset.\n",
    "3. Fine-tune the model on a classification task.\n",
    "4. Report initial results and next steps.\n",
    "\n",
    "Note that some of the larger functions and classes were packaged in common.py to make the content here more readable."
   ]
  },
  {
   "cell_type": "code",
   "execution_count": 34,
   "id": "d4ba9746",
   "metadata": {},
   "outputs": [
    {
     "data": {
      "text/plain": [
       "True"
      ]
     },
     "execution_count": 34,
     "metadata": {},
     "output_type": "execute_result"
    }
   ],
   "source": [
    "import os\n",
    "import re\n",
    "import json\n",
    "import matplotlib.pyplot as plt\n",
    "import pandas as pd\n",
    "import numpy as np\n",
    "import importlib\n",
    "import pickle\n",
    "\n",
    "import common\n",
    "from common import ClassificationDataset, nsp_mlm_pretrain, train_test_val_split, make_nsp_dataset\n",
    "\n",
    "import torch\n",
    "from torchmetrics import F1Score\n",
    "from transformers import BertTokenizer\n",
    "from torch.utils.data.sampler import SubsetRandomSampler, SequentialSampler\n",
    "\n",
    "torch.has_mps # for Mac ARM build, needed for GPU"
   ]
  },
  {
   "cell_type": "code",
   "execution_count": 35,
   "id": "66f51a92",
   "metadata": {},
   "outputs": [
    {
     "name": "stderr",
     "output_type": "stream",
     "text": [
      "Special tokens have been added in the vocabulary, make sure the associated word embeddings are fine-tuned or trained.\n"
     ]
    },
    {
     "data": {
      "text/html": [
       "<div>\n",
       "<style scoped>\n",
       "    .dataframe tbody tr th:only-of-type {\n",
       "        vertical-align: middle;\n",
       "    }\n",
       "\n",
       "    .dataframe tbody tr th {\n",
       "        vertical-align: top;\n",
       "    }\n",
       "\n",
       "    .dataframe thead th {\n",
       "        text-align: right;\n",
       "    }\n",
       "</style>\n",
       "<table border=\"1\" class=\"dataframe\">\n",
       "  <thead>\n",
       "    <tr style=\"text-align: right;\">\n",
       "      <th></th>\n",
       "      <th>Unnamed: 0</th>\n",
       "      <th>Corpus</th>\n",
       "      <th>Target</th>\n",
       "      <th>Text</th>\n",
       "      <th>Length</th>\n",
       "    </tr>\n",
       "  </thead>\n",
       "  <tbody>\n",
       "    <tr>\n",
       "      <th>0</th>\n",
       "      <td>0</td>\n",
       "      <td>ICLE</td>\n",
       "      <td>GE</td>\n",
       "      <td>I 've been making music now for 20 years . You...</td>\n",
       "      <td>390</td>\n",
       "    </tr>\n",
       "    <tr>\n",
       "      <th>1</th>\n",
       "      <td>1</td>\n",
       "      <td>ICLE</td>\n",
       "      <td>GE</td>\n",
       "      <td>A quick inspection of the waste - paper basket...</td>\n",
       "      <td>557</td>\n",
       "    </tr>\n",
       "    <tr>\n",
       "      <th>2</th>\n",
       "      <td>2</td>\n",
       "      <td>ICLE</td>\n",
       "      <td>CN</td>\n",
       "      <td>Recycling of waste has long been a controversi...</td>\n",
       "      <td>587</td>\n",
       "    </tr>\n",
       "    <tr>\n",
       "      <th>3</th>\n",
       "      <td>3</td>\n",
       "      <td>ICLE</td>\n",
       "      <td>CN</td>\n",
       "      <td>Few years age , government in some cities such...</td>\n",
       "      <td>785</td>\n",
       "    </tr>\n",
       "    <tr>\n",
       "      <th>4</th>\n",
       "      <td>4</td>\n",
       "      <td>ICLE</td>\n",
       "      <td>JP</td>\n",
       "      <td>Gender discrimination . These Days , we often ...</td>\n",
       "      <td>829</td>\n",
       "    </tr>\n",
       "  </tbody>\n",
       "</table>\n",
       "</div>"
      ],
      "text/plain": [
       "   Unnamed: 0 Corpus Target  \\\n",
       "0           0   ICLE     GE   \n",
       "1           1   ICLE     GE   \n",
       "2           2   ICLE     CN   \n",
       "3           3   ICLE     CN   \n",
       "4           4   ICLE     JP   \n",
       "\n",
       "                                                Text  Length  \n",
       "0  I 've been making music now for 20 years . You...     390  \n",
       "1  A quick inspection of the waste - paper basket...     557  \n",
       "2  Recycling of waste has long been a controversi...     587  \n",
       "3  Few years age , government in some cities such...     785  \n",
       "4  Gender discrimination . These Days , we often ...     829  "
      ]
     },
     "execution_count": 35,
     "metadata": {},
     "output_type": "execute_result"
    }
   ],
   "source": [
    "# Directories\n",
    "\n",
    "project_dir = \"/Users/paulp/Library/CloudStorage/OneDrive-UniversityofEasternFinland/UEF/Thesis\"\n",
    "data_dir = os.path.join(project_dir, \"Data\")\n",
    "model_dir = os.path.join(project_dir, 'Models')\n",
    "os.chdir(data_dir)\n",
    "\n",
    "# Tokenizer\n",
    "\n",
    "with open('spec_tokens_ne.txt', 'rb') as file:\n",
    "    spec_tokens = pickle.load(file)\n",
    "\n",
    "tokenizer = BertTokenizer.from_pretrained('bert-base-cased', \n",
    "                                          additional_special_tokens = spec_tokens)\n",
    "\n",
    "# Main Data\n",
    "\n",
    "dataset = pd.read_csv('ne_masked_dataset.csv', index_col = 0)\n",
    "dataset['Target'] = pd.Categorical(dataset['Target'])\n",
    "\n",
    "with open(\"target_idx.json\") as file:\n",
    "    target_idx = json.load(file)\n",
    "    \n",
    "n_classes = len(target_idx.keys())\n",
    "\n",
    "dataset.head()"
   ]
  },
  {
   "cell_type": "markdown",
   "id": "efe23214",
   "metadata": {},
   "source": [
    "<h1> Train, Validation, and Test Split </h1>\n",
    "\n",
    "~ 8 hrs.\n",
    "\n",
    "1. Split the data randomly\n",
    "2. Check that target classes are represented in each set with similar proportions\n",
    "\n",
    "For a dataset this large, data imbalance should not be an issue, but it is still beneficial to check how the L1s are distributed through the sets.\n",
    "\n",
    "*help from : https://discuss.pytorch.org/t/train-test-split-using-subsetrandomsampler/105447\n",
    "see 'commmon.py' for custom functions and classes used.*"
   ]
  },
  {
   "cell_type": "code",
   "execution_count": 11,
   "id": "f8e1535e",
   "metadata": {},
   "outputs": [
    {
     "data": {
      "image/png": "[encoded data removed]",
      "text/plain": [
       "<Figure size 432x288 with 3 Axes>"
      ]
     },
     "metadata": {
      "needs_background": "light"
     },
     "output_type": "display_data"
    }
   ],
   "source": [
    "ds_train, ds_val, ds_test = train_test_val_split(dataset, \n",
    "                                                 train_split = 0.85, \n",
    "                                                 val_split = 0.07, \n",
    "                                                 test_split = 0.08)"
   ]
  },
  {
   "cell_type": "code",
   "execution_count": 12,
   "id": "08810238",
   "metadata": {},
   "outputs": [
    {
     "data": {
      "text/plain": [
       "<matplotlib.lines.Line2D at 0x132f25ca0>"
      ]
     },
     "execution_count": 12,
     "metadata": {},
     "output_type": "execute_result"
    },
    {
     "data": {
      "image/png": "[encoded data removed]",
      "text/plain": [
       "<Figure size 432x288 with 1 Axes>"
      ]
     },
     "metadata": {
      "needs_background": "light"
     },
     "output_type": "display_data"
    }
   ],
   "source": [
    "distribution = plt.hist(dataset['Length'], bins=100, density=True, label='Distribution of Text Lengths')\n",
    "plt.axvline(x=206, color=\"red\")\n",
    "plt.axvline(x=512, color=\"yellow\")\n",
    "plt.axvline(x=1024, color='green')"
   ]
  },
  {
   "cell_type": "code",
   "execution_count": 13,
   "id": "55012b44",
   "metadata": {},
   "outputs": [
    {
     "data": {
      "text/plain": [
       "<matplotlib.lines.Line2D at 0x133221730>"
      ]
     },
     "execution_count": 13,
     "metadata": {},
     "output_type": "execute_result"
    },
    {
     "data": {
      "image/png": "[encoded data removed]",
      "text/plain": [
       "<Figure size 432x288 with 1 Axes>"
      ]
     },
     "metadata": {
      "needs_background": "light"
     },
     "output_type": "display_data"
    }
   ],
   "source": [
    "cumulative = plt.hist(dataset['Length'], bins=100, density=True, cumulative=True, label='Distribution of Text Lengths')\n",
    "plt.axvline(x=1024, color='green')\n",
    "plt.axvline(x=512, color='yellow')\n",
    "plt.axvline(x=256, color='red')"
   ]
  },
  {
   "cell_type": "markdown",
   "id": "7bd17041",
   "metadata": {},
   "source": [
    "\n",
    "The yellow line at 512 indicates the standard 'max_seq_len' for BERT models, meaning the model only takes text sequences this long, and the ends are clipped. If sequences are shorter, padding tokens are added to the end of the sequence. \n",
    "\n",
    "This means there will be a tradeoff between data loss (clipping) and sparsity (padding), depending on the max length chosen. Longer max lengths also require longer training times.\n",
    "\n",
    "I attempted maximum sequence lengths of 1536 (not pictured) and 1024 (green). 1536 is too large for my available RAM, and, while 1024 trained well, it took about 4 hours per epoch: because multiple rounds of training will be necessary (for example, with k-fold cross-validation), I have stepped this down to 256 (red) for now. This shorter length may also be a wise choice for baseline comparison with GNN, which is quite expensive computationally. Note below the loss of data this incurs. \n"
   ]
  },
  {
   "cell_type": "code",
   "execution_count": 57,
   "id": "2a86aa91",
   "metadata": {},
   "outputs": [
    {
     "name": "stdout",
     "output_type": "stream",
     "text": [
      "Percent whole texts captured at 512 : 0.8373630711536564 \n",
      " Percent whole texts captured at 1012 : 0.9793743215237344 \n",
      " Percent whole texts captured at 256 : 0.6641665844271193 \n",
      "\n"
     ]
    }
   ],
   "source": [
    "a = dataset.query(\"Length <=512\").size/dataset.size\n",
    "b = dataset.query(\"Length <=1024\").size/dataset.size\n",
    "c = dataset.query(\"Length <=256\").size/dataset.size\n",
    "print(f'Percent whole texts captured at 512 : {a} \\n', \n",
    "      f'Percent whole texts captured at 1012 : {b} \\n',\n",
    "     f'Percent whole texts captured at 256 : {c} \\n')"
   ]
  },
  {
   "cell_type": "code",
   "execution_count": 15,
   "id": "df0be803",
   "metadata": {},
   "outputs": [],
   "source": [
    "# save datasets\n",
    "ds_train.to_csv(os.path.join(data_dir, 'train.csv'))\n",
    "ds_val.to_csv(os.path.join(data_dir, 'val.csv'))\n",
    "ds_test.to_csv(os.path.join(data_dir, 'test.csv'))"
   ]
  },
  {
   "cell_type": "markdown",
   "id": "2f7cb73d",
   "metadata": {},
   "source": [
    "<h1>Pretraining</h1>\n",
    "\n",
    "~ 16 hrs.\n",
    "\n",
    "Although we are clipping samples at 256, this does not mean we cannot use the clipped ends to pretrain the model. I certainly cannot use them in the classification fine-tuning, as this would pollute the data.\n",
    "\n",
    "Pretraining BERT requires next-sentence prediction (NSP), in which the data is split into sentence pairs. The model is then tasked with predicting whether the second sentence logically follows the first. To generate negative samples, the second sentence is randomly sampled from the corpus. \n",
    "\n",
    "The model is also tasked with Masked Language Modeling (MLM) in pretraining. In this task, 15% of tokens in the data are replaced with masks, and the model must reconstruct the original sequence, much like a cloze or fill-in-the-blank test. \n",
    "\n",
    "*Functions from common.py are only slightly modified from:\n",
    "https://towardsdatascience.com/how-to-train-bert-aaad00533168*\n"
   ]
  },
  {
   "cell_type": "code",
   "execution_count": 20,
   "id": "50984e37",
   "metadata": {},
   "outputs": [],
   "source": [
    "import random \n",
    "from nltk.tokenize import sent_tokenize\n",
    "\n",
    "from common import make_nsp_dataset, PretrainDataset\n",
    "\n",
    "from tqdm import tqdm  # progress bar for training\n",
    "from torch.utils.data import TensorDataset, DataLoader, RandomSampler, SequentialSampler\n",
    "from transformers import BertForSequenceClassification, AdamW, BertConfig\n",
    "from transformers import get_linear_schedule_with_warmup, BertForPreTraining\n",
    "\n",
    "# device\n",
    "use_mps = torch.has_mps\n",
    "device = torch.device('mps' if use_mps else 'cpu')"
   ]
  },
  {
   "cell_type": "code",
   "execution_count": 24,
   "id": "e4c0092f",
   "metadata": {},
   "outputs": [],
   "source": [
    "max_seq_len = 256\n",
    "lr = 5e-5\n",
    "n_epochs = 2"
   ]
  },
  {
   "cell_type": "markdown",
   "id": "8cee742d",
   "metadata": {},
   "source": [
    "<h2> NSP & MLM Dataset </h2>"
   ]
  },
  {
   "cell_type": "code",
   "execution_count": 25,
   "id": "beb1a5e5",
   "metadata": {},
   "outputs": [
    {
     "name": "stderr",
     "output_type": "stream",
     "text": [
      "Be aware, overflowing tokens are not returned for the setting you have chosen, i.e. sequence pairs with the 'longest_first' truncation strategy. So the returned list will always be empty even if some tokens have been removed.\n",
      "Be aware, overflowing tokens are not returned for the setting you have chosen, i.e. sequence pairs with the 'longest_first' truncation strategy. So the returned list will always be empty even if some tokens have been removed.\n",
      "Be aware, overflowing tokens are not returned for the setting you have chosen, i.e. sequence pairs with the 'longest_first' truncation strategy. So the returned list will always be empty even if some tokens have been removed.\n",
      "Be aware, overflowing tokens are not returned for the setting you have chosen, i.e. sequence pairs with the 'longest_first' truncation strategy. So the returned list will always be empty even if some tokens have been removed.\n",
      "Be aware, overflowing tokens are not returned for the setting you have chosen, i.e. sequence pairs with the 'longest_first' truncation strategy. So the returned list will always be empty even if some tokens have been removed.\n",
      "Be aware, overflowing tokens are not returned for the setting you have chosen, i.e. sequence pairs with the 'longest_first' truncation strategy. So the returned list will always be empty even if some tokens have been removed.\n"
     ]
    },
    {
     "data": {
      "text/plain": [
       "dict_keys(['input_ids', 'token_type_ids', 'attention_mask', 'next_sentence_label', 'labels'])"
      ]
     },
     "execution_count": 25,
     "metadata": {},
     "output_type": "execute_result"
    }
   ],
   "source": [
    "nsp_inputs = make_nsp_dataset(dataset['Text'], \n",
    "                              tokenizer=tokenizer, \n",
    "                              max_len = max_seq_len)\n",
    "\n",
    "nsp_inputs.keys()"
   ]
  },
  {
   "cell_type": "markdown",
   "id": "1f51ea59",
   "metadata": {},
   "source": [
    "<h2> Pretraining Settings and Loop </h2>"
   ]
  },
  {
   "cell_type": "code",
   "execution_count": 26,
   "id": "d9530bab",
   "metadata": {},
   "outputs": [],
   "source": [
    "pretrain_dataset = PretrainDataset(nsp_inputs)\n",
    "pretrain_loader = torch.utils.data.DataLoader(pretrain_dataset, batch_size=16, shuffle=True)\n",
    "\n",
    "configuration = BertConfig(max_position_embeddings = max_seq_len)\n",
    "pretraining_model = BertForPreTraining( \n",
    "                            config=configuration\n",
    "                          )\n",
    "\n",
    "pretraining_model.to(device)\n",
    "pretraining_model.train()\n",
    "\n",
    "optim = torch.optim.AdamW(pretraining_model.parameters(), lr = lr)\n"
   ]
  },
  {
   "cell_type": "code",
   "execution_count": 27,
   "id": "346ea429",
   "metadata": {},
   "outputs": [
    {
     "name": "stderr",
     "output_type": "stream",
     "text": [
      "Epoch 0: 100%|████████████████████| 632/632 [2:23:40<00:00, 13.64s/it, loss=1.1]\n",
      "Epoch 1: 100%|██████████████████| 632/632 [2:23:26<00:00, 13.62s/it, loss=0.986]\n"
     ]
    }
   ],
   "source": [
    "# train\n",
    "pretrain_loss = nsp_mlm_pretrain(pretraining_model, \n",
    "                                 pretrain_loader, \n",
    "                                 device, \n",
    "                                 optim, \n",
    "                                 n_epochs=n_epochs)"
   ]
  },
  {
   "cell_type": "code",
   "execution_count": 28,
   "id": "8a9aac17",
   "metadata": {},
   "outputs": [],
   "source": [
    "# save model\n",
    "model_prefix = f'PRE_{max_seq_len}_{n_epochs}E_{lr}_NEmask'\n",
    "\n",
    "state_dict_path = os.path.join(model_dir, model_prefix+'_state_dict.pt')\n",
    "model_path = os.path.join(model_dir, model_prefix+'_model.pt')\n",
    "\n",
    "#pretraining_model.save_pretrained(state_dict_path)\n",
    "pretrain_model_dir = os.path.join(model_dir, model_prefix)\n",
    "pretraining_model.save_pretrained(pretrain_model_dir)"
   ]
  },
  {
   "cell_type": "markdown",
   "id": "c4db14b0",
   "metadata": {},
   "source": [
    "<h1>Fine-Tuning</h1>\n",
    "\n",
    "~20 hrs.\n",
    "\n",
    "The pretrained model from above into the classification architecture. Here the model is tasked with the classifying texts to their L1 target. \n",
    "\n",
    "*help from: https://towardsdatascience.com/text-classification-with-bert-in-pytorch-887965e5820f\n",
    "https://mccormickml.com/2019/07/22/BERT-fine-tuning/\n",
    "https://gmihaila.github.io/tutorial_notebooks/bert_inner_workings/*\n"
   ]
  },
  {
   "cell_type": "code",
   "execution_count": 63,
   "id": "efc6bbf0",
   "metadata": {},
   "outputs": [
    {
     "name": "stderr",
     "output_type": "stream",
     "text": [
      "Some weights of the model checkpoint at /Users/paulp/Library/CloudStorage/OneDrive-UniversityofEasternFinland/UEF/Thesis/Models/PRE_256_2E_5e-05_NEmask were not used when initializing BertForSequenceClassification: ['cls.seq_relationship.weight', 'cls.predictions.bias', 'cls.predictions.transform.LayerNorm.weight', 'cls.predictions.decoder.bias', 'cls.predictions.transform.dense.weight', 'cls.predictions.transform.dense.bias', 'cls.predictions.transform.LayerNorm.bias', 'cls.predictions.decoder.weight', 'cls.seq_relationship.bias']\n",
      "- This IS expected if you are initializing BertForSequenceClassification from the checkpoint of a model trained on another task or with another architecture (e.g. initializing a BertForSequenceClassification model from a BertForPreTraining model).\n",
      "- This IS NOT expected if you are initializing BertForSequenceClassification from the checkpoint of a model that you expect to be exactly identical (initializing a BertForSequenceClassification model from a BertForSequenceClassification model).\n",
      "Some weights of BertForSequenceClassification were not initialized from the model checkpoint at /Users/paulp/Library/CloudStorage/OneDrive-UniversityofEasternFinland/UEF/Thesis/Models/PRE_256_2E_5e-05_NEmask and are newly initialized: ['classifier.weight', 'classifier.bias']\n",
      "You should probably TRAIN this model on a down-stream task to be able to use it for predictions and inference.\n"
     ]
    }
   ],
   "source": [
    "# training parameters\n",
    "batch_size = 2\n",
    "n_epochs = 2\n",
    "lr = 3e-3\n",
    "\n",
    "\n",
    "classification_model = BertForSequenceClassification.from_pretrained(\n",
    "    pretrain_model_dir,\n",
    "    num_labels = n_classes,\n",
    "    output_attentions = False,\n",
    "    output_hidden_states = False) \n"
   ]
  },
  {
   "cell_type": "code",
   "execution_count": 36,
   "id": "7f768429",
   "metadata": {},
   "outputs": [],
   "source": [
    "#create the dataset objects\n",
    "ds_tr = ClassificationDataset(ds_train, tokenizer, target_idx, max_seq_len)\n",
    "ds_vl = ClassificationDataset(ds_val, tokenizer, target_idx, max_seq_len)\n",
    "ds_ts = ClassificationDataset(ds_test, tokenizer, target_idx, max_seq_len)"
   ]
  },
  {
   "cell_type": "code",
   "execution_count": 37,
   "id": "1efeca7b",
   "metadata": {},
   "outputs": [],
   "source": [
    "train_dataloader = DataLoader(\n",
    "    ds_tr, \n",
    "    sampler = RandomSampler(ds_tr), \n",
    "    batch_size=batch_size\n",
    ")\n",
    "\n",
    "validation_dataloader = DataLoader(\n",
    "    ds_vl,\n",
    "    sampler = SequentialSampler(ds_vl),\n",
    "    batch_size = batch_size)"
   ]
  },
  {
   "cell_type": "code",
   "execution_count": 38,
   "id": "73bf744a",
   "metadata": {},
   "outputs": [],
   "source": [
    "epochs = 2\n",
    "LR = 1e-5\n",
    "n_warmup = 0\n",
    "\n",
    "total_steps = len(train_dataloader)*epochs\n",
    "optimizer = torch.optim.AdamW(classification_model.parameters(), lr = LR, eps = 1e-8)\n",
    "scheduler = get_linear_schedule_with_warmup(optimizer,\n",
    "                                           num_warmup_steps = n_warmup,\n",
    "                                           num_training_steps = total_steps)\n",
    "\n",
    "metric = F1Score(num_classes = n_classes)"
   ]
  },
  {
   "cell_type": "code",
   "execution_count": 44,
   "id": "d9f4ea71",
   "metadata": {
    "collapsed": true
   },
   "outputs": [
    {
     "name": "stdout",
     "output_type": "stream",
     "text": [
      "\n",
      "======== Epoch 1 / 2 ========\n",
      "Training...\n",
      "  Batch    40  of  4,358.    Elapsed: 0:00:43.\n",
      "  Batch    80  of  4,358.    Elapsed: 0:01:14.\n",
      "  Batch   120  of  4,358.    Elapsed: 0:01:44.\n",
      "  Batch   160  of  4,358.    Elapsed: 0:02:14.\n",
      "  Batch   200  of  4,358.    Elapsed: 0:02:43.\n",
      "  Batch   240  of  4,358.    Elapsed: 0:03:13.\n",
      "  Batch   280  of  4,358.    Elapsed: 0:03:42.\n",
      "  Batch   320  of  4,358.    Elapsed: 0:04:12.\n",
      "  Batch   360  of  4,358.    Elapsed: 0:04:44.\n",
      "  Batch   400  of  4,358.    Elapsed: 0:05:16.\n",
      "  Batch   440  of  4,358.    Elapsed: 0:05:49.\n",
      "  Batch   480  of  4,358.    Elapsed: 0:06:22.\n",
      "  Batch   520  of  4,358.    Elapsed: 0:06:54.\n",
      "  Batch   560  of  4,358.    Elapsed: 0:07:27.\n",
      "  Batch   600  of  4,358.    Elapsed: 0:07:59.\n",
      "  Batch   640  of  4,358.    Elapsed: 0:08:32.\n",
      "  Batch   680  of  4,358.    Elapsed: 0:09:04.\n",
      "  Batch   720  of  4,358.    Elapsed: 0:09:37.\n",
      "  Batch   760  of  4,358.    Elapsed: 0:10:09.\n",
      "  Batch   800  of  4,358.    Elapsed: 0:10:42.\n",
      "  Batch   840  of  4,358.    Elapsed: 0:11:14.\n",
      "  Batch   880  of  4,358.    Elapsed: 0:11:47.\n",
      "  Batch   920  of  4,358.    Elapsed: 0:12:20.\n",
      "  Batch   960  of  4,358.    Elapsed: 0:12:52.\n",
      "  Batch 1,000  of  4,358.    Elapsed: 0:13:25.\n",
      "  Batch 1,040  of  4,358.    Elapsed: 0:13:58.\n",
      "  Batch 1,080  of  4,358.    Elapsed: 0:14:31.\n",
      "  Batch 1,120  of  4,358.    Elapsed: 0:15:04.\n",
      "  Batch 1,160  of  4,358.    Elapsed: 0:15:37.\n",
      "  Batch 1,200  of  4,358.    Elapsed: 0:16:09.\n",
      "  Batch 1,240  of  4,358.    Elapsed: 0:16:42.\n",
      "  Batch 1,280  of  4,358.    Elapsed: 0:17:14.\n",
      "  Batch 1,320  of  4,358.    Elapsed: 0:17:47.\n",
      "  Batch 1,360  of  4,358.    Elapsed: 0:18:20.\n",
      "  Batch 1,400  of  4,358.    Elapsed: 0:18:53.\n",
      "  Batch 1,440  of  4,358.    Elapsed: 0:19:25.\n",
      "  Batch 1,480  of  4,358.    Elapsed: 0:19:58.\n",
      "  Batch 1,520  of  4,358.    Elapsed: 0:20:31.\n",
      "  Batch 1,560  of  4,358.    Elapsed: 0:21:07.\n",
      "  Batch 1,600  of  4,358.    Elapsed: 0:21:44.\n",
      "  Batch 1,640  of  4,358.    Elapsed: 0:22:23.\n",
      "  Batch 1,680  of  4,358.    Elapsed: 0:23:00.\n",
      "  Batch 1,720  of  4,358.    Elapsed: 0:23:38.\n",
      "  Batch 1,760  of  4,358.    Elapsed: 0:24:16.\n",
      "  Batch 1,800  of  4,358.    Elapsed: 0:24:54.\n",
      "  Batch 1,840  of  4,358.    Elapsed: 0:25:32.\n",
      "  Batch 1,880  of  4,358.    Elapsed: 0:26:10.\n",
      "  Batch 1,920  of  4,358.    Elapsed: 0:26:48.\n",
      "  Batch 1,960  of  4,358.    Elapsed: 0:27:42.\n",
      "  Batch 2,000  of  4,358.    Elapsed: 0:28:28.\n",
      "  Batch 2,040  of  4,358.    Elapsed: 0:29:13.\n",
      "  Batch 2,080  of  4,358.    Elapsed: 0:29:59.\n",
      "  Batch 2,120  of  4,358.    Elapsed: 0:30:45.\n",
      "  Batch 2,160  of  4,358.    Elapsed: 0:31:32.\n",
      "  Batch 2,200  of  4,358.    Elapsed: 0:32:18.\n",
      "  Batch 2,240  of  4,358.    Elapsed: 0:33:04.\n",
      "  Batch 2,280  of  4,358.    Elapsed: 0:33:50.\n",
      "  Batch 2,320  of  4,358.    Elapsed: 0:34:42.\n",
      "  Batch 2,360  of  4,358.    Elapsed: 0:35:21.\n",
      "  Batch 2,400  of  4,358.    Elapsed: 0:36:02.\n",
      "  Batch 2,440  of  4,358.    Elapsed: 0:36:42.\n",
      "  Batch 2,480  of  4,358.    Elapsed: 0:37:22.\n",
      "  Batch 2,520  of  4,358.    Elapsed: 0:38:04.\n",
      "  Batch 2,560  of  4,358.    Elapsed: 0:38:44.\n",
      "  Batch 2,600  of  4,358.    Elapsed: 0:39:25.\n",
      "  Batch 2,640  of  4,358.    Elapsed: 0:40:06.\n",
      "  Batch 2,680  of  4,358.    Elapsed: 0:40:48.\n",
      "  Batch 2,720  of  4,358.    Elapsed: 0:41:28.\n",
      "  Batch 2,760  of  4,358.    Elapsed: 0:42:10.\n",
      "  Batch 2,800  of  4,358.    Elapsed: 0:42:52.\n",
      "  Batch 2,840  of  4,358.    Elapsed: 0:43:34.\n",
      "  Batch 2,880  of  4,358.    Elapsed: 0:44:17.\n",
      "  Batch 2,920  of  4,358.    Elapsed: 0:44:59.\n",
      "  Batch 2,960  of  4,358.    Elapsed: 0:45:42.\n",
      "  Batch 3,000  of  4,358.    Elapsed: 0:46:26.\n",
      "  Batch 3,040  of  4,358.    Elapsed: 0:47:09.\n",
      "  Batch 3,080  of  4,358.    Elapsed: 0:47:53.\n",
      "  Batch 3,120  of  4,358.    Elapsed: 0:48:38.\n",
      "  Batch 3,160  of  4,358.    Elapsed: 0:49:22.\n",
      "  Batch 3,200  of  4,358.    Elapsed: 0:50:09.\n",
      "  Batch 3,240  of  4,358.    Elapsed: 0:50:57.\n",
      "  Batch 3,280  of  4,358.    Elapsed: 0:51:43.\n",
      "  Batch 3,320  of  4,358.    Elapsed: 0:52:29.\n",
      "  Batch 3,360  of  4,358.    Elapsed: 0:53:16.\n",
      "  Batch 3,400  of  4,358.    Elapsed: 0:54:03.\n",
      "  Batch 3,440  of  4,358.    Elapsed: 0:55:01.\n",
      "  Batch 3,480  of  4,358.    Elapsed: 0:56:00.\n",
      "  Batch 3,520  of  4,358.    Elapsed: 0:57:08.\n",
      "  Batch 3,560  of  4,358.    Elapsed: 0:58:12.\n",
      "  Batch 3,600  of  4,358.    Elapsed: 0:59:12.\n",
      "  Batch 3,640  of  4,358.    Elapsed: 1:00:10.\n",
      "  Batch 3,680  of  4,358.    Elapsed: 1:01:08.\n",
      "  Batch 3,720  of  4,358.    Elapsed: 1:02:05.\n",
      "  Batch 3,760  of  4,358.    Elapsed: 1:03:03.\n",
      "  Batch 3,800  of  4,358.    Elapsed: 1:04:02.\n",
      "  Batch 3,840  of  4,358.    Elapsed: 1:05:01.\n",
      "  Batch 3,880  of  4,358.    Elapsed: 1:06:01.\n",
      "  Batch 3,920  of  4,358.    Elapsed: 1:07:02.\n",
      "  Batch 3,960  of  4,358.    Elapsed: 1:08:02.\n",
      "  Batch 4,000  of  4,358.    Elapsed: 1:09:17.\n",
      "  Batch 4,040  of  4,358.    Elapsed: 1:10:35.\n",
      "  Batch 4,080  of  4,358.    Elapsed: 1:12:08.\n",
      "  Batch 4,120  of  4,358.    Elapsed: 1:13:26.\n",
      "  Batch 4,160  of  4,358.    Elapsed: 1:14:54.\n",
      "  Batch 4,200  of  4,358.    Elapsed: 1:16:06.\n",
      "  Batch 4,240  of  4,358.    Elapsed: 1:17:18.\n",
      "  Batch 4,280  of  4,358.    Elapsed: 1:18:54.\n",
      "  Batch 4,320  of  4,358.    Elapsed: 1:20:26.\n",
      "\n",
      "  Average training loss: 1.69\n",
      "  Training epoch took: 1:22:07\n",
      "\n",
      "Running Validation...\n",
      "  Accuracy: 0.35\n",
      "  Validation Loss: 1.64\n",
      "  Validation F1 Score: 0.346\n",
      "  Validation took: 0:00:54\n",
      "\n",
      "======== Epoch 2 / 2 ========\n",
      "Training...\n",
      "  Batch    40  of  4,358.    Elapsed: 0:02:05.\n",
      "  Batch    80  of  4,358.    Elapsed: 0:03:46.\n",
      "  Batch   120  of  4,358.    Elapsed: 0:05:20.\n",
      "  Batch   160  of  4,358.    Elapsed: 0:06:44.\n",
      "  Batch   200  of  4,358.    Elapsed: 0:08:20.\n",
      "  Batch   240  of  4,358.    Elapsed: 0:09:54.\n",
      "  Batch   280  of  4,358.    Elapsed: 0:11:18.\n",
      "  Batch   320  of  4,358.    Elapsed: 0:12:47.\n",
      "  Batch   360  of  4,358.    Elapsed: 0:14:03.\n",
      "  Batch   400  of  4,358.    Elapsed: 0:15:13.\n",
      "  Batch   440  of  4,358.    Elapsed: 0:16:31.\n",
      "  Batch   480  of  4,358.    Elapsed: 0:17:48.\n",
      "  Batch   520  of  4,358.    Elapsed: 0:18:54.\n",
      "  Batch   560  of  4,358.    Elapsed: 0:20:05.\n",
      "  Batch   600  of  4,358.    Elapsed: 0:21:14.\n",
      "  Batch   640  of  4,358.    Elapsed: 0:22:35.\n",
      "  Batch   680  of  4,358.    Elapsed: 0:23:43.\n",
      "  Batch   720  of  4,358.    Elapsed: 0:24:50.\n",
      "  Batch   760  of  4,358.    Elapsed: 0:26:02.\n",
      "  Batch   800  of  4,358.    Elapsed: 0:27:17.\n",
      "  Batch   840  of  4,358.    Elapsed: 0:28:25.\n",
      "  Batch   880  of  4,358.    Elapsed: 0:29:33.\n",
      "  Batch   920  of  4,358.    Elapsed: 0:30:44.\n",
      "  Batch   960  of  4,358.    Elapsed: 0:31:54.\n",
      "  Batch 1,000  of  4,358.    Elapsed: 0:33:09.\n",
      "  Batch 1,040  of  4,358.    Elapsed: 0:34:23.\n",
      "  Batch 1,080  of  4,358.    Elapsed: 0:35:34.\n",
      "  Batch 1,120  of  4,358.    Elapsed: 0:36:53.\n",
      "  Batch 1,160  of  4,358.    Elapsed: 0:38:08.\n",
      "  Batch 1,200  of  4,358.    Elapsed: 0:39:35.\n",
      "  Batch 1,240  of  4,358.    Elapsed: 0:41:02.\n",
      "  Batch 1,280  of  4,358.    Elapsed: 0:42:29.\n",
      "  Batch 1,320  of  4,358.    Elapsed: 0:43:48.\n",
      "  Batch 1,360  of  4,358.    Elapsed: 0:45:00.\n",
      "  Batch 1,400  of  4,358.    Elapsed: 0:46:12.\n",
      "  Batch 1,440  of  4,358.    Elapsed: 0:47:26.\n",
      "  Batch 1,480  of  4,358.    Elapsed: 0:48:37.\n",
      "  Batch 1,520  of  4,358.    Elapsed: 0:49:48.\n",
      "  Batch 1,560  of  4,358.    Elapsed: 0:51:01.\n",
      "  Batch 1,600  of  4,358.    Elapsed: 0:52:12.\n",
      "  Batch 1,640  of  4,358.    Elapsed: 0:53:24.\n",
      "  Batch 1,680  of  4,358.    Elapsed: 0:54:45.\n",
      "  Batch 1,720  of  4,358.    Elapsed: 0:55:58.\n",
      "  Batch 1,760  of  4,358.    Elapsed: 0:57:21.\n",
      "  Batch 1,800  of  4,358.    Elapsed: 0:58:36.\n",
      "  Batch 1,840  of  4,358.    Elapsed: 0:59:52.\n",
      "  Batch 1,880  of  4,358.    Elapsed: 1:01:29.\n",
      "  Batch 1,920  of  4,358.    Elapsed: 1:02:59.\n",
      "  Batch 1,960  of  4,358.    Elapsed: 1:04:12.\n",
      "  Batch 2,000  of  4,358.    Elapsed: 1:05:33.\n",
      "  Batch 2,040  of  4,358.    Elapsed: 1:06:51.\n",
      "  Batch 2,080  of  4,358.    Elapsed: 1:08:10.\n",
      "  Batch 2,120  of  4,358.    Elapsed: 1:09:37.\n",
      "  Batch 2,160  of  4,358.    Elapsed: 1:10:54.\n",
      "  Batch 2,200  of  4,358.    Elapsed: 1:12:17.\n",
      "  Batch 2,240  of  4,358.    Elapsed: 1:13:54.\n",
      "  Batch 2,280  of  4,358.    Elapsed: 1:15:31.\n",
      "  Batch 2,320  of  4,358.    Elapsed: 1:16:57.\n",
      "  Batch 2,360  of  4,358.    Elapsed: 1:18:45.\n",
      "  Batch 2,400  of  4,358.    Elapsed: 1:20:24.\n",
      "  Batch 2,440  of  4,358.    Elapsed: 1:22:00.\n"
     ]
    },
    {
     "name": "stdout",
     "output_type": "stream",
     "text": [
      "  Batch 2,480  of  4,358.    Elapsed: 1:23:38.\n",
      "  Batch 2,520  of  4,358.    Elapsed: 1:25:13.\n",
      "  Batch 2,560  of  4,358.    Elapsed: 1:26:41.\n",
      "  Batch 2,600  of  4,358.    Elapsed: 1:28:20.\n",
      "  Batch 2,640  of  4,358.    Elapsed: 1:29:57.\n",
      "  Batch 2,680  of  4,358.    Elapsed: 1:31:43.\n",
      "  Batch 2,720  of  4,358.    Elapsed: 1:33:19.\n",
      "  Batch 2,760  of  4,358.    Elapsed: 1:34:50.\n",
      "  Batch 2,800  of  4,358.    Elapsed: 1:36:36.\n",
      "  Batch 2,840  of  4,358.    Elapsed: 1:38:10.\n",
      "  Batch 2,880  of  4,358.    Elapsed: 1:39:42.\n",
      "  Batch 2,920  of  4,358.    Elapsed: 1:41:18.\n",
      "  Batch 2,960  of  4,358.    Elapsed: 1:43:02.\n",
      "  Batch 3,000  of  4,358.    Elapsed: 1:44:31.\n",
      "  Batch 3,040  of  4,358.    Elapsed: 1:46:01.\n",
      "  Batch 3,080  of  4,358.    Elapsed: 1:47:39.\n",
      "  Batch 3,120  of  4,358.    Elapsed: 1:49:04.\n",
      "  Batch 3,160  of  4,358.    Elapsed: 1:50:31.\n",
      "  Batch 3,200  of  4,358.    Elapsed: 1:51:52.\n",
      "  Batch 3,240  of  4,358.    Elapsed: 1:53:16.\n",
      "  Batch 3,280  of  4,358.    Elapsed: 1:54:58.\n",
      "  Batch 3,320  of  4,358.    Elapsed: 1:56:42.\n",
      "  Batch 3,360  of  4,358.    Elapsed: 1:58:40.\n",
      "  Batch 3,400  of  4,358.    Elapsed: 2:00:36.\n",
      "  Batch 3,440  of  4,358.    Elapsed: 2:02:21.\n",
      "  Batch 3,480  of  4,358.    Elapsed: 2:04:16.\n",
      "  Batch 3,520  of  4,358.    Elapsed: 2:06:08.\n",
      "  Batch 3,560  of  4,358.    Elapsed: 2:07:49.\n",
      "  Batch 3,600  of  4,358.    Elapsed: 2:10:01.\n",
      "  Batch 3,640  of  4,358.    Elapsed: 2:12:27.\n",
      "  Batch 3,680  of  4,358.    Elapsed: 2:14:51.\n",
      "  Batch 3,720  of  4,358.    Elapsed: 2:17:06.\n",
      "  Batch 3,760  of  4,358.    Elapsed: 2:19:18.\n",
      "  Batch 3,800  of  4,358.    Elapsed: 2:21:34.\n",
      "  Batch 3,840  of  4,358.    Elapsed: 2:23:15.\n",
      "  Batch 3,880  of  4,358.    Elapsed: 2:25:13.\n",
      "  Batch 3,920  of  4,358.    Elapsed: 2:27:14.\n",
      "  Batch 3,960  of  4,358.    Elapsed: 2:29:35.\n",
      "  Batch 4,000  of  4,358.    Elapsed: 2:31:47.\n",
      "  Batch 4,040  of  4,358.    Elapsed: 2:33:56.\n",
      "  Batch 4,080  of  4,358.    Elapsed: 2:36:09.\n",
      "  Batch 4,120  of  4,358.    Elapsed: 2:38:19.\n",
      "  Batch 4,160  of  4,358.    Elapsed: 2:40:23.\n",
      "  Batch 4,200  of  4,358.    Elapsed: 2:42:36.\n",
      "  Batch 4,240  of  4,358.    Elapsed: 2:44:38.\n",
      "  Batch 4,280  of  4,358.    Elapsed: 2:46:32.\n",
      "  Batch 4,320  of  4,358.    Elapsed: 2:49:01.\n",
      "\n",
      "  Average training loss: 1.55\n",
      "  Training epoch took: 2:51:06\n",
      "\n",
      "Running Validation...\n",
      "  Accuracy: 0.39\n",
      "  Validation Loss: 1.52\n",
      "  Validation F1 Score: 0.392\n",
      "  Validation took: 0:00:58\n",
      "\n",
      "Training complete!\n",
      "Total training took 4:15:04 (h:mm:ss)\n"
     ]
    }
   ],
   "source": [
    "# Train and store the training stats in a variable\n",
    "\n",
    "train_stats = BERT_fine_tune_train(classification_model,\n",
    "                                  train_dataloader,\n",
    "                                  validation_dataloader,\n",
    "                                  device,\n",
    "                                   metric,\n",
    "                                   optimizer,\n",
    "                                   scheduler,\n",
    "                                   epochs = n_epochs\n",
    "                                  )"
   ]
  },
  {
   "cell_type": "markdown",
   "id": "83e53582",
   "metadata": {},
   "source": [
    "<h1> Test </h1>\n",
    "\n",
    "~ 8 hrs.\n",
    "\n",
    "Here I report the confusion matrix and f1 score.\n",
    "\n",
    "help from : https://christianbernecker.medium.com/how-to-create-a-confusion-matrix-in-pytorch-38d06a7f04b7"
   ]
  },
  {
   "cell_type": "code",
   "execution_count": 46,
   "id": "c13f5a18",
   "metadata": {},
   "outputs": [
    {
     "name": "stdout",
     "output_type": "stream",
     "text": [
      "\n",
      "Running Validation...\n",
      "  Accuracy: 0.39\n",
      "  Validation Loss: 1.52\n",
      "  Validation F1 Score: 0.392\n",
      "  Validation took: 0:00:44\n"
     ]
    }
   ],
   "source": [
    "test_dataloader = DataLoader(\n",
    "    ds_ts,\n",
    "    sampler = SequentialSampler(ds_vl),\n",
    "    batch_size = batch_size)\n",
    "\n",
    "test_stats = BERT_fine_tune_validation(classification_model, \n",
    "                                validation_dataloader, device,\n",
    "                                metric = F1Score(num_classes = n_classes))"
   ]
  },
  {
   "cell_type": "code",
   "execution_count": 52,
   "id": "4e5ad5c9",
   "metadata": {},
   "outputs": [
    {
     "data": {
      "image/png": "[encoded data removed]",
      "text/plain": [
       "<Figure size 864x504 with 2 Axes>"
      ]
     },
     "metadata": {
      "needs_background": "light"
     },
     "output_type": "display_data"
    }
   ],
   "source": [
    "idx_target = {target_idx[a]:a for a in target_idx.keys()}\n",
    "plot_confusion_matrix(test_stats['y_true'], test_stats['y_pred'], idx_target)"
   ]
  },
  {
   "cell_type": "code",
   "execution_count": 53,
   "id": "8397cbec",
   "metadata": {},
   "outputs": [],
   "source": [
    "cls_model_dir = os.path.join(model_dir,'classifier')\n",
    "cls_state_dict_path = os.path.join(cls_model_dir, f'CLS_{epochs}ep_{max_seq_len}_{LR}LR_NEmasked.pt')\n",
    "cls_model_path = os.path.join(cls_model_dir, f'CLS_{epochs}ep_{max_seq_len}_{LR}_NEmasked_state_dict.pt')\n",
    "\n",
    "torch.save(classification_model.state_dict(), cls_state_dict_path)\n",
    "torch.save(classification_model, cls_model_path)\n",
    "classification_model.save_pretrained(cls_model_dir)"
   ]
  },
  {
   "cell_type": "markdown",
   "id": "d7f6218b",
   "metadata": {},
   "source": [
    "<h2> Findings and Next Steps </h2>\n",
    "\n",
    "Evidenced by false negative rates, it appears that the model is defaulting to German and Spanish, the dominant targets in the corpus. This calls for **regularization** in the next iteration of model training. Also, Dynamic Masking, as used in **RoBERTa**, may assist in pretraining gains. I will try one more round of BERT-base with L2 regularization and lower dropout (0.05) before moving on to RoBERTa and GNN. Although not shown here, four additional epochs of training did not lead to any notable gains."
   ]
  },
  {
   "cell_type": "markdown",
   "id": "c984a48e",
   "metadata": {},
   "source": [
    "<h1> Resources </h1>\n",
    "\n",
    "Bernecker, C. (2021, January 27). How to create a confusion matrix in Pytorch | Medium. Medium; Medium. https://christianbernecker.medium.com/how-to-create-a-confusion-matrix-in-pytorch-38d06a7f04b7\n",
    "\n",
    "Briggs, J. (2021, June 15). How to Fine-Tune BERT Transformer Python | Towards Data Science. Medium; Towards Data Science. https://towardsdatascience.com/how-to-train-bert-aaad00533168\n",
    "\n",
    "McCormick, Chris . (2019, July 22). BERT Fine-Tuning Tutorial with PyTorch · Mccormickml.com. https://mccormickml.com/2019/07/22/BERT-fine-tuning/\n",
    "\n",
    "Mihaila, George . (2015). Bert Inner Workings. Github.io. https://gmihaila.github.io/tutorial_notebooks/bert_inner_workings/\n",
    "\n",
    "PyTorch Forums. (2020, December 7). Train Test Split using SubsetRandomSampler. https://discuss.pytorch.org/t/train-test-split-using-subsetrandomsampler/105447\n",
    "\n",
    "Winastwan, R. (2021, November 10). Text Classification with BERT in PyTorch - Towards Data Science. Medium; Towards Data Science. https://towardsdatascience.com/text-classification-with-bert-in-pytorch-887965e5820f\n",
    "\n"
   ]
  }
 ],
 "metadata": {
  "kernelspec": {
   "display_name": "pyto_env",
   "language": "python",
   "name": "pyto"
  },
  "language_info": {
   "codemirror_mode": {
    "name": "ipython",
    "version": 3
   },
   "file_extension": ".py",
   "mimetype": "text/x-python",
   "name": "python",
   "nbconvert_exporter": "python",
   "pygments_lexer": "ipython3",
   "version": "3.9.13"
  }
 },
 "nbformat": 4,
 "nbformat_minor": 5
}
