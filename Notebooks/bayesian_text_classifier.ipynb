{
 "cells": [
  {
   "cell_type": "code",
   "execution_count": 8,
   "id": "7c00029a",
   "metadata": {},
   "outputs": [],
   "source": [
    "#import pymc as pm\n",
    "import json\n",
    "import numpy as np\n",
    "import os\n",
    "import pandas as pd\n",
    "import random\n",
    "#import tensorflow_probability as tfp\n",
    "#import tensorflow as tf\n",
    "#tfd = tfp.distributions\n",
    "%matplotlib inline\n",
    "import matplotlib.pyplot as plt\n",
    "plt.rcParams['figure.figsize'] = (10, 5)\n",
    "\n"
   ]
  },
  {
   "cell_type": "markdown",
   "id": "d5a2d054",
   "metadata": {},
   "source": [
    "<h1> Loading Data </h1>\n",
    "\n"
   ]
  },
  {
   "cell_type": "markdown",
   "id": "436d7486",
   "metadata": {},
   "source": [
    "Data are unigram counts for each sample in the corpus.\n",
    "tf-idf values were also used for performance comparison."
   ]
  },
  {
   "cell_type": "code",
   "execution_count": 9,
   "id": "5178114a",
   "metadata": {},
   "outputs": [],
   "source": [
    "project_dir = '/Users/paulp/Library/CloudStorage/OneDrive-UniversityofEasternFinland/UEF/Thesis'\n",
    "data_dir = os.path.join(project_dir, 'Data')\n",
    "model_dir = os.path.join(data_dir, 'bayesian_linear_classifier')\n",
    "\n",
    "# load the custom tokenizer\n",
    "os.chdir(data_dir)\n",
    "with open('target_idx.json')as file:\n",
    "    target_idx = json.loads(file.read())\n",
    "idx_target = {target_idx[a]:a for a in target_idx.keys()}\n",
    "\n",
    "os.chdir(data_dir)\n",
    "\n",
    "with open('token_idx_map.json', 'r') as file:\n",
    "    token_idx_map = json.load(file)\n",
    "idx_token_map = {token_idx_map[a]:a for a in token_idx_map.keys()}\n",
    "\n",
    "with open('frequency_data.npy', 'rb') as f:\n",
    "    frequency_data = np.load(f)\n",
    "with open('target_inds.npy', 'rb') as f:\n",
    "    target_inds = np.load(f)\n",
    "with open('k.npy', 'rb') as f:\n",
    "    k = np.load(f)\n",
    "\n",
    "full_dataset = pd.read_csv('masked_data_set.csv')\n",
    "performance_stats = pd.read_csv('performance_stats.csv', header = 0, sep = ',', index_col = 0)"
   ]
  },
  {
   "cell_type": "code",
   "execution_count": null,
   "id": "81434f8e",
   "metadata": {},
   "outputs": [],
   "source": [
    "xtrain_standard = np.divide(x_train, np.sum(x_train, axis =1, keepdims=True))\n",
    "xtest_standard = np.divide(x_test, np.sum(x_test, axis = 1, keepdims=True))"
   ]
  },
  {
   "cell_type": "code",
   "execution_count": null,
   "id": "64979a3c",
   "metadata": {},
   "outputs": [],
   "source": [
    "frequency_data.shape"
   ]
  },
  {
   "cell_type": "code",
   "execution_count": null,
   "id": "c18bfe1d",
   "metadata": {},
   "outputs": [],
   "source": [
    "help(model.fit)"
   ]
  },
  {
   "cell_type": "markdown",
   "id": "e4f5900e",
   "metadata": {},
   "source": [
    "<h1> Easy Implementation </h1>"
   ]
  },
  {
   "cell_type": "code",
   "execution_count": 14,
   "id": "7e0e37da",
   "metadata": {},
   "outputs": [],
   "source": [
    "import seaborn as sns; sns.set()\n",
    "from sklearn.naive_bayes import MultinomialNB\n",
    "from sklearn.feature_extraction.text import TfidfTransformer\n",
    "from sklearn.metrics import confusion_matrix\n",
    "from sklearn.metrics import f1_score\n",
    "from sklearn.pipeline import Pipeline"
   ]
  },
  {
   "cell_type": "code",
   "execution_count": null,
   "id": "9c955fcc",
   "metadata": {},
   "outputs": [],
   "source": []
  },
  {
   "cell_type": "code",
   "execution_count": null,
   "id": "bbc66bff",
   "metadata": {
    "scrolled": false
   },
   "outputs": [],
   "source": [
    "model = MultinomialNB()\n",
    "model.fit(x_train, y_train)\n",
    "preds = model.predict(x_test)\n",
    "\n",
    "mat = confusion_matrix(y_test, preds)\n",
    "sns.heatmap(mat.T, square=True, annot=True, fmt='d', cbar=False,\n",
    "            xticklabels=target_idx.keys(), yticklabels=target_idx.keys())\n",
    "plt.xlabel('true label')\n",
    "plt.ylabel('predicted label');\n",
    "\n",
    "f1_score(y_test, preds, average=\"macro\")"
   ]
  },
  {
   "cell_type": "markdown",
   "id": "b7e8f0d0",
   "metadata": {},
   "source": [
    "With inverse categorical weights:"
   ]
  },
  {
   "cell_type": "code",
   "execution_count": 15,
   "id": "f0a15994",
   "metadata": {},
   "outputs": [
    {
     "ename": "NameError",
     "evalue": "name 'y_train' is not defined",
     "output_type": "error",
     "traceback": [
      "\u001b[0;31m---------------------------------------------------------------------------\u001b[0m",
      "\u001b[0;31mNameError\u001b[0m                                 Traceback (most recent call last)",
      "Cell \u001b[0;32mIn [15], line 1\u001b[0m\n\u001b[0;32m----> 1\u001b[0m counts \u001b[38;5;241m=\u001b[39m np\u001b[38;5;241m.\u001b[39munique(\u001b[43my_train\u001b[49m, return_counts\u001b[38;5;241m=\u001b[39m\u001b[38;5;28;01mTrue\u001b[39;00m)[\u001b[38;5;241m-\u001b[39m\u001b[38;5;241m1\u001b[39m]\n\u001b[1;32m      2\u001b[0m inverse_probs \u001b[38;5;241m=\u001b[39m \u001b[38;5;241m1\u001b[39m\u001b[38;5;241m/\u001b[39mcounts \u001b[38;5;241m/\u001b[39m \u001b[38;5;28msum\u001b[39m(\u001b[38;5;241m1\u001b[39m\u001b[38;5;241m/\u001b[39mcounts)\n\u001b[1;32m      4\u001b[0m weighted_model \u001b[38;5;241m=\u001b[39m MultinomialNB(class_prior \u001b[38;5;241m=\u001b[39m inverse_probs)\n",
      "\u001b[0;31mNameError\u001b[0m: name 'y_train' is not defined"
     ]
    }
   ],
   "source": [
    "counts = np.unique(y_train, return_counts=True)[-1]\n",
    "inverse_probs = 1/counts / sum(1/counts)\n",
    "\n",
    "weighted_model = MultinomialNB(class_prior = inverse_probs)\n",
    "weighted_model.fit(x_train, y_train)\n",
    "preds = weighted_model.predict(x_test)\n",
    "\n",
    "mat = confusion_matrix(y_test, preds)\n",
    "sns.heatmap(mat.T, square=True, annot=True, fmt='d', cbar=False,\n",
    "            xticklabels=target_idx.keys(), yticklabels=target_idx.keys())\n",
    "plt.xlabel('true label')\n",
    "plt.ylabel('predicted label');\n",
    "\n",
    "f1_score(y_test, preds, average=\"macro\")"
   ]
  },
  {
   "cell_type": "code",
   "execution_count": null,
   "id": "625483bd",
   "metadata": {},
   "outputs": [],
   "source": [
    "sorted_features = np.argsort(weighted_model.feature_log_prob_, axis=-1)\n",
    "sorted_features = np.flip(sorted_features, axis=1)\n",
    "[[idx_token_map[a] for a in b] for b in sorted_features]"
   ]
  },
  {
   "cell_type": "code",
   "execution_count": null,
   "id": "c3888016",
   "metadata": {},
   "outputs": [],
   "source": [
    "m = weighted_model.feature_log_prob_.min(axis=0, keepdims=True)\n",
    "n = np.divide(weighted_model.feature_log_prob_, m)"
   ]
  },
  {
   "cell_type": "code",
   "execution_count": null,
   "id": "34de6c16",
   "metadata": {},
   "outputs": [],
   "source": [
    "feature_df = pd.DataFrame(n, columns = [idx_token_map[a] for a in idx_token_map.keys()],\n",
    "            index = [idx_target[a] for a in idx_target.keys()])"
   ]
  },
  {
   "cell_type": "code",
   "execution_count": null,
   "id": "bc207a0b",
   "metadata": {},
   "outputs": [],
   "source": [
    "sort = feature_df.sort_values(by='RU', axis = 1)"
   ]
  },
  {
   "cell_type": "code",
   "execution_count": null,
   "id": "18d8743f",
   "metadata": {},
   "outputs": [],
   "source": [
    "\n",
    "fig = px.imshow(sort, aspect='auto', contrast_rescaling='minmax')#, text_auto=True)\n",
    "fig.show()"
   ]
  },
  {
   "cell_type": "code",
   "execution_count": null,
   "id": "912c1f4e",
   "metadata": {},
   "outputs": [],
   "source": [
    "m = model.feature_log_prob_.min(axis=0, keepdims=True)\n",
    "n = np.divide(model.feature_log_prob_, m)\n",
    "sns.heatmap(n, yticklabels=target_idx.keys())"
   ]
  },
  {
   "cell_type": "markdown",
   "id": "9c8cb9f7",
   "metadata": {},
   "source": [
    "What does the above heatmap say about how individual tokens contribute to the probability of observing a NL target? It seems like Japanese and Chinese learners have more distinct vocabularies. Is this supported by one-vs.-all performance on the given targets?\n",
    "\n",
    "Look at the head of this distributions for more informative features, noting tokens which contrast highly.\n",
    "\n",
    "In the tails, notice the cleft where Russian, Japanese, Spanish and Arabic shift: the log probabilities become stronger in the Russian, and weaker in the other target groups. Doesn't this suggest that sparse tokens are more commonly used by Russian learners \n",
    "\n",
    "Shouldn't you try to run this with tf-idf weighted values, to see how frequency and essay length contribute to the model: $P(w_i \\vert T)$? Russian essays are longer on average, containing more words (higher counts)."
   ]
  },
  {
   "cell_type": "code",
   "execution_count": 16,
   "id": "cc3decc8",
   "metadata": {},
   "outputs": [],
   "source": [
    "from sklearn.feature_extraction.text import TfidfTransformer\n",
    "from sklearn.feature_extraction.text import CountVectorizer\n",
    "from sklearn.pipeline import Pipeline"
   ]
  },
  {
   "cell_type": "code",
   "execution_count": null,
   "id": "dc640d38",
   "metadata": {},
   "outputs": [],
   "source": [
    "tfidf_model = Pipeline([('tfidf', TfidfTransformer()), ('MNNB', MultinomialNB())]).fit(x_train, y_train)\n",
    "preds = tfidf_model.predict(x_test)\n",
    "\n",
    "mat = confusion_matrix(y_test, preds)\n",
    "sns.heatmap(mat.T, square=True, annot=True, fmt='d', cbar=False,\n",
    "            xticklabels=target_idx.keys(), yticklabels=target_idx.keys())\n",
    "plt.xlabel('true label')\n",
    "plt.ylabel('predicted label');\n",
    "\n",
    "f1_score(y_test, preds, average=\"macro\")"
   ]
  },
  {
   "cell_type": "code",
   "execution_count": null,
   "id": "bbeb5747",
   "metadata": {},
   "outputs": [],
   "source": [
    "m = tfidf_model['MNNB'].feature_log_prob_.min(axis=0, keepdims=True)\n",
    "n = np.divide(tfidf_model['MNNB'].feature_log_prob_, m)\n",
    "\n",
    "feature_tfidf = pd.DataFrame(n, columns = [idx_token_map[a] for a in idx_token_map.keys()],\n",
    "            index = [idx_target[a] for a in idx_target.keys()])"
   ]
  },
  {
   "cell_type": "code",
   "execution_count": null,
   "id": "2eb8644f",
   "metadata": {},
   "outputs": [],
   "source": [
    "sort = feature_tfidf.sort_values(by='AR', axis = 1)"
   ]
  },
  {
   "cell_type": "code",
   "execution_count": null,
   "id": "13a902e4",
   "metadata": {},
   "outputs": [],
   "source": [
    "fig = px.imshow(sort, aspect='auto', contrast_rescaling='minmax')#, text_auto=True)\n",
    "fig.show()"
   ]
  },
  {
   "cell_type": "markdown",
   "id": "ad475e77",
   "metadata": {},
   "source": [
    "It appears that about fifty percent of the data needed for accuracy is available in the form of token frequencies. Below I run 10-fold cross-validation on the same 'k' splits as BERT, withholding the validation sets."
   ]
  },
  {
   "cell_type": "code",
   "execution_count": 17,
   "id": "fb47b09a",
   "metadata": {},
   "outputs": [
    {
     "data": {
      "text/plain": [
       "[{'test': 0, 'val': 1, 'train': [2, 3, 4, 5, 6, 7, 8, 9]},\n",
       " {'test': 1, 'val': 2, 'train': [0, 3, 4, 5, 6, 7, 8, 9]},\n",
       " {'test': 2, 'val': 3, 'train': [0, 1, 4, 5, 6, 7, 8, 9]},\n",
       " {'test': 3, 'val': 4, 'train': [0, 1, 2, 5, 6, 7, 8, 9]},\n",
       " {'test': 4, 'val': 5, 'train': [0, 1, 2, 3, 6, 7, 8, 9]},\n",
       " {'test': 5, 'val': 6, 'train': [0, 1, 2, 3, 4, 7, 8, 9]},\n",
       " {'test': 6, 'val': 7, 'train': [0, 1, 2, 3, 4, 5, 8, 9]},\n",
       " {'test': 7, 'val': 8, 'train': [0, 1, 2, 3, 4, 5, 6, 9]},\n",
       " {'test': 8, 'val': 9, 'train': [0, 1, 2, 3, 4, 5, 6, 7]},\n",
       " {'test': 9, 'val': 0, 'train': [1, 2, 3, 4, 5, 6, 7, 8]}]"
      ]
     },
     "execution_count": 17,
     "metadata": {},
     "output_type": "execute_result"
    }
   ],
   "source": [
    "  # get train-val-test split indices\n",
    "j = len(full_dataset['k'].unique())\n",
    "ints = [a for a in range(j)]\n",
    "splits = []\n",
    "all_k_stats = []\n",
    "for a in ints:\n",
    "    split = {}\n",
    "    test = a\n",
    "    split['test'] = test\n",
    "    val = a + 1 if a + 1 in ints else 0\n",
    "    split['val'] = val\n",
    "    train = ints.copy()\n",
    "    train.remove(test)\n",
    "    train.remove(val)\n",
    "    split['train'] = train\n",
    "    splits.append(split)\n",
    "splits"
   ]
  },
  {
   "cell_type": "code",
   "execution_count": null,
   "id": "345c0d05",
   "metadata": {},
   "outputs": [],
   "source": [
    "def train_k_fold_MNB(frequency_data, target_inds, k, tf_idf = False, fit_prior = False, reweight = False):\n",
    "    all_preds = {}\n",
    "    for i in range(len(set(k))):\n",
    "        split = splits[i]\n",
    "\n",
    "        test_features = frequency_data[np.where(k == splits[i]['test']), :].squeeze(0)\n",
    "        test_labels = target_inds[np.where(k == splits[i]['test'])] \n",
    "\n",
    "        train_features = frequency_data[np.where(np.isin(k, splits[0]['train'])), :].squeeze(0)\n",
    "        train_labels = target_inds[np.where(np.isin(k, splits[0]['train']))]\n",
    "\n",
    "        n_samples = train_features.shape[0]\n",
    "        n_features = train_features.shape[1]\n",
    "        \n",
    "        if reweight:\n",
    "            counts = np.unique(targets, return_counts=True)[-1]\n",
    "            inverse_probs = 1/counts / sum(1/counts)\n",
    "        \n",
    "        if tf_idf:\n",
    "            model = Pipeline([('tfidf', TfidfTransformer()), \n",
    "                              ('MNNB', MultinomialNB(fit_prior = fit_prior,\n",
    "                                                    class_prior = inverse_probs if reweight else None))])\n",
    "        else:\n",
    "            model = MultinomialNB(fit_prior = fit_prior,\n",
    "                                 class_prior = inverse_probs if reweight else None)\n",
    "        model.fit(train_features, train_labels)\n",
    "        preds = model.predict(test_features)\n",
    "\n",
    "        f1 = f1_score(test_labels, preds, average = 'macro')\n",
    "        \n",
    "        model_name = 'Näive Bayes: tf-idf' if tf_idf else 'Näive Bayes'\n",
    "        performance_stats.loc[model_name, str(i)] = f1\n",
    "        all_preds[i] = preds\n",
    "    \n",
    "    return all_preds"
   ]
  },
  {
   "cell_type": "code",
   "execution_count": null,
   "id": "2f577920",
   "metadata": {},
   "outputs": [],
   "source": [
    "MNNB_preds = train_k_fold_MNB(frequency_data, target_inds, k, tf_idf = False)"
   ]
  },
  {
   "cell_type": "code",
   "execution_count": null,
   "id": "8814e09a",
   "metadata": {},
   "outputs": [],
   "source": [
    "performance_stats"
   ]
  },
  {
   "cell_type": "markdown",
   "id": "fadaa3f4",
   "metadata": {},
   "source": [
    "<h1> SVM </h1>"
   ]
  },
  {
   "cell_type": "code",
   "execution_count": 18,
   "id": "ec31a732",
   "metadata": {},
   "outputs": [],
   "source": [
    "from sklearn import svm"
   ]
  },
  {
   "cell_type": "code",
   "execution_count": null,
   "id": "6ca32924",
   "metadata": {},
   "outputs": [],
   "source": [
    "help(model)"
   ]
  },
  {
   "cell_type": "code",
   "execution_count": null,
   "id": "8aa41106",
   "metadata": {},
   "outputs": [],
   "source": [
    "model = svm.SVC(kernel = 'poly', degree = 3, class_weight = 'balanced')\n",
    "model.fit(x_train, y_train)\n",
    "preds = model.predict(x_test)\n",
    "\n",
    "mat = confusion_matrix(y_test, preds)\n",
    "sns.heatmap(mat.T, square=True, annot=True, fmt='d', cbar=False,\n",
    "            xticklabels=target_idx.keys(), yticklabels=target_idx.keys())\n",
    "plt.xlabel('true label')\n",
    "plt.ylabel('predicted label');\n",
    "\n",
    "f1_score(y_test, preds, average=\"macro\")"
   ]
  },
  {
   "cell_type": "code",
   "execution_count": null,
   "id": "14a205ab",
   "metadata": {},
   "outputs": [],
   "source": [
    "model = svm.SVC(kernel = 'rbf', class_weight = 'balanced')\n",
    "model.fit(x_train, y_train)\n",
    "\n",
    "preds = model.predict(x_test)\n",
    "\n",
    "mat = confusion_matrix(y_test, preds)\n",
    "sns.heatmap(mat.T, square=True, annot=True, fmt='d', cbar=False,\n",
    "            xticklabels=target_idx.keys(), yticklabels=target_idx.keys())\n",
    "plt.xlabel('true label')\n",
    "plt.ylabel('predicted label');\n",
    "\n",
    "f1_score(y_test, preds, average=\"macro\")"
   ]
  },
  {
   "cell_type": "code",
   "execution_count": null,
   "id": "af2e1a80",
   "metadata": {},
   "outputs": [],
   "source": [
    "model = svm.SVC(kernel = 'poly', degree = 2, class_weight = 'balanced')\n",
    "model.fit(x_train, y_train)\n",
    "\n",
    "preds = model.predict(x_test)\n",
    "\n",
    "mat = confusion_matrix(y_test, preds)\n",
    "sns.heatmap(mat.T, square=True, annot=True, fmt='d', cbar=False,\n",
    "            xticklabels=target_idx.keys(), yticklabels=target_idx.keys())\n",
    "plt.xlabel('true label')\n",
    "plt.ylabel('predicted label');\n",
    "\n",
    "f1_score(y_test, preds, average=\"macro\")"
   ]
  },
  {
   "cell_type": "code",
   "execution_count": null,
   "id": "0241b44d",
   "metadata": {},
   "outputs": [],
   "source": [
    "model = svm.SVC(kernel = 'linear', class_weight = 'balanced')\n",
    "model.fit(x_train, y_train)\n",
    "\n",
    "preds = model.predict(x_test)\n",
    "\n",
    "mat = confusion_matrix(y_test, preds)\n",
    "sns.heatmap(mat.T, square=True, annot=True, fmt='d', cbar=False,\n",
    "            xticklabels=target_idx.keys(), yticklabels=target_idx.keys())\n",
    "plt.xlabel('true label')\n",
    "plt.ylabel('predicted label');\n",
    "\n",
    "f1_score(y_test, preds, average=\"macro\")"
   ]
  },
  {
   "cell_type": "markdown",
   "id": "ff37329e",
   "metadata": {},
   "source": [
    "It looks like the linear kernel is the best. Keeping raw frequencies instead of tf-idf is probably more true to the project, since BERT will also have access to text length. Next, run 10-fold cross-validation on same 'k's as BERT: note that validation sets are witheld from training."
   ]
  },
  {
   "cell_type": "code",
   "execution_count": null,
   "id": "23158716",
   "metadata": {},
   "outputs": [],
   "source": []
  },
  {
   "cell_type": "code",
   "execution_count": null,
   "id": "f827b8f0",
   "metadata": {},
   "outputs": [],
   "source": [
    "def train_k_fold_SVM(frequency_data, \n",
    "                     target_inds, \n",
    "                     k, \n",
    "                     kernel = 'linear', \n",
    "                     class_weight = 'balanced', \n",
    "                     \n",
    "                     tf_idf = False, \n",
    "                     fit_prior = False, \n",
    "                     reweight = False):\n",
    "    all_preds = {}\n",
    "    for i in range(len(set(k))):\n",
    "        split = splits[i]\n",
    "\n",
    "        test_features = frequency_data[np.where(k == splits[i]['test']), :].squeeze(0)\n",
    "        test_labels = target_inds[np.where(k == splits[i]['test'])] \n",
    "\n",
    "        train_features = frequency_data[np.where(np.isin(k, splits[i]['train'])), :].squeeze(0)\n",
    "        train_labels = target_inds[np.where(np.isin(k, splits[i]['train']))]\n",
    "\n",
    "        n_samples = train_features.shape[0]\n",
    "        n_features = train_features.shape[1]\n",
    "        \n",
    "        model = svm.SVC(kernel=kernel,\n",
    "                                 class_weight = class_weight )\n",
    "        model.fit(train_features, train_labels)\n",
    "        preds = model.predict(test_features)\n",
    "\n",
    "        f1 = f1_score(test_labels, preds, average = 'macro')\n",
    "        \n",
    "        model_name = 'Linear SVM: tf-idf' if tf_idf else 'Linear SVM'\n",
    "        performance_stats.loc[model_name, str(i)] = f1\n",
    "        all_preds[i] = preds\n",
    "        \n",
    "    print(performance_stats)\n",
    "    return all_preds"
   ]
  },
  {
   "cell_type": "code",
   "execution_count": 78,
   "id": "4a9d7b86",
   "metadata": {},
   "outputs": [
    {
     "data": {
      "text/plain": [
       "12       True\n",
       "17       True\n",
       "49       True\n",
       "58       True\n",
       "71       True\n",
       "         ... \n",
       "16492    True\n",
       "16497    True\n",
       "16508    True\n",
       "16512    True\n",
       "16519    True\n",
       "Name: Target, Length: 1652, dtype: bool"
      ]
     },
     "execution_count": 78,
     "metadata": {},
     "output_type": "execute_result"
    }
   ],
   "source": [
    "target_inds[np.where(k == splits[3]['test'])] == full_dataset[full_dataset.k == 3]['Target'].apply(lambda x: target_idx[x])"
   ]
  },
  {
   "cell_type": "code",
   "execution_count": 80,
   "id": "119be4f0",
   "metadata": {},
   "outputs": [
    {
     "data": {
      "text/plain": [
       "0        True\n",
       "1        True\n",
       "2        True\n",
       "3        True\n",
       "4        True\n",
       "         ... \n",
       "16517    True\n",
       "16518    True\n",
       "16519    True\n",
       "16520    True\n",
       "16521    True\n",
       "Name: Target, Length: 16522, dtype: bool"
      ]
     },
     "execution_count": 80,
     "metadata": {},
     "output_type": "execute_result"
    }
   ],
   "source": [
    "target_inds == full_dataset['Target'].apply(lambda x: target_idx[x])"
   ]
  },
  {
   "cell_type": "code",
   "execution_count": 83,
   "id": "15eb370e",
   "metadata": {},
   "outputs": [
    {
     "data": {
      "text/plain": [
       "13218"
      ]
     },
     "execution_count": 83,
     "metadata": {},
     "output_type": "execute_result"
    }
   ],
   "source": [
    "len(train_labels)"
   ]
  },
  {
   "cell_type": "code",
   "execution_count": 88,
   "id": "3c4ff1ee",
   "metadata": {},
   "outputs": [
    {
     "data": {
      "text/plain": [
       "[0, 1, 2, 5, 6, 7, 8, 9]"
      ]
     },
     "execution_count": 88,
     "metadata": {},
     "output_type": "execute_result"
    }
   ],
   "source": [
    "splits[3]['train']"
   ]
  },
  {
   "cell_type": "code",
   "execution_count": 92,
   "id": "4a856d6e",
   "metadata": {},
   "outputs": [
    {
     "data": {
      "text/html": [
       "<div>\n",
       "<style scoped>\n",
       "    .dataframe tbody tr th:only-of-type {\n",
       "        vertical-align: middle;\n",
       "    }\n",
       "\n",
       "    .dataframe tbody tr th {\n",
       "        vertical-align: top;\n",
       "    }\n",
       "\n",
       "    .dataframe thead th {\n",
       "        text-align: right;\n",
       "    }\n",
       "</style>\n",
       "<table border=\"1\" class=\"dataframe\">\n",
       "  <thead>\n",
       "    <tr style=\"text-align: right;\">\n",
       "      <th></th>\n",
       "      <th>0</th>\n",
       "      <th>1</th>\n",
       "      <th>2</th>\n",
       "      <th>3</th>\n",
       "      <th>4</th>\n",
       "      <th>5</th>\n",
       "      <th>6</th>\n",
       "      <th>7</th>\n",
       "      <th>8</th>\n",
       "      <th>9</th>\n",
       "      <th>...</th>\n",
       "      <th>1642</th>\n",
       "      <th>1643</th>\n",
       "      <th>1644</th>\n",
       "      <th>1645</th>\n",
       "      <th>1646</th>\n",
       "      <th>1647</th>\n",
       "      <th>1648</th>\n",
       "      <th>1649</th>\n",
       "      <th>1650</th>\n",
       "      <th>1651</th>\n",
       "    </tr>\n",
       "  </thead>\n",
       "  <tbody>\n",
       "    <tr>\n",
       "      <th>SVM_pred</th>\n",
       "      <td>True</td>\n",
       "      <td>True</td>\n",
       "      <td>True</td>\n",
       "      <td>True</td>\n",
       "      <td>True</td>\n",
       "      <td>True</td>\n",
       "      <td>True</td>\n",
       "      <td>True</td>\n",
       "      <td>True</td>\n",
       "      <td>True</td>\n",
       "      <td>...</td>\n",
       "      <td>True</td>\n",
       "      <td>False</td>\n",
       "      <td>True</td>\n",
       "      <td>True</td>\n",
       "      <td>True</td>\n",
       "      <td>True</td>\n",
       "      <td>True</td>\n",
       "      <td>True</td>\n",
       "      <td>False</td>\n",
       "      <td>True</td>\n",
       "    </tr>\n",
       "  </tbody>\n",
       "</table>\n",
       "<p>1 rows × 1652 columns</p>\n",
       "</div>"
      ],
      "text/plain": [
       "          0     1     2     3     4     5     6     7     8     9     ...  \\\n",
       "SVM_pred  True  True  True  True  True  True  True  True  True  True  ...   \n",
       "\n",
       "          1642   1643  1644  1645  1646  1647  1648  1649   1650  1651  \n",
       "SVM_pred  True  False  True  True  True  True  True  True  False  True  \n",
       "\n",
       "[1 rows x 1652 columns]"
      ]
     },
     "execution_count": 92,
     "metadata": {},
     "output_type": "execute_result"
    }
   ],
   "source": [
    "train_labels = target_inds[np.where(np.isin(k, splits[i]['test']))]\n",
    "train_labels == full_dataset[full_dataset.k == 3]['Target'].apply(lambda x: target_idx[x])\n",
    "train_labels == SVM_k3_preds.T"
   ]
  },
  {
   "cell_type": "code",
   "execution_count": 107,
   "id": "bc00db90",
   "metadata": {},
   "outputs": [
    {
     "data": {
      "text/plain": [
       "(13218,)"
      ]
     },
     "execution_count": 107,
     "metadata": {},
     "output_type": "execute_result"
    }
   ],
   "source": [
    "train_labels.shape"
   ]
  },
  {
   "cell_type": "code",
   "execution_count": 108,
   "id": "e4dc4cff",
   "metadata": {},
   "outputs": [
    {
     "data": {
      "text/plain": [
       "12       True\n",
       "17       True\n",
       "49       True\n",
       "58       True\n",
       "71       True\n",
       "         ... \n",
       "16492    True\n",
       "16497    True\n",
       "16508    True\n",
       "16512    True\n",
       "16519    True\n",
       "Name: Target, Length: 1652, dtype: bool"
      ]
     },
     "execution_count": 108,
     "metadata": {},
     "output_type": "execute_result"
    }
   ],
   "source": [
    "test_labels == full_dataset.query('k == 3')['Target'].apply(lambda x: target_idx[x])"
   ]
  },
  {
   "cell_type": "code",
   "execution_count": 99,
   "id": "751f2834",
   "metadata": {},
   "outputs": [],
   "source": [
    "labels1 = target_inds[np.where(np.isin(k, splits[3]['test']))]\n",
    "labels2 = target_inds[np.where(k == splits[3]['test'])]\n"
   ]
  },
  {
   "cell_type": "code",
   "execution_count": 130,
   "id": "4705c04f",
   "metadata": {},
   "outputs": [
    {
     "data": {
      "text/plain": [
       "False"
      ]
     },
     "execution_count": 130,
     "metadata": {},
     "output_type": "execute_result"
    }
   ],
   "source": [
    "len(test_labels) == len(target_inds)"
   ]
  },
  {
   "cell_type": "code",
   "execution_count": 127,
   "id": "114231f6",
   "metadata": {},
   "outputs": [
    {
     "ename": "IndexError",
     "evalue": "too many indices for array: array is 1-dimensional, but 2 were indexed",
     "output_type": "error",
     "traceback": [
      "\u001b[0;31m---------------------------------------------------------------------------\u001b[0m",
      "\u001b[0;31mIndexError\u001b[0m                                Traceback (most recent call last)",
      "Cell \u001b[0;32mIn [127], line 1\u001b[0m\n\u001b[0;32m----> 1\u001b[0m \u001b[43mtest_labels\u001b[49m\u001b[43m[\u001b[49m\u001b[43mnp\u001b[49m\u001b[38;5;241;43m.\u001b[39;49m\u001b[43mwhere\u001b[49m\u001b[43m(\u001b[49m\u001b[43mtarget_inds\u001b[49m\u001b[43m \u001b[49m\u001b[38;5;241;43m==\u001b[39;49m\u001b[43m \u001b[49m\u001b[38;5;241;43m1\u001b[39;49m\u001b[43m)\u001b[49m\u001b[43m,\u001b[49m\u001b[43m:\u001b[49m\u001b[43m]\u001b[49m\n",
      "\u001b[0;31mIndexError\u001b[0m: too many indices for array: array is 1-dimensional, but 2 were indexed"
     ]
    }
   ],
   "source": [
    "test_labels[np.where(target_inds == 1),:]"
   ]
  },
  {
   "cell_type": "code",
   "execution_count": 103,
   "id": "0ba27384",
   "metadata": {},
   "outputs": [
    {
     "data": {
      "text/html": [
       "<div>\n",
       "<style scoped>\n",
       "    .dataframe tbody tr th:only-of-type {\n",
       "        vertical-align: middle;\n",
       "    }\n",
       "\n",
       "    .dataframe tbody tr th {\n",
       "        vertical-align: top;\n",
       "    }\n",
       "\n",
       "    .dataframe thead th {\n",
       "        text-align: right;\n",
       "    }\n",
       "</style>\n",
       "<table border=\"1\" class=\"dataframe\">\n",
       "  <thead>\n",
       "    <tr style=\"text-align: right;\">\n",
       "      <th></th>\n",
       "      <th>test_labels</th>\n",
       "    </tr>\n",
       "  </thead>\n",
       "  <tbody>\n",
       "    <tr>\n",
       "      <th>0</th>\n",
       "      <td>1</td>\n",
       "    </tr>\n",
       "    <tr>\n",
       "      <th>1</th>\n",
       "      <td>0</td>\n",
       "    </tr>\n",
       "    <tr>\n",
       "      <th>2</th>\n",
       "      <td>2</td>\n",
       "    </tr>\n",
       "    <tr>\n",
       "      <th>3</th>\n",
       "      <td>3</td>\n",
       "    </tr>\n",
       "    <tr>\n",
       "      <th>4</th>\n",
       "      <td>1</td>\n",
       "    </tr>\n",
       "    <tr>\n",
       "      <th>...</th>\n",
       "      <td>...</td>\n",
       "    </tr>\n",
       "    <tr>\n",
       "      <th>1647</th>\n",
       "      <td>5</td>\n",
       "    </tr>\n",
       "    <tr>\n",
       "      <th>1648</th>\n",
       "      <td>4</td>\n",
       "    </tr>\n",
       "    <tr>\n",
       "      <th>1649</th>\n",
       "      <td>5</td>\n",
       "    </tr>\n",
       "    <tr>\n",
       "      <th>1650</th>\n",
       "      <td>5</td>\n",
       "    </tr>\n",
       "    <tr>\n",
       "      <th>1651</th>\n",
       "      <td>1</td>\n",
       "    </tr>\n",
       "  </tbody>\n",
       "</table>\n",
       "<p>1652 rows × 1 columns</p>\n",
       "</div>"
      ],
      "text/plain": [
       "      test_labels\n",
       "0               1\n",
       "1               0\n",
       "2               2\n",
       "3               3\n",
       "4               1\n",
       "...           ...\n",
       "1647            5\n",
       "1648            4\n",
       "1649            5\n",
       "1650            5\n",
       "1651            1\n",
       "\n",
       "[1652 rows x 1 columns]"
      ]
     },
     "execution_count": 103,
     "metadata": {},
     "output_type": "execute_result"
    }
   ],
   "source": [
    "test_labels"
   ]
  },
  {
   "cell_type": "code",
   "execution_count": 141,
   "id": "71da9879",
   "metadata": {},
   "outputs": [],
   "source": [
    "i = 3\n",
    "kernel = 'linear'\n",
    "class_weight = 'balanced'\n",
    "tf_idf = False, \n",
    "fit_prior = False, \n",
    "reweight = False\n",
    "#split = splits[i]\n",
    "\n",
    "test_features = frequency_data[np.where(np.isin(k, splits[i]['test'])), :].squeeze(0)\n",
    "test_labels = target_inds[np.where(np.isin(k, splits[i]['test']))] \n",
    "\n",
    "train_features = frequency_data[np.where(np.isin(k, splits[i]['train'])), :].squeeze(0)\n",
    "train_labels = target_inds[np.where(np.isin(k, splits[i]['train']))]\n",
    "\n",
    "n_samples = train_features.shape[0]\n",
    "n_features = train_features.shape[1]\n",
    "\n",
    "model = svm.SVC(kernel=kernel,\n",
    "                         class_weight = class_weight )\n",
    "model.fit(train_features, train_labels)\n",
    "preds = model.predict(test_features)\n",
    "\n",
    "f1 = f1_score(test_labels, preds, average = 'macro')\n",
    "\n",
    "model_name = 'Linear SVM: tf-idf' if tf_idf else 'Linear SVM'\n",
    "#performance_stats.loc[model_name, str(i)] = f1\n",
    "#all_preds[i] = preds"
   ]
  },
  {
   "cell_type": "code",
   "execution_count": 157,
   "id": "a74f3170",
   "metadata": {},
   "outputs": [],
   "source": [
    "with open('SVM_k3_model.pkl', 'wb') as f:\n",
    "    pickle.dump(model, f)"
   ]
  },
  {
   "cell_type": "code",
   "execution_count": 158,
   "id": "293442a0",
   "metadata": {},
   "outputs": [
    {
     "name": "stdout",
     "output_type": "stream",
     "text": [
      "/Users/paulp/Library/CloudStorage/OneDrive-UniversityofEasternFinland/UEF/Thesis/Data/bayesian_linear_classifier\r\n"
     ]
    }
   ],
   "source": [
    "!pwd"
   ]
  },
  {
   "cell_type": "code",
   "execution_count": 145,
   "id": "cc92123b",
   "metadata": {
    "scrolled": true
   },
   "outputs": [
    {
     "data": {
      "text/plain": [
       "0.6180387409200968"
      ]
     },
     "execution_count": 145,
     "metadata": {},
     "output_type": "execute_result"
    }
   ],
   "source": [
    "sum(SVM_k3_preds['SVM_pred'] == test_labels) / len(test_labels)"
   ]
  },
  {
   "cell_type": "code",
   "execution_count": 124,
   "id": "adbda839",
   "metadata": {},
   "outputs": [
    {
     "data": {
      "text/plain": [
       "12       1\n",
       "17       0\n",
       "49       2\n",
       "58       3\n",
       "71       1\n",
       "        ..\n",
       "16492    5\n",
       "16497    4\n",
       "16508    5\n",
       "16512    5\n",
       "16519    1\n",
       "Name: Target, Length: 1652, dtype: int64"
      ]
     },
     "execution_count": 124,
     "metadata": {},
     "output_type": "execute_result"
    }
   ],
   "source": [
    "full_dataset.query('k == 3')['Target'].apply(lambda x: target_idx[x])"
   ]
  },
  {
   "cell_type": "code",
   "execution_count": 125,
   "id": "6b2d1fd2",
   "metadata": {},
   "outputs": [
    {
     "data": {
      "text/plain": [
       "array([1, 0, 2, ..., 5, 5, 1])"
      ]
     },
     "execution_count": 125,
     "metadata": {},
     "output_type": "execute_result"
    }
   ],
   "source": [
    "target_inds[np.where(np.isin(k, splits[3]['test']))]"
   ]
  },
  {
   "cell_type": "code",
   "execution_count": 26,
   "id": "520a2065",
   "metadata": {},
   "outputs": [],
   "source": [
    "SVM_k3_preds = pd.DataFrame(np.expand_dims(preds, axis =1), columns = ['SVM_pred'])\n",
    "SVM_k3_preds.to_csv('SVM_ks_preds.csv')"
   ]
  },
  {
   "cell_type": "code",
   "execution_count": 48,
   "id": "7f7f1502",
   "metadata": {},
   "outputs": [],
   "source": [
    "test_labels = pd.DataFrame(np.expand_dims(test_labels, axis= 1), columns = ['test_labels'])\n",
    "test_labels.to_csv('test_labels.csv')"
   ]
  },
  {
   "cell_type": "code",
   "execution_count": 43,
   "id": "1196cc8c",
   "metadata": {},
   "outputs": [
    {
     "data": {
      "image/png": "[encoded data removed]",
      "text/plain": [
       "<Figure size 1000x500 with 1 Axes>"
      ]
     },
     "metadata": {},
     "output_type": "display_data"
    }
   ],
   "source": [
    "mat = confusion_matrix(test_labels, SVM_k3_preds)\n",
    "sns.heatmap(mat.T, square=True, annot=True, fmt='d', cbar=False,\n",
    "            xticklabels=target_idx.keys(), yticklabels=target_idx.keys())\n",
    "plt.xlabel('true label')\n",
    "plt.ylabel('predicted label');\n",
    "plt.savefig(\"SVM_k3_confusion_matrix.png\",\n",
    "          dpi='figure', \n",
    "          format='png', \n",
    "          metadata=None,\n",
    "    bbox_inches=None, pad_inches=0.1,\n",
    "    facecolor='auto', edgecolor='auto',\n",
    "    backend=None\n",
    "   )"
   ]
  },
  {
   "cell_type": "code",
   "execution_count": 131,
   "id": "8445de0c",
   "metadata": {},
   "outputs": [
    {
     "data": {
      "text/plain": [
       "0.5964963337706496"
      ]
     },
     "execution_count": 131,
     "metadata": {},
     "output_type": "execute_result"
    }
   ],
   "source": [
    "f1"
   ]
  },
  {
   "cell_type": "code",
   "execution_count": 37,
   "id": "0682b62d",
   "metadata": {},
   "outputs": [
    {
     "data": {
      "text/plain": [
       "<Figure size 1000x500 with 0 Axes>"
      ]
     },
     "metadata": {},
     "output_type": "display_data"
    }
   ],
   "source": [
    "plt.savefig('SVM_k3_confusion_matrix', format = 'png')"
   ]
  },
  {
   "cell_type": "code",
   "execution_count": null,
   "id": "4b9f7e22",
   "metadata": {},
   "outputs": [],
   "source": [
    "svm_preds = train_k_fold_SVM(frequency_data, target_inds, k)"
   ]
  },
  {
   "cell_type": "code",
   "execution_count": null,
   "id": "e1cd8d7e",
   "metadata": {},
   "outputs": [],
   "source": [
    "svm_preds_1 = {a:list(svm_preds[a]) for a in svm_preds.keys()}"
   ]
  },
  {
   "cell_type": "code",
   "execution_count": null,
   "id": "eff7eb51",
   "metadata": {},
   "outputs": [],
   "source": [
    "BERT_fls = [0.6265133023262024,\n",
    " 0.6104053258895874,\n",
    " 0.6216707229614258,\n",
    " 0.6053268909454346,\n",
    " 0.5883777141571045,\n",
    " 0.6180387139320374,\n",
    " 0.6240919828414917,\n",
    " 0.611985445022583,\n",
    " 0.6200847029685974,\n",
    " 0.5460048317909241]"
   ]
  },
  {
   "cell_type": "code",
   "execution_count": null,
   "id": "615428a2",
   "metadata": {},
   "outputs": [],
   "source": [
    "performance_stats.to_csv('performance_stats.csv')"
   ]
  },
  {
   "cell_type": "code",
   "execution_count": null,
   "id": "33bc980c",
   "metadata": {},
   "outputs": [],
   "source": [
    "j = json.dumps(svm_preds_1)\n",
    "with open('svm_preds.json', 'w') as f:\n",
    "    f.write(j)"
   ]
  },
  {
   "cell_type": "code",
   "execution_count": null,
   "id": "704b5ed4",
   "metadata": {
    "scrolled": true
   },
   "outputs": [],
   "source": [
    "help(json.dump)"
   ]
  },
  {
   "cell_type": "code",
   "execution_count": null,
   "id": "ad145b59",
   "metadata": {},
   "outputs": [],
   "source": [
    "import plotly.express as px"
   ]
  },
  {
   "cell_type": "code",
   "execution_count": null,
   "id": "172cb89f",
   "metadata": {},
   "outputs": [],
   "source": [
    "help(px.strip)"
   ]
  },
  {
   "cell_type": "code",
   "execution_count": null,
   "id": "386ea384",
   "metadata": {},
   "outputs": [],
   "source": [
    "performance_stats['mean'] = performance_stats.mean(axis=1)\n",
    "performance_stats"
   ]
  },
  {
   "cell_type": "code",
   "execution_count": null,
   "id": "c2c1bca8",
   "metadata": {},
   "outputs": [],
   "source": [
    "px.strip(performance_stats, \n",
    "         x = performance_stats.index, \n",
    "         y = performance_stats.columns,\n",
    "         color = performance_stats.columns)"
   ]
  },
  {
   "cell_type": "code",
   "execution_count": null,
   "id": "fa6d6a9d",
   "metadata": {},
   "outputs": [],
   "source": [
    "performance_stats.round(3).to_csv('performance_stats.csv')"
   ]
  },
  {
   "cell_type": "code",
   "execution_count": null,
   "id": "77916b3c",
   "metadata": {},
   "outputs": [],
   "source": [
    "performance_stats.round(3)"
   ]
  },
  {
   "cell_type": "code",
   "execution_count": null,
   "id": "fe3a8f3e",
   "metadata": {},
   "outputs": [],
   "source": [
    "!pwd"
   ]
  },
  {
   "cell_type": "code",
   "execution_count": null,
   "id": "24ab51f9",
   "metadata": {},
   "outputs": [],
   "source": [
    "performance_stats.iloc[:, 0:9].mean(axis=1)"
   ]
  },
  {
   "cell_type": "code",
   "execution_count": null,
   "id": "a6e4d291",
   "metadata": {},
   "outputs": [],
   "source": [
    "mean_dist = performance_stats.apply(lambda x: np.abs(performance_stats['mean'] - x))"
   ]
  },
  {
   "cell_type": "code",
   "execution_count": null,
   "id": "09e65ca0",
   "metadata": {},
   "outputs": [],
   "source": [
    "mean_dist.drop('mean', axis =1).idxmin(axis=1)"
   ]
  },
  {
   "cell_type": "code",
   "execution_count": null,
   "id": "100cf594",
   "metadata": {},
   "outputs": [],
   "source": [
    "help(mean_dist.min)"
   ]
  },
  {
   "cell_type": "code",
   "execution_count": null,
   "id": "e7133b2f",
   "metadata": {},
   "outputs": [],
   "source": [
    "\n",
    "performance_stats = pd.read_csv('performance_stats.csv')"
   ]
  },
  {
   "cell_type": "code",
   "execution_count": null,
   "id": "1f28d76f",
   "metadata": {},
   "outputs": [],
   "source": [
    "performance_stats.drop('9', axis = 1).mean(axis =1)"
   ]
  },
  {
   "cell_type": "code",
   "execution_count": null,
   "id": "deadfe5f",
   "metadata": {},
   "outputs": [],
   "source": []
  }
 ],
 "metadata": {
  "kernelspec": {
   "display_name": "pyto_env",
   "language": "python",
   "name": "pyto"
  },
  "language_info": {
   "codemirror_mode": {
    "name": "ipython",
    "version": 3
   },
   "file_extension": ".py",
   "mimetype": "text/x-python",
   "name": "python",
   "nbconvert_exporter": "python",
   "pygments_lexer": "ipython3",
   "version": "3.9.13"
  }
 },
 "nbformat": 4,
 "nbformat_minor": 5
}
